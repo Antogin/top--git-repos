{
 "cells": [
  {
   "cell_type": "markdown",
   "metadata": {},
   "source": [
    "# Table Manipulation and Visualization"
   ]
  },
  {
   "cell_type": "markdown",
   "metadata": {},
   "source": [
    "**Materials**: \n",
    "* [Class](https://github.com/Antogin/materials-su19)"
   ]
  },
  {
   "cell_type": "code",
   "execution_count": 7,
   "metadata": {},
   "outputs": [],
   "source": [
    "from datascience import *\n",
    "import numpy as np\n",
    "%matplotlib inline\n",
    "import matplotlib.pyplot as plots\n",
    "plots.style.use('fivethirtyeight')\n",
    "import warnings\n",
    "warnings.simplefilter(action=\"ignore\", category=FutureWarning)\n",
    "\n",
    "from urllib.request import urlopen \n",
    "import re\n",
    "\n",
    "from shutil import unpack_archive"
   ]
  },
  {
   "cell_type": "markdown",
   "metadata": {},
   "source": [
    "## The data set\n",
    "---\n",
    "### Github most starred repos\n",
    "\n",
    "GitHub is the leader in hosting open source projects. For those who are not familiar with open source projects, a group of developers share and contribute to common code to develop software. \n",
    "\n",
    "### Content\n",
    "\n",
    "For this study,we extracted a list of the top starred open source projects. On GitHub, a user may choose the star a repository representing that they “like” the project. For each project, we got the repository username or Organization the project resided in, the repository name, a description, the last updated date, the language of the project, the number of stars, any tags, and finally the url of the project."
   ]
  },
  {
   "cell_type": "markdown",
   "metadata": {},
   "source": [
    "# Part 1: Understanding the dataset"
   ]
  },
  {
   "cell_type": "markdown",
   "metadata": {},
   "source": [
    "### Q1.1: load the dataset"
   ]
  },
  {
   "cell_type": "code",
   "execution_count": 4,
   "metadata": {},
   "outputs": [
    {
     "data": {
      "text/html": [
       "<table border=\"1\" class=\"dataframe\">\n",
       "    <thead>\n",
       "        <tr>\n",
       "            <th>Username</th> <th>Repository Name</th> <th>Description</th> <th>Last Update Date</th> <th>Language</th> <th>Number of Stars</th> <th>Tags</th> <th>Url</th> <th>Number of Forks</th>\n",
       "        </tr>\n",
       "    </thead>\n",
       "    <tbody>\n",
       "        <tr>\n",
       "            <td>freeCodeCamp   </td> <td>freeCodeCamp          </td> <td>The https://freeCodeCamp.com open source codebase and cu ...</td> <td>2017-06-24T15:56:17Z</td> <td>JavaScript</td> <td>290k           </td> <td>nonprofits,certification,curriculum,react,nodejs,javascr ...</td> <td>https://github.com/freeCodeCamp/freeCodeCamp             </td> <td>23262          </td>\n",
       "        </tr>\n",
       "        <tr>\n",
       "            <td>twbs           </td> <td>bootstrap             </td> <td>The most popular HTML, CSS, and JavaScript framework for ...</td> <td>2017-06-24T15:40:21Z</td> <td>JavaScript</td> <td>112k           </td> <td>javascript,css,html,bootstrap,jekyll-site,scss              </td> <td>https://github.com/twbs/bootstrap                        </td> <td>67527          </td>\n",
       "        </tr>\n",
       "        <tr>\n",
       "            <td>EbookFoundation</td> <td>free-programming-books</td> <td> Freely available programming books                         </td> <td>2017-06-23T01:09:34Z</td> <td>nan       </td> <td>87.8k          </td> <td>education,list,books,resource                               </td> <td>https://github.com/EbookFoundation/free-programming-books</td> <td>32974          </td>\n",
       "        </tr>\n",
       "        <tr>\n",
       "            <td>facebook       </td> <td>react                 </td> <td>A declarative, efficient, and flexible JavaScript librar ...</td> <td>2017-06-24T19:33:49Z</td> <td>JavaScript</td> <td>69.7k          </td> <td>nan                                                         </td> <td>https://github.com/facebook/react                        </td> <td>26698          </td>\n",
       "        </tr>\n",
       "        <tr>\n",
       "            <td>d3             </td> <td>d3                    </td> <td>Bring data to life with SVG, Canvas and HTML.               </td> <td>2017-05-31T06:03:47Z</td> <td>JavaScript</td> <td>65.7k          </td> <td>visualization                                               </td> <td>https://github.com/d3/d3                                 </td> <td>21590          </td>\n",
       "        </tr>\n",
       "        <tr>\n",
       "            <td>getify         </td> <td>You-Dont-Know-JS      </td> <td>A book series on JavaScript. @YDKJS on twitter.             </td> <td>2017-06-23T10:42:36Z</td> <td>JavaScript</td> <td>62k            </td> <td>book-series,javascript,training-materials,async,educatio ...</td> <td>https://github.com/getify/You-Dont-Know-JS               </td> <td>22440          </td>\n",
       "        </tr>\n",
       "        <tr>\n",
       "            <td>tensorflow     </td> <td>tensorflow            </td> <td>Computation using data flow graphs for scalable machine  ...</td> <td>2017-06-24T18:25:42Z</td> <td>C++       </td> <td>61.6k          </td> <td>tensorflow,python,machine-learning,deep-neural-networks, ...</td> <td>https://github.com/tensorflow/tensorflow                 </td> <td>78752          </td>\n",
       "        </tr>\n",
       "        <tr>\n",
       "            <td>sindresorhus   </td> <td>awesome               </td> <td> Curated list of awesome lists                              </td> <td>2017-06-24T17:26:02Z</td> <td>nan       </td> <td>60.7k          </td> <td>lists,awesome,unicorns,resources,awesome-list               </td> <td>https://github.com/sindresorhus/awesome                  </td> <td>16014          </td>\n",
       "        </tr>\n",
       "        <tr>\n",
       "            <td>vuejs          </td> <td>vue                   </td> <td>A progressive, incrementally-adoptable JavaScript framew ...</td> <td>2017-06-24T15:38:55Z</td> <td>JavaScript</td> <td>57.7k          </td> <td>javascript,vue,framework,frontend                           </td> <td>https://github.com/vuejs/vue                             </td> <td>22841          </td>\n",
       "        </tr>\n",
       "        <tr>\n",
       "            <td>angular        </td> <td>angular.js            </td> <td>AngularJS - HTML enhanced for web apps!                     </td> <td>2017-06-24T06:25:23Z</td> <td>JavaScript</td> <td>56.2k          </td> <td>nan                                                         </td> <td>https://github.com/angular/angular.js                    </td> <td>28853          </td>\n",
       "        </tr>\n",
       "    </tbody>\n",
       "</table>\n",
       "<p>... (970 rows omitted)</p>"
      ],
      "text/plain": [
       "Username        | Repository Name        | Description                                                  | Last Update Date     | Language   | Number of Stars | Tags                                                         | Url                                                       | Number of Forks\n",
       "freeCodeCamp    | freeCodeCamp           | The https://freeCodeCamp.com open source codebase and cu ... | 2017-06-24T15:56:17Z | JavaScript | 290k            | nonprofits,certification,curriculum,react,nodejs,javascr ... | https://github.com/freeCodeCamp/freeCodeCamp              | 23262\n",
       "twbs            | bootstrap              | The most popular HTML, CSS, and JavaScript framework for ... | 2017-06-24T15:40:21Z | JavaScript | 112k            | javascript,css,html,bootstrap,jekyll-site,scss               | https://github.com/twbs/bootstrap                         | 67527\n",
       "EbookFoundation | free-programming-books |  Freely available programming books                          | 2017-06-23T01:09:34Z | nan        | 87.8k           | education,list,books,resource                                | https://github.com/EbookFoundation/free-programming-books | 32974\n",
       "facebook        | react                  | A declarative, efficient, and flexible JavaScript librar ... | 2017-06-24T19:33:49Z | JavaScript | 69.7k           | nan                                                          | https://github.com/facebook/react                         | 26698\n",
       "d3              | d3                     | Bring data to life with SVG, Canvas and HTML.                | 2017-05-31T06:03:47Z | JavaScript | 65.7k           | visualization                                                | https://github.com/d3/d3                                  | 21590\n",
       "getify          | You-Dont-Know-JS       | A book series on JavaScript. @YDKJS on twitter.              | 2017-06-23T10:42:36Z | JavaScript | 62k             | book-series,javascript,training-materials,async,educatio ... | https://github.com/getify/You-Dont-Know-JS                | 22440\n",
       "tensorflow      | tensorflow             | Computation using data flow graphs for scalable machine  ... | 2017-06-24T18:25:42Z | C++        | 61.6k           | tensorflow,python,machine-learning,deep-neural-networks, ... | https://github.com/tensorflow/tensorflow                  | 78752\n",
       "sindresorhus    | awesome                |  Curated list of awesome lists                               | 2017-06-24T17:26:02Z | nan        | 60.7k           | lists,awesome,unicorns,resources,awesome-list                | https://github.com/sindresorhus/awesome                   | 16014\n",
       "vuejs           | vue                    | A progressive, incrementally-adoptable JavaScript framew ... | 2017-06-24T15:38:55Z | JavaScript | 57.7k           | javascript,vue,framework,frontend                            | https://github.com/vuejs/vue                              | 22841\n",
       "angular         | angular.js             | AngularJS - HTML enhanced for web apps!                      | 2017-06-24T06:25:23Z | JavaScript | 56.2k           | nan                                                          | https://github.com/angular/angular.js                     | 28853\n",
       "... (970 rows omitted)"
      ]
     },
     "execution_count": 4,
     "metadata": {},
     "output_type": "execute_result"
    }
   ],
   "source": [
    "repos = Table.read_table('TopRatedRepos.csv')\n",
    "repos"
   ]
  },
  {
   "cell_type": "markdown",
   "metadata": {},
   "source": [
    "### Q1.2: How many rows does or dataset have?\n",
    "\n"
   ]
  },
  {
   "cell_type": "code",
   "execution_count": 5,
   "metadata": {},
   "outputs": [
    {
     "data": {
      "text/plain": [
       "980"
      ]
     },
     "execution_count": 5,
     "metadata": {},
     "output_type": "execute_result"
    }
   ],
   "source": [
    "num_rows = repos.num_rows\n",
    "num_rows"
   ]
  },
  {
   "cell_type": "markdown",
   "metadata": {},
   "source": [
    "### Q1.3: Create a table with only python projects\n",
    "\n",
    "Top projects are dominated by Javascript projects, let's show python some love!\n",
    "\n",
    "Hint use `where`"
   ]
  },
  {
   "cell_type": "code",
   "execution_count": 8,
   "metadata": {},
   "outputs": [
    {
     "data": {
      "text/html": [
       "<table border=\"1\" class=\"dataframe\">\n",
       "    <thead>\n",
       "        <tr>\n",
       "            <th>Username</th> <th>Repository Name</th> <th>Description</th> <th>Last Update Date</th> <th>Language</th> <th>Number of Stars</th> <th>Tags</th> <th>Url</th> <th>Number of Forks</th>\n",
       "        </tr>\n",
       "    </thead>\n",
       "    <tbody>\n",
       "        <tr>\n",
       "            <td>vinta        </td> <td>awesome-python             </td> <td>A curated list of awesome Python frameworks, libraries,  ...</td> <td>2017-06-18T09:43:08Z</td> <td>Python  </td> <td>35.3k          </td> <td>python,awesome,collections                                  </td> <td>https://github.com/vinta/awesome-python                 </td> <td>14983          </td>\n",
       "        </tr>\n",
       "        <tr>\n",
       "            <td>jakubroztocil</td> <td>httpie                     </td> <td>Modern command line HTTP client  user-friendly curl alte ...</td> <td>2017-06-18T06:18:33Z</td> <td>Python  </td> <td>30.2k          </td> <td>python,debugging,cli,http,client,json,development,termin ...</td> <td>https://github.com/jakubroztocil/httpie                 </td> <td>2881           </td>\n",
       "        </tr>\n",
       "        <tr>\n",
       "            <td>nvbn         </td> <td>thefuck                    </td> <td>Magnificent app which corrects your previous console com ...</td> <td>2017-06-19T21:12:47Z</td> <td>Python  </td> <td>28.6k          </td> <td>python,shell                                                </td> <td>https://github.com/nvbn/thefuck                         </td> <td>2524           </td>\n",
       "        </tr>\n",
       "        <tr>\n",
       "            <td>pallets      </td> <td>flask                      </td> <td>A microframework based on Werkzeug, Jinja2 and good inte ...</td> <td>2017-06-21T23:13:36Z</td> <td>Python  </td> <td>27.8k          </td> <td>python,flask,web-framework,wsgi,jinja,werkzeug              </td> <td>https://github.com/pallets/flask                        </td> <td>13090          </td>\n",
       "        </tr>\n",
       "        <tr>\n",
       "            <td>rg3          </td> <td>youtube-dl                 </td> <td>Command-line program to download videos from YouTube.com ...</td> <td>2017-06-24T19:15:47Z</td> <td>Python  </td> <td>26.9k          </td> <td>nan                                                         </td> <td>https://github.com/rg3/youtube-dl                       </td> <td>10095          </td>\n",
       "        </tr>\n",
       "        <tr>\n",
       "            <td>django       </td> <td>django                     </td> <td>The Web framework for perfectionists with deadlines.        </td> <td>2017-06-24T14:49:32Z</td> <td>Python  </td> <td>26.4k          </td> <td>python,django,views,framework,orm,web,apps,templates,models </td> <td>https://github.com/django/django                        </td> <td>19659          </td>\n",
       "        </tr>\n",
       "        <tr>\n",
       "            <td>requests     </td> <td>requests                   </td> <td>Python HTTP Requests for Humans                             </td> <td>2017-06-16T22:31:24Z</td> <td>Python  </td> <td>25.7k          </td> <td>python,http,requests,forhumans,kennethreitz                 </td> <td>https://github.com/requests/requests                    </td> <td>7446           </td>\n",
       "        </tr>\n",
       "        <tr>\n",
       "            <td>ansible      </td> <td>ansible                    </td> <td>Ansible is a radically simple IT automation platform tha ...</td> <td>2017-06-24T19:07:24Z</td> <td>Python  </td> <td>23.9k          </td> <td>python,ansible                                              </td> <td>https://github.com/ansible/ansible                      </td> <td>17583          </td>\n",
       "        </tr>\n",
       "        <tr>\n",
       "            <td>josephmisiti </td> <td>awesome-machine-learning   </td> <td>A curated list of awesome Machine Learning frameworks, l ...</td> <td>2017-06-24T16:58:31Z</td> <td>Python  </td> <td>23.7k          </td> <td>nan                                                         </td> <td>https://github.com/josephmisiti/awesome-machine-learning</td> <td>10809          </td>\n",
       "        </tr>\n",
       "        <tr>\n",
       "            <td>minimaxir    </td> <td>big-list-of-naughty-strings</td> <td>The Big List of Naughty Strings is a list of strings whi ...</td> <td>2017-05-26T17:09:45Z</td> <td>Python  </td> <td>21.2k          </td> <td>nan                                                         </td> <td>https://github.com/minimaxir/big-list-of-naughty-strings</td> <td>1454           </td>\n",
       "        </tr>\n",
       "    </tbody>\n",
       "</table>\n",
       "<p>... (53 rows omitted)</p>"
      ],
      "text/plain": [
       "Username      | Repository Name             | Description                                                  | Last Update Date     | Language | Number of Stars | Tags                                                         | Url                                                      | Number of Forks\n",
       "vinta         | awesome-python              | A curated list of awesome Python frameworks, libraries,  ... | 2017-06-18T09:43:08Z | Python   | 35.3k           | python,awesome,collections                                   | https://github.com/vinta/awesome-python                  | 14983\n",
       "jakubroztocil | httpie                      | Modern command line HTTP client  user-friendly curl alte ... | 2017-06-18T06:18:33Z | Python   | 30.2k           | python,debugging,cli,http,client,json,development,termin ... | https://github.com/jakubroztocil/httpie                  | 2881\n",
       "nvbn          | thefuck                     | Magnificent app which corrects your previous console com ... | 2017-06-19T21:12:47Z | Python   | 28.6k           | python,shell                                                 | https://github.com/nvbn/thefuck                          | 2524\n",
       "pallets       | flask                       | A microframework based on Werkzeug, Jinja2 and good inte ... | 2017-06-21T23:13:36Z | Python   | 27.8k           | python,flask,web-framework,wsgi,jinja,werkzeug               | https://github.com/pallets/flask                         | 13090\n",
       "rg3           | youtube-dl                  | Command-line program to download videos from YouTube.com ... | 2017-06-24T19:15:47Z | Python   | 26.9k           | nan                                                          | https://github.com/rg3/youtube-dl                        | 10095\n",
       "django        | django                      | The Web framework for perfectionists with deadlines.         | 2017-06-24T14:49:32Z | Python   | 26.4k           | python,django,views,framework,orm,web,apps,templates,models  | https://github.com/django/django                         | 19659\n",
       "requests      | requests                    | Python HTTP Requests for Humans                              | 2017-06-16T22:31:24Z | Python   | 25.7k           | python,http,requests,forhumans,kennethreitz                  | https://github.com/requests/requests                     | 7446\n",
       "ansible       | ansible                     | Ansible is a radically simple IT automation platform tha ... | 2017-06-24T19:07:24Z | Python   | 23.9k           | python,ansible                                               | https://github.com/ansible/ansible                       | 17583\n",
       "josephmisiti  | awesome-machine-learning    | A curated list of awesome Machine Learning frameworks, l ... | 2017-06-24T16:58:31Z | Python   | 23.7k           | nan                                                          | https://github.com/josephmisiti/awesome-machine-learning | 10809\n",
       "minimaxir     | big-list-of-naughty-strings | The Big List of Naughty Strings is a list of strings whi ... | 2017-05-26T17:09:45Z | Python   | 21.2k           | nan                                                          | https://github.com/minimaxir/big-list-of-naughty-strings | 1454\n",
       "... (53 rows omitted)"
      ]
     },
     "execution_count": 8,
     "metadata": {},
     "output_type": "execute_result"
    }
   ],
   "source": [
    "pythonProjects = repos.where('Language', are.equal_to('Python'))\n",
    "pythonProjects"
   ]
  },
  {
   "cell_type": "markdown",
   "metadata": {},
   "source": [
    "### Q1.4: Filter our data\n",
    "\n",
    "For this exercie we are mostly going to focus on `Username`, `Repository Name`, `Language`, `Number of Forks` and `Number of Stars`.\n",
    "Create a table with only those values\n",
    "\n",
    "Hint use `select`"
   ]
  },
  {
   "cell_type": "code",
   "execution_count": 11,
   "metadata": {},
   "outputs": [
    {
     "data": {
      "text/html": [
       "<table border=\"1\" class=\"dataframe\">\n",
       "    <thead>\n",
       "        <tr>\n",
       "            <th>Username</th> <th>Repository Name</th> <th>Language</th> <th>Number of Forks</th> <th>Number of Stars</th>\n",
       "        </tr>\n",
       "    </thead>\n",
       "    <tbody>\n",
       "        <tr>\n",
       "            <td>freeCodeCamp   </td> <td>freeCodeCamp          </td> <td>JavaScript</td> <td>23262          </td> <td>290k           </td>\n",
       "        </tr>\n",
       "        <tr>\n",
       "            <td>twbs           </td> <td>bootstrap             </td> <td>JavaScript</td> <td>67527          </td> <td>112k           </td>\n",
       "        </tr>\n",
       "        <tr>\n",
       "            <td>EbookFoundation</td> <td>free-programming-books</td> <td>nan       </td> <td>32974          </td> <td>87.8k          </td>\n",
       "        </tr>\n",
       "        <tr>\n",
       "            <td>facebook       </td> <td>react                 </td> <td>JavaScript</td> <td>26698          </td> <td>69.7k          </td>\n",
       "        </tr>\n",
       "        <tr>\n",
       "            <td>d3             </td> <td>d3                    </td> <td>JavaScript</td> <td>21590          </td> <td>65.7k          </td>\n",
       "        </tr>\n",
       "        <tr>\n",
       "            <td>getify         </td> <td>You-Dont-Know-JS      </td> <td>JavaScript</td> <td>22440          </td> <td>62k            </td>\n",
       "        </tr>\n",
       "        <tr>\n",
       "            <td>tensorflow     </td> <td>tensorflow            </td> <td>C++       </td> <td>78752          </td> <td>61.6k          </td>\n",
       "        </tr>\n",
       "        <tr>\n",
       "            <td>sindresorhus   </td> <td>awesome               </td> <td>nan       </td> <td>16014          </td> <td>60.7k          </td>\n",
       "        </tr>\n",
       "        <tr>\n",
       "            <td>vuejs          </td> <td>vue                   </td> <td>JavaScript</td> <td>22841          </td> <td>57.7k          </td>\n",
       "        </tr>\n",
       "        <tr>\n",
       "            <td>angular        </td> <td>angular.js            </td> <td>JavaScript</td> <td>28853          </td> <td>56.2k          </td>\n",
       "        </tr>\n",
       "    </tbody>\n",
       "</table>\n",
       "<p>... (970 rows omitted)</p>"
      ],
      "text/plain": [
       "Username        | Repository Name        | Language   | Number of Forks | Number of Stars\n",
       "freeCodeCamp    | freeCodeCamp           | JavaScript | 23262           | 290k\n",
       "twbs            | bootstrap              | JavaScript | 67527           | 112k\n",
       "EbookFoundation | free-programming-books | nan        | 32974           | 87.8k\n",
       "facebook        | react                  | JavaScript | 26698           | 69.7k\n",
       "d3              | d3                     | JavaScript | 21590           | 65.7k\n",
       "getify          | You-Dont-Know-JS       | JavaScript | 22440           | 62k\n",
       "tensorflow      | tensorflow             | C++        | 78752           | 61.6k\n",
       "sindresorhus    | awesome                | nan        | 16014           | 60.7k\n",
       "vuejs           | vue                    | JavaScript | 22841           | 57.7k\n",
       "angular         | angular.js             | JavaScript | 28853           | 56.2k\n",
       "... (970 rows omitted)"
      ]
     },
     "execution_count": 11,
     "metadata": {},
     "output_type": "execute_result"
    }
   ],
   "source": [
    "cleanData = repos.select(\"Username\", \"Repository Name\", \"Language\", \"Number of Forks\", \"Number of Stars\")\n",
    "cleanData"
   ]
  },
  {
   "cell_type": "markdown",
   "metadata": {},
   "source": [
    "---"
   ]
  },
  {
   "cell_type": "markdown",
   "metadata": {},
   "source": [
    "# Part 2: Clean up"
   ]
  },
  {
   "cell_type": "markdown",
   "metadata": {},
   "source": [
    "### Q2.1: What is type of the column Number of Stars?\n",
    "\n",
    "Hint Lab04 `Q1.1`"
   ]
  },
  {
   "cell_type": "code",
   "execution_count": 12,
   "metadata": {},
   "outputs": [
    {
     "data": {
      "text/plain": [
       "str"
      ]
     },
     "execution_count": 12,
     "metadata": {},
     "output_type": "execute_result"
    }
   ],
   "source": [
    "typeOfNumberOfStars = type(repos.column(\"Number of Stars\").item(0))\n",
    "typeOfNumberOfStars"
   ]
  },
  {
   "cell_type": "markdown",
   "metadata": {},
   "source": [
    "### Q2.2: Create a python function that turns the string `290k` into a float\n",
    "\n",
    "Hint lab04 `Q1.4`"
   ]
  },
  {
   "cell_type": "code",
   "execution_count": 13,
   "metadata": {},
   "outputs": [
    {
     "data": {
      "text/plain": [
       "'290k'"
      ]
     },
     "execution_count": 13,
     "metadata": {},
     "output_type": "execute_result"
    }
   ],
   "source": [
    "d3Stars = '290k'\n",
    "d3Stars"
   ]
  },
  {
   "cell_type": "code",
   "execution_count": 20,
   "metadata": {},
   "outputs": [],
   "source": [
    "def toFloat(starts):\n",
    "    return float(starts.strip('k'))*1000"
   ]
  },
  {
   "cell_type": "code",
   "execution_count": 18,
   "metadata": {},
   "outputs": [
    {
     "data": {
      "text/plain": [
       "True"
      ]
     },
     "execution_count": 18,
     "metadata": {},
     "output_type": "execute_result"
    }
   ],
   "source": [
    "toFloat(d3Stars) == 290000"
   ]
  },
  {
   "cell_type": "code",
   "execution_count": null,
   "metadata": {},
   "outputs": [],
   "source": [
    "### this should return True\n",
    "toFloat(d3Stars) == 65700"
   ]
  },
  {
   "cell_type": "code",
   "execution_count": null,
   "metadata": {},
   "outputs": [],
   "source": []
  },
  {
   "cell_type": "markdown",
   "metadata": {},
   "source": [
    "### Q2.3: Apply that function to the `Number of Stars` column\n",
    "\n",
    "Hint: Lab04 `Q3.1`"
   ]
  },
  {
   "cell_type": "code",
   "execution_count": 21,
   "metadata": {},
   "outputs": [
    {
     "data": {
      "text/plain": [
       "array([290000., 112000.,  87800.,  69700.,  65700.,  62000.,  61600.,\n",
       "        60700.,  57700.,  56200.,  55200.,  54100.,  51600.,  50900.,\n",
       "        50000.,  47200.,  46300.,  45300.,  44900.,  44300.,  42800.,\n",
       "        39100.,  37800.,  37700.,  37600.,  36400.,  36400.,  36100.,\n",
       "        35600.,  35300.,  35200.,  33800.,  33600.,  32900.,  32500.,\n",
       "        32000.,  31900.,  31800.,  31800.,  31000.,  30700.,  30200.,\n",
       "        30200.,  30100.,  30100.,  29600.,  29400.,  29400.,  29400.,\n",
       "        29200.,  29100.,  29000.,  28600.,  28200.,  27800.,  27800.,\n",
       "        27800.,  27600.,  27200.,  26900.,  26900.,  26700.,  26600.,\n",
       "        26600.,  26400.,  26400.,  25900.,  25700.,  25700.,  25300.,\n",
       "        25200.,  24400.,  24300.,  24300.,  24100.,  24000.,  23900.,\n",
       "        23900.,  23800.,  23700.,  23600.,  23600.,  23400.,  23300.,\n",
       "        23200.,  23200.,  23100.,  23000.,  23000.,  22900.,  22800.,\n",
       "        22500.,  22500.,  22300.,  22300.,  22000.,  21900.,  21900.,\n",
       "        21900.,  21800.,  21600.,  21600.,  21500.,  21300.,  21200.,\n",
       "        21200.,  20900.,  20900.,  20700.,  20600.,  20600.,  20500.,\n",
       "        20400.,  20400.,  20100.,  20000.,  19900.,  19800.,  19800.,\n",
       "        19700.,  19500.,  19500.,  19500.,  19500.,  19400.,  19300.,\n",
       "        19300.,  19200.,  19200.,  19200.,  19100.,  18900.,  18800.,\n",
       "        18700.,  18700.,  18700.,  18600.,  18600.,  18600.,  18300.,\n",
       "        18300.,  18200.,  18200.,  18000.,  18000.,  18000.,  18000.,\n",
       "        17800.,  17800.,  17800.,  17600.,  17600.,  17600.,  17500.,\n",
       "        17500.,  17400.,  17400.,  17300.,  17300.,  17200.,  17200.,\n",
       "        17200.,  17100.,  17100.,  17000.,  17000.,  17000.,  17000.,\n",
       "        16900.,  16900.,  16900.,  16800.,  16700.,  16700.,  16600.,\n",
       "        16600.,  16600.,  16500.,  16500.,  16500.,  16500.,  16400.,\n",
       "        16400.,  16400.,  16400.,  16400.,  16300.,  16300.,  16100.,\n",
       "        16100.,  16100.,  16100.,  15900.,  15900.,  15900.,  15700.,\n",
       "        15700.,  15700.,  15700.,  15600.,  15600.,  15600.,  15500.,\n",
       "        15500.,  15400.,  15400.,  15400.,  15300.,  15200.,  15200.,\n",
       "        15200.,  15100.,  15100.,  15100.,  15100.,  15100.,  15000.,\n",
       "        14900.,  14900.,  14900.,  14900.,  14800.,  14800.,  14800.,\n",
       "        14800.,  14800.,  14700.,  14700.,  14700.,  14700.,  14700.,\n",
       "        14700.,  14600.,  14600.,  14600.,  14600.,  14600.,  14500.,\n",
       "        14400.,  14400.,  14400.,  14300.,  14300.,  14300.,  14200.,\n",
       "        14200.,  14200.,  14200.,  14100.,  14100.,  14100.,  14000.,\n",
       "        14000.,  14000.,  14000.,  14000.,  13900.,  13900.,  13900.,\n",
       "        13800.,  13800.,  13800.,  13800.,  13700.,  13700.,  13700.,\n",
       "        13600.,  13600.,  13600.,  13600.,  13500.,  13500.,  13500.,\n",
       "        13400.,  13400.,  13400.,  13400.,  13400.,  13400.,  13300.,\n",
       "        13300.,  13300.,  13300.,  13200.,  13200.,  13100.,  13100.,\n",
       "        13100.,  13000.,  13000.,  13000.,  13000.,  13000.,  12900.,\n",
       "        12900.,  12800.,  12800.,  12800.,  12800.,  12700.,  12700.,\n",
       "        12600.,  12600.,  12600.,  12600.,  12600.,  12600.,  12600.,\n",
       "        12500.,  12500.,  12500.,  12500.,  12400.,  12400.,  12400.,\n",
       "        12400.,  12400.,  12300.,  12300.,  12200.,  12200.,  12200.,\n",
       "        12200.,  12200.,  12200.,  12100.,  12100.,  12100.,  12100.,\n",
       "        12000.,  12000.,  12000.,  12000.,  11900.,  11800.,  11800.,\n",
       "        11700.,  11700.,  11700.,  11700.,  11700.,  11700.,  11700.,\n",
       "        11700.,  11600.,  11600.,  11600.,  11600.,  11600.,  11500.,\n",
       "        11500.,  11500.,  11500.,  11500.,  11500.,  11400.,  11400.,\n",
       "        11300.,  11300.,  11300.,  11300.,  11200.,  11200.,  11200.,\n",
       "        11200.,  11200.,  11200.,  11100.,  11100.,  11100.,  11000.,\n",
       "        11000.,  11000.,  10900.,  10900.,  10900.,  10900.,  10900.,\n",
       "        10900.,  10900.,  10900.,  10900.,  10800.,  10800.,  10800.,\n",
       "        10800.,  10700.,  10700.,  10700.,  10700.,  10600.,  10600.,\n",
       "        10600.,  10600.,  10600.,  10600.,  10500.,  10500.,  10500.,\n",
       "        10500.,  10500.,  10500.,  10500.,  10500.,  10500.,  10500.,\n",
       "        10500.,  10500.,  10400.,  10400.,  10400.,  10400.,  10400.,\n",
       "        10400.,  10400.,  10400.,  10400.,  10400.,  10300.,  10300.,\n",
       "        10100.,  10000.,  10000.,  10000.,  10000.,  10000.,  10000.,\n",
       "        10000.,  10000.,  10000.,  10000.,  10000.,  10000.,  10000.,\n",
       "        10000.,  10000.,   9900.,   9900.,   9900.,   9900.,   9900.,\n",
       "         9900.,   9900.,   9900.,   9900.,   9900.,   9800.,   9800.,\n",
       "         9800.,   9800.,   9800.,   9800.,   9800.,   9800.,   9800.,\n",
       "         9800.,   9800.,   9700.,   9700.,   9700.,   9700.,   9700.,\n",
       "         9700.,   9700.,   9700.,   9700.,   9700.,   9700.,   9700.,\n",
       "         9700.,   9700.,   9700.,   9600.,   9600.,   9600.,   9600.,\n",
       "         9600.,   9600.,   9600.,   9600.,   9600.,   9600.,   9600.,\n",
       "         9500.,   9500.,   9500.,   9500.,   9500.,   9500.,   9500.,\n",
       "         9500.,   9500.,   9500.,   9500.,   9500.,   9500.,   9500.,\n",
       "         9500.,   9400.,   9400.,   9400.,   9400.,   9400.,   9400.,\n",
       "         9400.,   9400.,   9400.,   9400.,   9400.,   9400.,   9400.,\n",
       "         9300.,   9300.,   9300.,   9300.,   9300.,   9300.,   9300.,\n",
       "         9300.,   9300.,   9200.,   9200.,   9200.,   9200.,   9200.,\n",
       "         9200.,   9200.,   9200.,   9200.,   9200.,   9200.,   9200.,\n",
       "         9200.,   9200.,   9200.,   9200.,   9100.,   9100.,   9100.,\n",
       "         9100.,   9100.,   9100.,   9100.,   9100.,   9100.,   9100.,\n",
       "         9100.,   9100.,   9100.,   9000.,   9000.,   9000.,   9000.,\n",
       "         9000.,   9000.,   9000.,   9000.,   9000.,   9000.,   9000.,\n",
       "         9000.,   9000.,   8900.,   8900.,   8900.,   8900.,   8900.,\n",
       "         8900.,   8900.,   8900.,   8900.,   8900.,   8800.,   8800.,\n",
       "         8800.,   8800.,   8800.,   8800.,   8800.,   8800.,   8800.,\n",
       "         8700.,   8700.,   8700.,   8700.,   8700.,   8700.,   8700.,\n",
       "         8700.,   8700.,   8600.,   8600.,   8600.,   8600.,   8600.,\n",
       "         8600.,   8600.,   8600.,   8600.,   8600.,   8600.,   8600.,\n",
       "         8500.,   8500.,   8500.,   8500.,   8500.,   8500.,   8500.,\n",
       "         8500.,   8500.,   8400.,   8400.,   8400.,   8400.,   8400.,\n",
       "         8400.,   8400.,   8400.,   8400.,   8400.,   8400.,   8400.,\n",
       "         8400.,   8400.,   8400.,   8400.,   8300.,   8300.,   8300.,\n",
       "         8300.,   8300.,   8300.,   8300.,   8300.,   8300.,   8300.,\n",
       "         8300.,   8300.,   8300.,   8300.,   8300.,   8200.,   8200.,\n",
       "         8200.,   8200.,   8200.,   8200.,   8200.,   8200.,   8200.,\n",
       "         8200.,   8200.,   8200.,   8200.,   8200.,   8200.,   8200.,\n",
       "         8200.,   8200.,   8200.,   8200.,   8100.,   8100.,   8100.,\n",
       "         8100.,   8100.,   8100.,   8100.,   8100.,   8100.,   8000.,\n",
       "         8000.,   8000.,   8000.,   8000.,   8000.,   8000.,   8000.,\n",
       "         8000.,   8000.,   8000.,   8000.,   8000.,   8000.,   8000.,\n",
       "         8000.,   7900.,   7900.,   7900.,   7900.,   7900.,   7900.,\n",
       "         7900.,   7900.,   7900.,   7900.,   7900.,   7900.,   7900.,\n",
       "         7900.,   7900.,   7900.,   7900.,   7900.,   7900.,   7800.,\n",
       "         7800.,   7800.,   7800.,   7800.,   7800.,   7800.,   7800.,\n",
       "         7800.,   7800.,   7800.,   7800.,   7800.,   7800.,   7800.,\n",
       "         7800.,   7800.,   7800.,   7800.,   7800.,   7800.,   7800.,\n",
       "         7800.,   7800.,   7800.,   7800.,   7800.,   7700.,   7700.,\n",
       "         7700.,   7700.,   7700.,   7700.,   7700.,   7700.,   7700.,\n",
       "         7700.,   7700.,   7700.,   7700.,   7700.,   7700.,   7700.,\n",
       "         7700.,   7700.,   7600.,   7600.,   7600.,   7600.,   7600.,\n",
       "         7600.,   7600.,   7600.,   7600.,   7600.,   7600.,   7600.,\n",
       "         7600.,   7600.,   7500.,   7500.,   7500.,   7500.,   7500.,\n",
       "         7500.,   7500.,   7500.,   7500.,   7500.,   7500.,   7500.,\n",
       "         7500.,   7500.,   7500.,   7500.,   7500.,   7400.,   7400.,\n",
       "         7400.,   7400.,   7400.,   7400.,   7400.,   7400.,   7400.,\n",
       "         7400.,   7400.,   7400.,   7400.,   7400.,   7400.,   7400.,\n",
       "         7300.,   7300.,   7300.,   7300.,   7300.,   7300.,   7300.,\n",
       "         7300.,   7300.,   7300.,   7300.,   7300.,   7300.,   7300.,\n",
       "         7300.,   7300.,   7300.,   7300.,   7300.,   7300.,   7300.,\n",
       "         7200.,   7200.,   7200.,   7200.,   7200.,   7200.,   7200.,\n",
       "         7200.,   7200.,   7200.,   7200.,   7200.,   7100.,   7100.,\n",
       "         7100.,   7100.,   7100.,   7100.,   7100.,   7100.,   7100.,\n",
       "         7000.,   7000.,   7000.,   7000.,   7000.,   7000.,   7000.,\n",
       "         7000.,   7000.,   7000.,   7000.,   7000.,   7000.,   7000.,\n",
       "         7000.,   7000.,   7000.,   7000.,   7000.,   7000.,   7000.,\n",
       "         7000.,   6900.,   6900.,   6900.,   6900.,   6900.,   6900.,\n",
       "         6900.,   6900.,   6900.,   6900.,   6900.,   6900.,   6900.,\n",
       "         6900.,   6900.,   6900.,   6900.,   6900.,   6900.,   6900.,\n",
       "         6800.,   6800.,   6800.,   6800.,   6800.,   6800.,   6800.,\n",
       "         6800.,   6800.,   6800.,   6800.,   6800.,   6800.,   6800.,\n",
       "         6800.,   6800.,   6800.,   6800.,   6800.,   6800.,   6800.,\n",
       "         6800.,   6800.,   6700.,   6700.,   6700.,   6700.,   6700.,\n",
       "         6700.,   6700.,   6700.,   6700.,   6700.,   6700.,   6700.,\n",
       "         6700.,   6700.,   6700.,   6700.,   6700.,   6700.,   6700.,\n",
       "         6600.,   6600.,   6600.,   6600.,   6600.,   6600.,   6600.,\n",
       "         6600.,   6600.,   6600.,   6600.,   6600.,   6600.,   6600.,\n",
       "         6600.,   6600.,   6600.,   6600.,   6600.,   6600.,   6600.,\n",
       "         6500.,   6500.,   6500.,   6500.,   6500.,   6500.,   6500.,\n",
       "         6500.,   6500.,   6500.,   6500.,   6500.,   6500.,   6500.,\n",
       "         6500.,   6500.,   6500.,   6500.,   6500.,   6500.,   6500.,\n",
       "         6500.,   6500.,   6500.,   6400.,   6400.,   6400.,   6400.,\n",
       "         6400.,   6400.,   6400.,   6400.,   6400.,   6400.,   6400.])"
      ]
     },
     "execution_count": 21,
     "metadata": {},
     "output_type": "execute_result"
    }
   ],
   "source": [
    "NumberOfStarsAsFloat = repos.apply(toFloat, \"Number of Stars\")\n",
    "NumberOfStarsAsFloat"
   ]
  },
  {
   "cell_type": "markdown",
   "metadata": {},
   "source": [
    "### Q2.4 Add `Rounded Number of stars` to the table with the values of `NumberOfStarsAsFloat`\n",
    "\n",
    "Hint: Lab04 `Q3.1`"
   ]
  },
  {
   "cell_type": "code",
   "execution_count": 24,
   "metadata": {},
   "outputs": [
    {
     "data": {
      "text/html": [
       "<table border=\"1\" class=\"dataframe\">\n",
       "    <thead>\n",
       "        <tr>\n",
       "            <th>Username</th> <th>Repository Name</th> <th>Description</th> <th>Last Update Date</th> <th>Language</th> <th>Number of Stars</th> <th>Tags</th> <th>Url</th> <th>Number of Forks</th> <th>NumberOfStarsAsFloat</th>\n",
       "        </tr>\n",
       "    </thead>\n",
       "    <tbody>\n",
       "        <tr>\n",
       "            <td>freeCodeCamp   </td> <td>freeCodeCamp          </td> <td>The https://freeCodeCamp.com open source codebase and cu ...</td> <td>2017-06-24T15:56:17Z</td> <td>JavaScript</td> <td>290k           </td> <td>nonprofits,certification,curriculum,react,nodejs,javascr ...</td> <td>https://github.com/freeCodeCamp/freeCodeCamp             </td> <td>23262          </td> <td>290000              </td>\n",
       "        </tr>\n",
       "        <tr>\n",
       "            <td>twbs           </td> <td>bootstrap             </td> <td>The most popular HTML, CSS, and JavaScript framework for ...</td> <td>2017-06-24T15:40:21Z</td> <td>JavaScript</td> <td>112k           </td> <td>javascript,css,html,bootstrap,jekyll-site,scss              </td> <td>https://github.com/twbs/bootstrap                        </td> <td>67527          </td> <td>112000              </td>\n",
       "        </tr>\n",
       "        <tr>\n",
       "            <td>EbookFoundation</td> <td>free-programming-books</td> <td> Freely available programming books                         </td> <td>2017-06-23T01:09:34Z</td> <td>nan       </td> <td>87.8k          </td> <td>education,list,books,resource                               </td> <td>https://github.com/EbookFoundation/free-programming-books</td> <td>32974          </td> <td>87800               </td>\n",
       "        </tr>\n",
       "        <tr>\n",
       "            <td>facebook       </td> <td>react                 </td> <td>A declarative, efficient, and flexible JavaScript librar ...</td> <td>2017-06-24T19:33:49Z</td> <td>JavaScript</td> <td>69.7k          </td> <td>nan                                                         </td> <td>https://github.com/facebook/react                        </td> <td>26698          </td> <td>69700               </td>\n",
       "        </tr>\n",
       "        <tr>\n",
       "            <td>d3             </td> <td>d3                    </td> <td>Bring data to life with SVG, Canvas and HTML.               </td> <td>2017-05-31T06:03:47Z</td> <td>JavaScript</td> <td>65.7k          </td> <td>visualization                                               </td> <td>https://github.com/d3/d3                                 </td> <td>21590          </td> <td>65700               </td>\n",
       "        </tr>\n",
       "        <tr>\n",
       "            <td>getify         </td> <td>You-Dont-Know-JS      </td> <td>A book series on JavaScript. @YDKJS on twitter.             </td> <td>2017-06-23T10:42:36Z</td> <td>JavaScript</td> <td>62k            </td> <td>book-series,javascript,training-materials,async,educatio ...</td> <td>https://github.com/getify/You-Dont-Know-JS               </td> <td>22440          </td> <td>62000               </td>\n",
       "        </tr>\n",
       "        <tr>\n",
       "            <td>tensorflow     </td> <td>tensorflow            </td> <td>Computation using data flow graphs for scalable machine  ...</td> <td>2017-06-24T18:25:42Z</td> <td>C++       </td> <td>61.6k          </td> <td>tensorflow,python,machine-learning,deep-neural-networks, ...</td> <td>https://github.com/tensorflow/tensorflow                 </td> <td>78752          </td> <td>61600               </td>\n",
       "        </tr>\n",
       "        <tr>\n",
       "            <td>sindresorhus   </td> <td>awesome               </td> <td> Curated list of awesome lists                              </td> <td>2017-06-24T17:26:02Z</td> <td>nan       </td> <td>60.7k          </td> <td>lists,awesome,unicorns,resources,awesome-list               </td> <td>https://github.com/sindresorhus/awesome                  </td> <td>16014          </td> <td>60700               </td>\n",
       "        </tr>\n",
       "        <tr>\n",
       "            <td>vuejs          </td> <td>vue                   </td> <td>A progressive, incrementally-adoptable JavaScript framew ...</td> <td>2017-06-24T15:38:55Z</td> <td>JavaScript</td> <td>57.7k          </td> <td>javascript,vue,framework,frontend                           </td> <td>https://github.com/vuejs/vue                             </td> <td>22841          </td> <td>57700               </td>\n",
       "        </tr>\n",
       "        <tr>\n",
       "            <td>angular        </td> <td>angular.js            </td> <td>AngularJS - HTML enhanced for web apps!                     </td> <td>2017-06-24T06:25:23Z</td> <td>JavaScript</td> <td>56.2k          </td> <td>nan                                                         </td> <td>https://github.com/angular/angular.js                    </td> <td>28853          </td> <td>56200               </td>\n",
       "        </tr>\n",
       "    </tbody>\n",
       "</table>\n",
       "<p>... (970 rows omitted)</p>"
      ],
      "text/plain": [
       "Username        | Repository Name        | Description                                                  | Last Update Date     | Language   | Number of Stars | Tags                                                         | Url                                                       | Number of Forks | NumberOfStarsAsFloat\n",
       "freeCodeCamp    | freeCodeCamp           | The https://freeCodeCamp.com open source codebase and cu ... | 2017-06-24T15:56:17Z | JavaScript | 290k            | nonprofits,certification,curriculum,react,nodejs,javascr ... | https://github.com/freeCodeCamp/freeCodeCamp              | 23262           | 290000\n",
       "twbs            | bootstrap              | The most popular HTML, CSS, and JavaScript framework for ... | 2017-06-24T15:40:21Z | JavaScript | 112k            | javascript,css,html,bootstrap,jekyll-site,scss               | https://github.com/twbs/bootstrap                         | 67527           | 112000\n",
       "EbookFoundation | free-programming-books |  Freely available programming books                          | 2017-06-23T01:09:34Z | nan        | 87.8k           | education,list,books,resource                                | https://github.com/EbookFoundation/free-programming-books | 32974           | 87800\n",
       "facebook        | react                  | A declarative, efficient, and flexible JavaScript librar ... | 2017-06-24T19:33:49Z | JavaScript | 69.7k           | nan                                                          | https://github.com/facebook/react                         | 26698           | 69700\n",
       "d3              | d3                     | Bring data to life with SVG, Canvas and HTML.                | 2017-05-31T06:03:47Z | JavaScript | 65.7k           | visualization                                                | https://github.com/d3/d3                                  | 21590           | 65700\n",
       "getify          | You-Dont-Know-JS       | A book series on JavaScript. @YDKJS on twitter.              | 2017-06-23T10:42:36Z | JavaScript | 62k             | book-series,javascript,training-materials,async,educatio ... | https://github.com/getify/You-Dont-Know-JS                | 22440           | 62000\n",
       "tensorflow      | tensorflow             | Computation using data flow graphs for scalable machine  ... | 2017-06-24T18:25:42Z | C++        | 61.6k           | tensorflow,python,machine-learning,deep-neural-networks, ... | https://github.com/tensorflow/tensorflow                  | 78752           | 61600\n",
       "sindresorhus    | awesome                |  Curated list of awesome lists                               | 2017-06-24T17:26:02Z | nan        | 60.7k           | lists,awesome,unicorns,resources,awesome-list                | https://github.com/sindresorhus/awesome                   | 16014           | 60700\n",
       "vuejs           | vue                    | A progressive, incrementally-adoptable JavaScript framew ... | 2017-06-24T15:38:55Z | JavaScript | 57.7k           | javascript,vue,framework,frontend                            | https://github.com/vuejs/vue                              | 22841           | 57700\n",
       "angular         | angular.js             | AngularJS - HTML enhanced for web apps!                      | 2017-06-24T06:25:23Z | JavaScript | 56.2k           | nan                                                          | https://github.com/angular/angular.js                     | 28853           | 56200\n",
       "... (970 rows omitted)"
      ]
     },
     "execution_count": 24,
     "metadata": {},
     "output_type": "execute_result"
    }
   ],
   "source": [
    "withRoundedStars = repos.with_columns(\"NumberOfStarsAsFloat\", NumberOfStarsAsFloat) \n",
    "withRoundedStars"
   ]
  },
  {
   "cell_type": "markdown",
   "metadata": {},
   "source": [
    "### Q2.5 Sort `withRoundedStars` Least starred repo should be at the top\n"
   ]
  },
  {
   "cell_type": "code",
   "execution_count": 26,
   "metadata": {},
   "outputs": [
    {
     "data": {
      "text/html": [
       "<table border=\"1\" class=\"dataframe\">\n",
       "    <thead>\n",
       "        <tr>\n",
       "            <th>Username</th> <th>Repository Name</th> <th>Description</th> <th>Last Update Date</th> <th>Language</th> <th>Number of Stars</th> <th>Tags</th> <th>Url</th> <th>Number of Forks</th>\n",
       "        </tr>\n",
       "    </thead>\n",
       "    <tbody>\n",
       "        <tr>\n",
       "            <td>you-dont-need</td> <td>You-Dont-Need-JavaScript</td> <td>CSS is powerful, you can do a lot of things without JS.     </td> <td>2017-05-23T11:15:27Z</td> <td>CSS        </td> <td>9k             </td> <td>textfield,tooltip,treeview,accordion,counter,burger-menu ...</td> <td>https://github.com/you-dont-need/You-Dont-Need-JavaScript</td> <td>741            </td>\n",
       "        </tr>\n",
       "        <tr>\n",
       "            <td>rapid7       </td> <td>metasploit-framework    </td> <td>Metasploit Framework                                        </td> <td>2017-06-24T19:55:16Z</td> <td>Ruby       </td> <td>9k             </td> <td>nan                                                         </td> <td>https://github.com/rapid7/metasploit-framework           </td> <td>9205           </td>\n",
       "        </tr>\n",
       "        <tr>\n",
       "            <td>allenwong    </td> <td>30DaysofSwift           </td> <td>A self-taught project to learn Swift.                       </td> <td>2017-04-18T08:30:58Z</td> <td>Swift      </td> <td>9k             </td> <td>nan                                                         </td> <td>https://github.com/allenwong/30DaysofSwift               </td> <td>2045           </td>\n",
       "        </tr>\n",
       "        <tr>\n",
       "            <td>PHPMailer    </td> <td>PHPMailer               </td> <td>The classic email sending library for PHP                   </td> <td>2017-06-23T08:29:41Z</td> <td>PHP        </td> <td>9k             </td> <td>nan                                                         </td> <td>https://github.com/PHPMailer/PHPMailer                   </td> <td>7681           </td>\n",
       "        </tr>\n",
       "        <tr>\n",
       "            <td>nathanmarz   </td> <td>storm                   </td> <td>Distributed and fault-tolerant realtime computation: str ...</td> <td>2017-03-05T19:16:37Z</td> <td>Java       </td> <td>9k             </td> <td>nan                                                         </td> <td>https://github.com/nathanmarz/storm                      </td> <td>1764           </td>\n",
       "        </tr>\n",
       "        <tr>\n",
       "            <td>Tencent      </td> <td>mars                    </td> <td>Mars is a cross-platform network component developed by  ...</td> <td>2017-06-20T03:38:21Z</td> <td>C++        </td> <td>9k             </td> <td>cross-platform,wechat,log,network                           </td> <td>https://github.com/Tencent/mars                          </td> <td>2835           </td>\n",
       "        </tr>\n",
       "        <tr>\n",
       "            <td>sindresorhus </td> <td>quick-look-plugins      </td> <td>List of useful Quick Look plugins for developers            </td> <td>2017-02-15T13:55:15Z</td> <td>nan        </td> <td>9k             </td> <td>nan                                                         </td> <td>https://github.com/sindresorhus/quick-look-plugins       </td> <td>472            </td>\n",
       "        </tr>\n",
       "        <tr>\n",
       "            <td>airbnb       </td> <td>lottie-ios              </td> <td>An iOS library to natively render After Effects vector a ...</td> <td>2017-06-23T16:11:18Z</td> <td>Objective-C</td> <td>9k             </td> <td>animation,keyframes,ios,transition-animation,ios-animati ...</td> <td>https://github.com/airbnb/lottie-ios                     </td> <td>2623           </td>\n",
       "        </tr>\n",
       "        <tr>\n",
       "            <td>petehunt     </td> <td>react-howto             </td> <td>Your guide to the (sometimes overwhelming!) React ecosystem.</td> <td>2017-05-17T16:28:34Z</td> <td>nan        </td> <td>9k             </td> <td>nan                                                         </td> <td>https://github.com/petehunt/react-howto                  </td> <td>767            </td>\n",
       "        </tr>\n",
       "        <tr>\n",
       "            <td>binux        </td> <td>pyspider                </td> <td>A Powerful Spider(Web Crawler) System in Python.            </td> <td>2017-06-20T22:10:52Z</td> <td>Python     </td> <td>9k             </td> <td>python,crawler                                              </td> <td>https://github.com/binux/pyspider                        </td> <td>3398           </td>\n",
       "        </tr>\n",
       "    </tbody>\n",
       "</table>\n",
       "<p>... (970 rows omitted)</p>"
      ],
      "text/plain": [
       "Username      | Repository Name          | Description                                                  | Last Update Date     | Language    | Number of Stars | Tags                                                         | Url                                                       | Number of Forks\n",
       "you-dont-need | You-Dont-Need-JavaScript | CSS is powerful, you can do a lot of things without JS.      | 2017-05-23T11:15:27Z | CSS         | 9k              | textfield,tooltip,treeview,accordion,counter,burger-menu ... | https://github.com/you-dont-need/You-Dont-Need-JavaScript | 741\n",
       "rapid7        | metasploit-framework     | Metasploit Framework                                         | 2017-06-24T19:55:16Z | Ruby        | 9k              | nan                                                          | https://github.com/rapid7/metasploit-framework            | 9205\n",
       "allenwong     | 30DaysofSwift            | A self-taught project to learn Swift.                        | 2017-04-18T08:30:58Z | Swift       | 9k              | nan                                                          | https://github.com/allenwong/30DaysofSwift                | 2045\n",
       "PHPMailer     | PHPMailer                | The classic email sending library for PHP                    | 2017-06-23T08:29:41Z | PHP         | 9k              | nan                                                          | https://github.com/PHPMailer/PHPMailer                    | 7681\n",
       "nathanmarz    | storm                    | Distributed and fault-tolerant realtime computation: str ... | 2017-03-05T19:16:37Z | Java        | 9k              | nan                                                          | https://github.com/nathanmarz/storm                       | 1764\n",
       "Tencent       | mars                     | Mars is a cross-platform network component developed by  ... | 2017-06-20T03:38:21Z | C++         | 9k              | cross-platform,wechat,log,network                            | https://github.com/Tencent/mars                           | 2835\n",
       "sindresorhus  | quick-look-plugins       | List of useful Quick Look plugins for developers             | 2017-02-15T13:55:15Z | nan         | 9k              | nan                                                          | https://github.com/sindresorhus/quick-look-plugins        | 472\n",
       "airbnb        | lottie-ios               | An iOS library to natively render After Effects vector a ... | 2017-06-23T16:11:18Z | Objective-C | 9k              | animation,keyframes,ios,transition-animation,ios-animati ... | https://github.com/airbnb/lottie-ios                      | 2623\n",
       "petehunt      | react-howto              | Your guide to the (sometimes overwhelming!) React ecosystem. | 2017-05-17T16:28:34Z | nan         | 9k              | nan                                                          | https://github.com/petehunt/react-howto                   | 767\n",
       "binux         | pyspider                 | A Powerful Spider(Web Crawler) System in Python.             | 2017-06-20T22:10:52Z | Python      | 9k              | python,crawler                                               | https://github.com/binux/pyspider                         | 3398\n",
       "... (970 rows omitted)"
      ]
     },
     "execution_count": 26,
     "metadata": {},
     "output_type": "execute_result"
    }
   ],
   "source": [
    "sortedRepos = repos.sort(\"Number of Stars\", descending=True)\n",
    "sortedRepos"
   ]
  },
  {
   "cell_type": "markdown",
   "metadata": {},
   "source": [
    "---"
   ]
  },
  {
   "cell_type": "markdown",
   "metadata": {},
   "source": [
    "# Part 3: Basic stats"
   ]
  },
  {
   "cell_type": "markdown",
   "metadata": {},
   "source": [
    "### Q3.1: What is the avrage amount of stars?\n",
    "\n",
    "Hint use `np.average`"
   ]
  },
  {
   "cell_type": "code",
   "execution_count": 27,
   "metadata": {},
   "outputs": [
    {
     "data": {
      "text/plain": [
       "12985.714285714286"
      ]
     },
     "execution_count": 27,
     "metadata": {},
     "output_type": "execute_result"
    }
   ],
   "source": [
    "starsAvrage = np.average(NumberOfStarsAsFloat)\n",
    "starsAvrage"
   ]
  },
  {
   "cell_type": "markdown",
   "metadata": {},
   "source": [
    "### Q3.2: What is the most starred PHP repo\n",
    "\n",
    "Hint use `group`"
   ]
  },
  {
   "cell_type": "code",
   "execution_count": 28,
   "metadata": {},
   "outputs": [
    {
     "data": {
      "text/html": [
       "<table border=\"1\" class=\"dataframe\">\n",
       "    <thead>\n",
       "        <tr>\n",
       "            <th>Username</th> <th>Repository Name</th> <th>Description</th> <th>Last Update Date</th> <th>Language</th> <th>Number of Stars</th> <th>Tags</th> <th>Url</th> <th>Number of Forks</th>\n",
       "        </tr>\n",
       "    </thead>\n",
       "    <tbody>\n",
       "        <tr>\n",
       "            <td>laravel   </td> <td>laravel          </td> <td>A PHP Framework For Web Artisans                            </td> <td>2017-06-23T08:57:24Z</td> <td>PHP     </td> <td>32.9k          </td> <td>php,laravel,framework                                       </td> <td>https://github.com/laravel/laravel          </td> <td>17377          </td>\n",
       "        </tr>\n",
       "        <tr>\n",
       "            <td>symfony   </td> <td>symfony          </td> <td>The Symfony PHP framework                                   </td> <td>2017-06-24T16:50:33Z</td> <td>PHP     </td> <td>14.7k          </td> <td>php-framework,php,symfony,framework,bundle,symfony-bundl ...</td> <td>https://github.com/symfony/symfony          </td> <td>7304           </td>\n",
       "        </tr>\n",
       "        <tr>\n",
       "            <td>bcit-ci   </td> <td>CodeIgniter      </td> <td>Open Source PHP Framework (originally from EllisLab)        </td> <td>2017-06-22T12:40:13Z</td> <td>PHP     </td> <td>14.6k          </td> <td>php                                                         </td> <td>https://github.com/bcit-ci/CodeIgniter      </td> <td>7765           </td>\n",
       "        </tr>\n",
       "        <tr>\n",
       "            <td>domnikl   </td> <td>DesignPatternsPHP</td> <td>sample code for several design patterns in PHP              </td> <td>2017-05-31T09:15:27Z</td> <td>PHP     </td> <td>12.8k          </td> <td>php,designpatternsphp,design-pattern,oop,phpunit,design- ...</td> <td>https://github.com/domnikl/DesignPatternsPHP</td> <td>3916           </td>\n",
       "        </tr>\n",
       "        <tr>\n",
       "            <td>fzaninotto</td> <td>Faker            </td> <td>Faker is a PHP library that generates fake data for you     </td> <td>2017-06-23T14:30:48Z</td> <td>PHP     </td> <td>11.1k          </td> <td>nan                                                         </td> <td>https://github.com/fzaninotto/Faker         </td> <td>2591           </td>\n",
       "        </tr>\n",
       "        <tr>\n",
       "            <td>yiisoft   </td> <td>yii2             </td> <td>Yii 2: The Fast, Secure and Professional PHP Framework      </td> <td>2017-06-24T10:51:32Z</td> <td>PHP     </td> <td>10.4k          </td> <td>yii,php,framework,yii2,php-framework                        </td> <td>https://github.com/yiisoft/yii2             </td> <td>6846           </td>\n",
       "        </tr>\n",
       "        <tr>\n",
       "            <td>composer  </td> <td>composer         </td> <td>Dependency Manager for PHP                                  </td> <td>2017-06-22T14:43:26Z</td> <td>PHP     </td> <td>9.5k           </td> <td>composer,php,dependency-manager,package-manager,packages    </td> <td>https://github.com/composer/composer        </td> <td>5680           </td>\n",
       "        </tr>\n",
       "        <tr>\n",
       "            <td>guzzle    </td> <td>guzzle           </td> <td>Guzzle, an extensible PHP HTTP client                       </td> <td>2017-06-23T22:56:10Z</td> <td>PHP     </td> <td>9.3k           </td> <td>guzzle,curl,psr-7,httpclient,webservices                    </td> <td>https://github.com/guzzle/guzzle            </td> <td>2011           </td>\n",
       "        </tr>\n",
       "        <tr>\n",
       "            <td>WordPress </td> <td>WordPress        </td> <td>WordPress, Git-ified. Synced via SVN every 15 minutes, i ...</td> <td>2017-06-24T18:08:09Z</td> <td>PHP     </td> <td>9.3k           </td> <td>nan                                                         </td> <td>https://github.com/WordPress/WordPress      </td> <td>8036           </td>\n",
       "        </tr>\n",
       "        <tr>\n",
       "            <td>PHPMailer </td> <td>PHPMailer        </td> <td>The classic email sending library for PHP                   </td> <td>2017-06-23T08:29:41Z</td> <td>PHP     </td> <td>9k             </td> <td>nan                                                         </td> <td>https://github.com/PHPMailer/PHPMailer      </td> <td>7681           </td>\n",
       "        </tr>\n",
       "    </tbody>\n",
       "</table>\n",
       "<p>... (13 rows omitted)</p>"
      ],
      "text/plain": [
       "<IPython.core.display.HTML object>"
      ]
     },
     "metadata": {},
     "output_type": "display_data"
    }
   ],
   "source": [
    "MostStaredPHPRepo = repos.where('Language', are.equal_to('PHP')).show(10)"
   ]
  },
  {
   "cell_type": "code",
   "execution_count": null,
   "metadata": {},
   "outputs": [],
   "source": []
  },
  {
   "cell_type": "markdown",
   "metadata": {},
   "source": [
    "### Q3.3: Top 10 most forked repos\n",
    "\n",
    "Hint Lab03 Q4"
   ]
  },
  {
   "cell_type": "code",
   "execution_count": 29,
   "metadata": {},
   "outputs": [
    {
     "data": {
      "text/html": [
       "<table border=\"1\" class=\"dataframe\">\n",
       "    <thead>\n",
       "        <tr>\n",
       "            <th>Username</th> <th>Repository Name</th> <th>Description</th> <th>Last Update Date</th> <th>Language</th> <th>Number of Stars</th> <th>Tags</th> <th>Url</th> <th>Number of Forks</th>\n",
       "        </tr>\n",
       "    </thead>\n",
       "    <tbody>\n",
       "        <tr>\n",
       "            <td>octocat        </td> <td>Spoon-Knife           </td> <td>This repo is for demonstration purposes only.               </td> <td>2017-06-24T05:41:57Z</td> <td>HTML      </td> <td>10k            </td> <td>nan                                                         </td> <td>https://github.com/octocat/Spoon-Knife                   </td> <td>107160         </td>\n",
       "        </tr>\n",
       "        <tr>\n",
       "            <td>tensorflow     </td> <td>tensorflow            </td> <td>Computation using data flow graphs for scalable machine  ...</td> <td>2017-06-24T18:25:42Z</td> <td>C++       </td> <td>61.6k          </td> <td>tensorflow,python,machine-learning,deep-neural-networks, ...</td> <td>https://github.com/tensorflow/tensorflow                 </td> <td>78752          </td>\n",
       "        </tr>\n",
       "        <tr>\n",
       "            <td>twbs           </td> <td>bootstrap             </td> <td>The most popular HTML, CSS, and JavaScript framework for ...</td> <td>2017-06-24T15:40:21Z</td> <td>JavaScript</td> <td>112k           </td> <td>javascript,css,html,bootstrap,jekyll-site,scss              </td> <td>https://github.com/twbs/bootstrap                        </td> <td>67527          </td>\n",
       "        </tr>\n",
       "        <tr>\n",
       "            <td>github         </td> <td>gitignore             </td> <td>A collection of useful .gitignore templates                 </td> <td>2017-06-24T08:48:29Z</td> <td>nan       </td> <td>51.6k          </td> <td>gitignore,git                                               </td> <td>https://github.com/github/gitignore                      </td> <td>47307          </td>\n",
       "        </tr>\n",
       "        <tr>\n",
       "            <td>tensorflow     </td> <td>models                </td> <td>Models built with TensorFlow                                </td> <td>2017-06-23T23:19:11Z</td> <td>Python    </td> <td>17.6k          </td> <td>nan                                                         </td> <td>https://github.com/tensorflow/models                     </td> <td>37894          </td>\n",
       "        </tr>\n",
       "        <tr>\n",
       "            <td>EbookFoundation</td> <td>free-programming-books</td> <td> Freely available programming books                         </td> <td>2017-06-23T01:09:34Z</td> <td>nan       </td> <td>87.8k          </td> <td>education,list,books,resource                               </td> <td>https://github.com/EbookFoundation/free-programming-books</td> <td>32974          </td>\n",
       "        </tr>\n",
       "        <tr>\n",
       "            <td>opencv         </td> <td>opencv                </td> <td>Open Source Computer Vision Library                         </td> <td>2017-06-24T08:38:33Z</td> <td>C++       </td> <td>16.4k          </td> <td>opencv,c-plus-plus,computer-vision,deep-learning,image-p ...</td> <td>https://github.com/opencv/opencv                         </td> <td>30520          </td>\n",
       "        </tr>\n",
       "        <tr>\n",
       "            <td>torvalds       </td> <td>linux                 </td> <td>Linux kernel source tree                                    </td> <td>2017-06-24T09:27:57Z</td> <td>C         </td> <td>46.3k          </td> <td>nan                                                         </td> <td>https://github.com/torvalds/linux                        </td> <td>29171          </td>\n",
       "        </tr>\n",
       "        <tr>\n",
       "            <td>angular        </td> <td>angular.js            </td> <td>AngularJS - HTML enhanced for web apps!                     </td> <td>2017-06-24T06:25:23Z</td> <td>JavaScript</td> <td>56.2k          </td> <td>nan                                                         </td> <td>https://github.com/angular/angular.js                    </td> <td>28853          </td>\n",
       "        </tr>\n",
       "        <tr>\n",
       "            <td>spring-projects</td> <td>spring-boot           </td> <td>Spring Boot                                                 </td> <td>2017-06-24T17:50:46Z</td> <td>Java      </td> <td>13.6k          </td> <td>nan                                                         </td> <td>https://github.com/spring-projects/spring-boot           </td> <td>27841          </td>\n",
       "        </tr>\n",
       "    </tbody>\n",
       "</table>\n",
       "<p>... (970 rows omitted)</p>"
      ],
      "text/plain": [
       "Username        | Repository Name        | Description                                                  | Last Update Date     | Language   | Number of Stars | Tags                                                         | Url                                                       | Number of Forks\n",
       "octocat         | Spoon-Knife            | This repo is for demonstration purposes only.                | 2017-06-24T05:41:57Z | HTML       | 10k             | nan                                                          | https://github.com/octocat/Spoon-Knife                    | 107160\n",
       "tensorflow      | tensorflow             | Computation using data flow graphs for scalable machine  ... | 2017-06-24T18:25:42Z | C++        | 61.6k           | tensorflow,python,machine-learning,deep-neural-networks, ... | https://github.com/tensorflow/tensorflow                  | 78752\n",
       "twbs            | bootstrap              | The most popular HTML, CSS, and JavaScript framework for ... | 2017-06-24T15:40:21Z | JavaScript | 112k            | javascript,css,html,bootstrap,jekyll-site,scss               | https://github.com/twbs/bootstrap                         | 67527\n",
       "github          | gitignore              | A collection of useful .gitignore templates                  | 2017-06-24T08:48:29Z | nan        | 51.6k           | gitignore,git                                                | https://github.com/github/gitignore                       | 47307\n",
       "tensorflow      | models                 | Models built with TensorFlow                                 | 2017-06-23T23:19:11Z | Python     | 17.6k           | nan                                                          | https://github.com/tensorflow/models                      | 37894\n",
       "EbookFoundation | free-programming-books |  Freely available programming books                          | 2017-06-23T01:09:34Z | nan        | 87.8k           | education,list,books,resource                                | https://github.com/EbookFoundation/free-programming-books | 32974\n",
       "opencv          | opencv                 | Open Source Computer Vision Library                          | 2017-06-24T08:38:33Z | C++        | 16.4k           | opencv,c-plus-plus,computer-vision,deep-learning,image-p ... | https://github.com/opencv/opencv                          | 30520\n",
       "torvalds        | linux                  | Linux kernel source tree                                     | 2017-06-24T09:27:57Z | C          | 46.3k           | nan                                                          | https://github.com/torvalds/linux                         | 29171\n",
       "angular         | angular.js             | AngularJS - HTML enhanced for web apps!                      | 2017-06-24T06:25:23Z | JavaScript | 56.2k           | nan                                                          | https://github.com/angular/angular.js                     | 28853\n",
       "spring-projects | spring-boot            | Spring Boot                                                  | 2017-06-24T17:50:46Z | Java       | 13.6k           | nan                                                          | https://github.com/spring-projects/spring-boot            | 27841\n",
       "... (970 rows omitted)"
      ]
     },
     "execution_count": 29,
     "metadata": {},
     "output_type": "execute_result"
    }
   ],
   "source": [
    "top10ForkedRepos = repos.sort('Number of Forks', descending=True)\n",
    "top10ForkedRepos"
   ]
  },
  {
   "cell_type": "markdown",
   "metadata": {},
   "source": [
    "# Part 4: Visualization\n",
    "Hint: Stack overflow analysis"
   ]
  },
  {
   "cell_type": "markdown",
   "metadata": {},
   "source": [
    "### Q4.1: Does more stars means more forks?\n",
    "\n",
    "In order to find that out create a scatter plot displayong the relationship bettwen Numbers of stars and forks"
   ]
  },
  {
   "cell_type": "code",
   "execution_count": 31,
   "metadata": {},
   "outputs": [
    {
     "data": {
      "image/png": "[encoded data removed]",
      "text/plain": [
       "<Figure size 360x360 with 1 Axes>"
      ]
     },
     "metadata": {},
     "output_type": "display_data"
    }
   ],
   "source": [
    "scatterData = withRoundedStars.scatter(\"NumberOfStarsAsFloat\",\"Number of Forks\")"
   ]
  },
  {
   "cell_type": "code",
   "execution_count": null,
   "metadata": {},
   "outputs": [],
   "source": []
  },
  {
   "cell_type": "markdown",
   "metadata": {},
   "source": [
    "### Q4.2: Remove extreme values\n",
    "\n",
    "In order to have a better graph we are going to filter out extreme values\n",
    "Create a table where Rounded Number of stars are below 100000 and Number of Forks bellow 10000\n",
    "Then create a new scatter graph "
   ]
  },
  {
   "cell_type": "code",
   "execution_count": 41,
   "metadata": {},
   "outputs": [
    {
     "ename": "ValueError",
     "evalue": "label \"Rounded Number of stars\" not in labels ('Username', 'Repository Name', 'Description', 'Last Update Date', 'Language', 'Number of Stars', 'Tags', 'Url', 'Number of Forks', 'NumberOfStarsAsFloat')",
     "output_type": "error",
     "traceback": [
      "\u001b[0;31m---------------------------------------------------------------------------\u001b[0m",
      "\u001b[0;31mValueError\u001b[0m                                Traceback (most recent call last)",
      "\u001b[0;32m<ipython-input-41-9ff3b09d12cc>\u001b[0m in \u001b[0;36m<module>\u001b[0;34m\u001b[0m\n\u001b[0;32m----> 1\u001b[0;31m \u001b[0mwithoutExtremes\u001b[0m \u001b[0;34m=\u001b[0m \u001b[0mwithRoundedStars\u001b[0m\u001b[0;34m.\u001b[0m\u001b[0mwhere\u001b[0m\u001b[0;34m(\u001b[0m\u001b[0;34m\"Rounded Number of stars\"\u001b[0m\u001b[0;34m,\u001b[0m\u001b[0mare\u001b[0m\u001b[0;34m.\u001b[0m\u001b[0mbelow\u001b[0m\u001b[0;34m(\u001b[0m\u001b[0;36m100000\u001b[0m\u001b[0;34m)\u001b[0m\u001b[0;34m)\u001b[0m\u001b[0;34m.\u001b[0m\u001b[0mwhere\u001b[0m\u001b[0;34m(\u001b[0m\u001b[0;34m\"Number of Forks\"\u001b[0m\u001b[0;34m,\u001b[0m\u001b[0mare\u001b[0m\u001b[0;34m.\u001b[0m\u001b[0mbelow\u001b[0m\u001b[0;34m(\u001b[0m\u001b[0;36m10000\u001b[0m\u001b[0;34m)\u001b[0m\u001b[0;34m)\u001b[0m\u001b[0;34m.\u001b[0m\u001b[0mscatter\u001b[0m\u001b[0;34m(\u001b[0m\u001b[0;34m\"Rounded Number of stars\"\u001b[0m\u001b[0;34m,\u001b[0m\u001b[0;34m\"Number of Forks\"\u001b[0m\u001b[0;34m,\u001b[0m \u001b[0mfit_line\u001b[0m\u001b[0;34m=\u001b[0m\u001b[0;32mTrue\u001b[0m\u001b[0;34m)\u001b[0m\u001b[0;34m\u001b[0m\u001b[0;34m\u001b[0m\u001b[0m\n\u001b[0m\u001b[1;32m      2\u001b[0m \u001b[0mwithoutExtremes\u001b[0m\u001b[0;34m\u001b[0m\u001b[0;34m\u001b[0m\u001b[0m\n",
      "\u001b[0;32m~/.local/lib/python3.6/site-packages/datascience/tables.py\u001b[0m in \u001b[0;36mwhere\u001b[0;34m(self, column_or_label, value_or_predicate, other)\u001b[0m\n\u001b[1;32m    798\u001b[0m         \u001b[0mColor\u001b[0m \u001b[0;34m|\u001b[0m \u001b[0mShape\u001b[0m \u001b[0;34m|\u001b[0m \u001b[0mAmount\u001b[0m \u001b[0;34m|\u001b[0m \u001b[0mPrice\u001b[0m\u001b[0;34m\u001b[0m\u001b[0;34m\u001b[0m\u001b[0m\n\u001b[1;32m    799\u001b[0m         \"\"\"\n\u001b[0;32m--> 800\u001b[0;31m         \u001b[0mcolumn\u001b[0m \u001b[0;34m=\u001b[0m \u001b[0mself\u001b[0m\u001b[0;34m.\u001b[0m\u001b[0m_get_column\u001b[0m\u001b[0;34m(\u001b[0m\u001b[0mcolumn_or_label\u001b[0m\u001b[0;34m)\u001b[0m\u001b[0;34m\u001b[0m\u001b[0;34m\u001b[0m\u001b[0m\n\u001b[0m\u001b[1;32m    801\u001b[0m         \u001b[0;32mif\u001b[0m \u001b[0mother\u001b[0m \u001b[0;32mis\u001b[0m \u001b[0;32mnot\u001b[0m \u001b[0;32mNone\u001b[0m\u001b[0;34m:\u001b[0m\u001b[0;34m\u001b[0m\u001b[0;34m\u001b[0m\u001b[0m\n\u001b[1;32m    802\u001b[0m             \u001b[0;32massert\u001b[0m \u001b[0mcallable\u001b[0m\u001b[0;34m(\u001b[0m\u001b[0mvalue_or_predicate\u001b[0m\u001b[0;34m)\u001b[0m\u001b[0;34m,\u001b[0m \u001b[0;34m\"Predicate required for 3-arg where\"\u001b[0m\u001b[0;34m\u001b[0m\u001b[0;34m\u001b[0m\u001b[0m\n",
      "\u001b[0;32m~/.local/lib/python3.6/site-packages/datascience/tables.py\u001b[0m in \u001b[0;36m_get_column\u001b[0;34m(self, column_or_label)\u001b[0m\n\u001b[1;32m   1389\u001b[0m             \u001b[0;32mreturn\u001b[0m \u001b[0mself\u001b[0m\u001b[0;34m[\u001b[0m\u001b[0mc\u001b[0m\u001b[0;34m]\u001b[0m\u001b[0;34m\u001b[0m\u001b[0;34m\u001b[0m\u001b[0m\n\u001b[1;32m   1390\u001b[0m         \u001b[0;32melif\u001b[0m \u001b[0misinstance\u001b[0m\u001b[0;34m(\u001b[0m\u001b[0mc\u001b[0m\u001b[0;34m,\u001b[0m \u001b[0mstr\u001b[0m\u001b[0;34m)\u001b[0m\u001b[0;34m:\u001b[0m\u001b[0;34m\u001b[0m\u001b[0;34m\u001b[0m\u001b[0m\n\u001b[0;32m-> 1391\u001b[0;31m             \u001b[0;32mraise\u001b[0m \u001b[0mValueError\u001b[0m\u001b[0;34m(\u001b[0m\u001b[0;34m'label \"{}\" not in labels {}'\u001b[0m\u001b[0;34m.\u001b[0m\u001b[0mformat\u001b[0m\u001b[0;34m(\u001b[0m\u001b[0mc\u001b[0m\u001b[0;34m,\u001b[0m \u001b[0mself\u001b[0m\u001b[0;34m.\u001b[0m\u001b[0mlabels\u001b[0m\u001b[0;34m)\u001b[0m\u001b[0;34m)\u001b[0m\u001b[0;34m\u001b[0m\u001b[0;34m\u001b[0m\u001b[0m\n\u001b[0m\u001b[1;32m   1392\u001b[0m         \u001b[0;32melse\u001b[0m\u001b[0;34m:\u001b[0m\u001b[0;34m\u001b[0m\u001b[0;34m\u001b[0m\u001b[0m\n\u001b[1;32m   1393\u001b[0m             \u001b[0;32massert\u001b[0m \u001b[0mlen\u001b[0m\u001b[0;34m(\u001b[0m\u001b[0mc\u001b[0m\u001b[0;34m)\u001b[0m \u001b[0;34m==\u001b[0m \u001b[0mself\u001b[0m\u001b[0;34m.\u001b[0m\u001b[0mnum_rows\u001b[0m\u001b[0;34m,\u001b[0m \u001b[0;34m'column length mismatch'\u001b[0m\u001b[0;34m\u001b[0m\u001b[0;34m\u001b[0m\u001b[0m\n",
      "\u001b[0;31mValueError\u001b[0m: label \"Rounded Number of stars\" not in labels ('Username', 'Repository Name', 'Description', 'Last Update Date', 'Language', 'Number of Stars', 'Tags', 'Url', 'Number of Forks', 'NumberOfStarsAsFloat')"
     ]
    }
   ],
   "source": [
    "withoutExtremes = repos.where(\"Rounded Number of stars\",are.below('100000')).where(\"Number of Forks\",are.below(10000)).scatter(\"Rounded Number of stars\",\"Number of Forks\", fit_line=True)\n",
    "withoutExtremes"
   ]
  },
  {
   "cell_type": "markdown",
   "metadata": {},
   "source": [
    "### Q4.3: How are the stars distributed?\n",
    "\n",
    "In order to find that out create a histogram with the number of stars\n",
    "\n",
    "Hint Lab04 `Q4.1`"
   ]
  },
  {
   "cell_type": "code",
   "execution_count": null,
   "metadata": {},
   "outputs": [],
   "source": []
  },
  {
   "cell_type": "code",
   "execution_count": null,
   "metadata": {},
   "outputs": [],
   "source": []
  },
  {
   "cell_type": "code",
   "execution_count": null,
   "metadata": {},
   "outputs": [],
   "source": []
  },
  {
   "cell_type": "markdown",
   "metadata": {},
   "source": [
    "### Q4.4: Wich users appear the most in the dataset?\n",
    "\n",
    "Plot a bar chart with the top 10 user at the top"
   ]
  },
  {
   "cell_type": "code",
   "execution_count": null,
   "metadata": {},
   "outputs": [],
   "source": []
  },
  {
   "cell_type": "code",
   "execution_count": null,
   "metadata": {},
   "outputs": [],
   "source": []
  },
  {
   "cell_type": "code",
   "execution_count": null,
   "metadata": {},
   "outputs": [],
   "source": []
  },
  {
   "cell_type": "markdown",
   "metadata": {},
   "source": [
    "### Q4.5: Wich users have the most amout of stars across thier projects?\n",
    "\n",
    "Create a bar chart with the total amount of stars a user has across the data set\n",
    "then create a bar chart for the top 10 users"
   ]
  },
  {
   "cell_type": "code",
   "execution_count": null,
   "metadata": {},
   "outputs": [],
   "source": []
  },
  {
   "cell_type": "code",
   "execution_count": null,
   "metadata": {},
   "outputs": [],
   "source": []
  },
  {
   "cell_type": "code",
   "execution_count": null,
   "metadata": {},
   "outputs": [],
   "source": []
  },
  {
   "cell_type": "markdown",
   "metadata": {},
   "source": [
    "### Q4.6: What is the avrage amout of stars per language\n",
    "\n",
    "Create a bar chart with that data"
   ]
  },
  {
   "cell_type": "code",
   "execution_count": null,
   "metadata": {},
   "outputs": [],
   "source": []
  },
  {
   "cell_type": "code",
   "execution_count": null,
   "metadata": {},
   "outputs": [],
   "source": []
  },
  {
   "cell_type": "code",
   "execution_count": null,
   "metadata": {},
   "outputs": [],
   "source": []
  }
 ],
 "metadata": {
  "kernelspec": {
   "display_name": "Python 3",
   "language": "python",
   "name": "python3"
  },
  "language_info": {
   "codemirror_mode": {
    "name": "ipython",
    "version": 3
   },
   "file_extension": ".py",
   "mimetype": "text/x-python",
   "name": "python",
   "nbconvert_exporter": "python",
   "pygments_lexer": "ipython3",
   "version": "3.6.7"
  }
 },
 "nbformat": 4,
 "nbformat_minor": 4
}
