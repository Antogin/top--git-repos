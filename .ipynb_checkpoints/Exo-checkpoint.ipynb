{
 "cells": [
  {
   "cell_type": "markdown",
   "metadata": {},
   "source": [
    "# Table Manipulation and Visualization"
   ]
  },
  {
   "cell_type": "markdown",
   "metadata": {},
   "source": [
    "**Materials**: \n",
    "* [Class](https://github.com/Antogin/materials-su19)"
   ]
  },
  {
   "cell_type": "code",
   "execution_count": 3,
   "metadata": {},
   "outputs": [],
   "source": [
    "from datascience import *\n",
    "import numpy as np\n",
    "%matplotlib inline\n",
    "import matplotlib.pyplot as plots\n",
    "plots.style.use('fivethirtyeight')\n",
    "import warnings\n",
    "warnings.simplefilter(action=\"ignore\", category=FutureWarning)\n",
    "\n",
    "from urllib.request import urlopen \n",
    "import re\n",
    "\n",
    "from shutil import unpack_archive"
   ]
  },
  {
   "cell_type": "markdown",
   "metadata": {},
   "source": [
    "## The data set\n",
    "---\n",
    "### Github most starred repos\n",
    "\n",
    "GitHub is the leader in hosting open source projects. For those who are not familiar with open source projects, a group of developers share and contribute to common code to develop software. \n",
    "\n",
    "### Content\n",
    "\n",
    "For this study,we extracted a list of the top starred open source projects. On GitHub, a user may choose the star a repository representing that they “like” the project. For each project, we got the repository username or Organization the project resided in, the repository name, a description, the last updated date, the language of the project, the number of stars, any tags, and finally the url of the project."
   ]
  },
  {
   "cell_type": "markdown",
   "metadata": {},
   "source": [
    "# Part 1: Understanding the dataset"
   ]
  },
  {
   "cell_type": "markdown",
   "metadata": {},
   "source": [
    "### Q1.1: load the dataset"
   ]
  },
  {
   "cell_type": "code",
   "execution_count": 4,
   "metadata": {},
   "outputs": [
    {
     "data": {
      "text/html": [
       "<table border=\"1\" class=\"dataframe\">\n",
       "    <thead>\n",
       "        <tr>\n",
       "            <th>Username</th> <th>Repository Name</th> <th>Description</th> <th>Last Update Date</th> <th>Language</th> <th>Number of Stars</th> <th>Tags</th> <th>Url</th> <th>Number of Forks</th>\n",
       "        </tr>\n",
       "    </thead>\n",
       "    <tbody>\n",
       "        <tr>\n",
       "            <td>freeCodeCamp   </td> <td>freeCodeCamp          </td> <td>The https://freeCodeCamp.com open source codebase and cu ...</td> <td>2017-06-24T15:56:17Z</td> <td>JavaScript</td> <td>290k           </td> <td>nonprofits,certification,curriculum,react,nodejs,javascr ...</td> <td>https://github.com/freeCodeCamp/freeCodeCamp             </td> <td>23262          </td>\n",
       "        </tr>\n",
       "        <tr>\n",
       "            <td>twbs           </td> <td>bootstrap             </td> <td>The most popular HTML, CSS, and JavaScript framework for ...</td> <td>2017-06-24T15:40:21Z</td> <td>JavaScript</td> <td>112k           </td> <td>javascript,css,html,bootstrap,jekyll-site,scss              </td> <td>https://github.com/twbs/bootstrap                        </td> <td>67527          </td>\n",
       "        </tr>\n",
       "        <tr>\n",
       "            <td>EbookFoundation</td> <td>free-programming-books</td> <td> Freely available programming books                         </td> <td>2017-06-23T01:09:34Z</td> <td>nan       </td> <td>87.8k          </td> <td>education,list,books,resource                               </td> <td>https://github.com/EbookFoundation/free-programming-books</td> <td>32974          </td>\n",
       "        </tr>\n",
       "        <tr>\n",
       "            <td>facebook       </td> <td>react                 </td> <td>A declarative, efficient, and flexible JavaScript librar ...</td> <td>2017-06-24T19:33:49Z</td> <td>JavaScript</td> <td>69.7k          </td> <td>nan                                                         </td> <td>https://github.com/facebook/react                        </td> <td>26698          </td>\n",
       "        </tr>\n",
       "        <tr>\n",
       "            <td>d3             </td> <td>d3                    </td> <td>Bring data to life with SVG, Canvas and HTML.               </td> <td>2017-05-31T06:03:47Z</td> <td>JavaScript</td> <td>65.7k          </td> <td>visualization                                               </td> <td>https://github.com/d3/d3                                 </td> <td>21590          </td>\n",
       "        </tr>\n",
       "        <tr>\n",
       "            <td>getify         </td> <td>You-Dont-Know-JS      </td> <td>A book series on JavaScript. @YDKJS on twitter.             </td> <td>2017-06-23T10:42:36Z</td> <td>JavaScript</td> <td>62k            </td> <td>book-series,javascript,training-materials,async,educatio ...</td> <td>https://github.com/getify/You-Dont-Know-JS               </td> <td>22440          </td>\n",
       "        </tr>\n",
       "        <tr>\n",
       "            <td>tensorflow     </td> <td>tensorflow            </td> <td>Computation using data flow graphs for scalable machine  ...</td> <td>2017-06-24T18:25:42Z</td> <td>C++       </td> <td>61.6k          </td> <td>tensorflow,python,machine-learning,deep-neural-networks, ...</td> <td>https://github.com/tensorflow/tensorflow                 </td> <td>78752          </td>\n",
       "        </tr>\n",
       "        <tr>\n",
       "            <td>sindresorhus   </td> <td>awesome               </td> <td> Curated list of awesome lists                              </td> <td>2017-06-24T17:26:02Z</td> <td>nan       </td> <td>60.7k          </td> <td>lists,awesome,unicorns,resources,awesome-list               </td> <td>https://github.com/sindresorhus/awesome                  </td> <td>16014          </td>\n",
       "        </tr>\n",
       "        <tr>\n",
       "            <td>vuejs          </td> <td>vue                   </td> <td>A progressive, incrementally-adoptable JavaScript framew ...</td> <td>2017-06-24T15:38:55Z</td> <td>JavaScript</td> <td>57.7k          </td> <td>javascript,vue,framework,frontend                           </td> <td>https://github.com/vuejs/vue                             </td> <td>22841          </td>\n",
       "        </tr>\n",
       "        <tr>\n",
       "            <td>angular        </td> <td>angular.js            </td> <td>AngularJS - HTML enhanced for web apps!                     </td> <td>2017-06-24T06:25:23Z</td> <td>JavaScript</td> <td>56.2k          </td> <td>nan                                                         </td> <td>https://github.com/angular/angular.js                    </td> <td>28853          </td>\n",
       "        </tr>\n",
       "    </tbody>\n",
       "</table>\n",
       "<p>... (970 rows omitted)</p>"
      ],
      "text/plain": [
       "Username        | Repository Name        | Description                                                  | Last Update Date     | Language   | Number of Stars | Tags                                                         | Url                                                       | Number of Forks\n",
       "freeCodeCamp    | freeCodeCamp           | The https://freeCodeCamp.com open source codebase and cu ... | 2017-06-24T15:56:17Z | JavaScript | 290k            | nonprofits,certification,curriculum,react,nodejs,javascr ... | https://github.com/freeCodeCamp/freeCodeCamp              | 23262\n",
       "twbs            | bootstrap              | The most popular HTML, CSS, and JavaScript framework for ... | 2017-06-24T15:40:21Z | JavaScript | 112k            | javascript,css,html,bootstrap,jekyll-site,scss               | https://github.com/twbs/bootstrap                         | 67527\n",
       "EbookFoundation | free-programming-books |  Freely available programming books                          | 2017-06-23T01:09:34Z | nan        | 87.8k           | education,list,books,resource                                | https://github.com/EbookFoundation/free-programming-books | 32974\n",
       "facebook        | react                  | A declarative, efficient, and flexible JavaScript librar ... | 2017-06-24T19:33:49Z | JavaScript | 69.7k           | nan                                                          | https://github.com/facebook/react                         | 26698\n",
       "d3              | d3                     | Bring data to life with SVG, Canvas and HTML.                | 2017-05-31T06:03:47Z | JavaScript | 65.7k           | visualization                                                | https://github.com/d3/d3                                  | 21590\n",
       "getify          | You-Dont-Know-JS       | A book series on JavaScript. @YDKJS on twitter.              | 2017-06-23T10:42:36Z | JavaScript | 62k             | book-series,javascript,training-materials,async,educatio ... | https://github.com/getify/You-Dont-Know-JS                | 22440\n",
       "tensorflow      | tensorflow             | Computation using data flow graphs for scalable machine  ... | 2017-06-24T18:25:42Z | C++        | 61.6k           | tensorflow,python,machine-learning,deep-neural-networks, ... | https://github.com/tensorflow/tensorflow                  | 78752\n",
       "sindresorhus    | awesome                |  Curated list of awesome lists                               | 2017-06-24T17:26:02Z | nan        | 60.7k           | lists,awesome,unicorns,resources,awesome-list                | https://github.com/sindresorhus/awesome                   | 16014\n",
       "vuejs           | vue                    | A progressive, incrementally-adoptable JavaScript framew ... | 2017-06-24T15:38:55Z | JavaScript | 57.7k           | javascript,vue,framework,frontend                            | https://github.com/vuejs/vue                              | 22841\n",
       "angular         | angular.js             | AngularJS - HTML enhanced for web apps!                      | 2017-06-24T06:25:23Z | JavaScript | 56.2k           | nan                                                          | https://github.com/angular/angular.js                     | 28853\n",
       "... (970 rows omitted)"
      ]
     },
     "execution_count": 4,
     "metadata": {},
     "output_type": "execute_result"
    }
   ],
   "source": [
    "repos = Table().read_table('TopRatedRepos.csv')\n",
    "repos"
   ]
  },
  {
   "cell_type": "markdown",
   "metadata": {},
   "source": [
    "### Q1.2: How many rows does or dataset have?\n",
    "\n"
   ]
  },
  {
   "cell_type": "code",
   "execution_count": 174,
   "metadata": {},
   "outputs": [
    {
     "data": {
      "text/plain": [
       "Ellipsis"
      ]
     },
     "execution_count": 174,
     "metadata": {},
     "output_type": "execute_result"
    }
   ],
   "source": [
    "num_rows = ...\n",
    "num_rows"
   ]
  },
  {
   "cell_type": "markdown",
   "metadata": {},
   "source": [
    "### Q1.3: Create a table with only python projects\n",
    "\n",
    "Top projects are dominated by Javascript projects, let's show python some love!\n",
    "\n",
    "Hint use `where`"
   ]
  },
  {
   "cell_type": "code",
   "execution_count": 175,
   "metadata": {},
   "outputs": [
    {
     "data": {
      "text/plain": [
       "Ellipsis"
      ]
     },
     "execution_count": 175,
     "metadata": {},
     "output_type": "execute_result"
    }
   ],
   "source": [
    "pythonProjects = ...\n",
    "pythonProjects"
   ]
  },
  {
   "cell_type": "markdown",
   "metadata": {},
   "source": [
    "### Q1.4: Filter our data\n",
    "\n",
    "For this exercie we are mostly going to focus on `Username`, `Repository Name`, `Language`, `Number of Forks` and `Number of Stars`.\n",
    "Create a table with only those values\n",
    "\n",
    "Hint use `select`"
   ]
  },
  {
   "cell_type": "code",
   "execution_count": 176,
   "metadata": {},
   "outputs": [
    {
     "data": {
      "text/plain": [
       "Ellipsis"
      ]
     },
     "execution_count": 176,
     "metadata": {},
     "output_type": "execute_result"
    }
   ],
   "source": [
    "cleanData = ...\n",
    "cleanData"
   ]
  },
  {
   "cell_type": "markdown",
   "metadata": {},
   "source": [
    "---"
   ]
  },
  {
   "cell_type": "markdown",
   "metadata": {},
   "source": [
    "# Part 2: Clean up"
   ]
  },
  {
   "cell_type": "markdown",
   "metadata": {},
   "source": [
    "### Q2.1: What is type of the column Number of Stars?\n",
    "\n",
    "Hint Lab04 `Q1.1`"
   ]
  },
  {
   "cell_type": "code",
   "execution_count": 177,
   "metadata": {},
   "outputs": [
    {
     "data": {
      "text/plain": [
       "Ellipsis"
      ]
     },
     "execution_count": 177,
     "metadata": {},
     "output_type": "execute_result"
    }
   ],
   "source": [
    "typeOfNumberOfStars = ...\n",
    "typeOfNumberOfStars"
   ]
  },
  {
   "cell_type": "markdown",
   "metadata": {},
   "source": [
    "### Q2.2: Create a python function that turns the string `290k` into a float\n",
    "\n",
    "Hint lab04 `Q1.4`"
   ]
  },
  {
   "cell_type": "code",
   "execution_count": 125,
   "metadata": {},
   "outputs": [
    {
     "data": {
      "text/plain": [
       "'65.7k'"
      ]
     },
     "execution_count": 125,
     "metadata": {},
     "output_type": "execute_result"
    }
   ],
   "source": [
    "d3Stars = '65.7k'\n",
    "d3Stars"
   ]
  },
  {
   "cell_type": "code",
   "execution_count": 178,
   "metadata": {},
   "outputs": [],
   "source": [
    "def toFloat(starts):\n",
    "    ..."
   ]
  },
  {
   "cell_type": "code",
   "execution_count": null,
   "metadata": {},
   "outputs": [],
   "source": [
    "### this should return True\n",
    "toFloat(d3Stars) == 65700"
   ]
  },
  {
   "cell_type": "code",
   "execution_count": null,
   "metadata": {},
   "outputs": [],
   "source": []
  },
  {
   "cell_type": "markdown",
   "metadata": {},
   "source": [
    "### Q2.3: Apply that function to the `Number of Stars` column\n",
    "\n",
    "Hint: Lab04 `Q3.1`"
   ]
  },
  {
   "cell_type": "code",
   "execution_count": 179,
   "metadata": {},
   "outputs": [
    {
     "data": {
      "text/plain": [
       "Ellipsis"
      ]
     },
     "execution_count": 179,
     "metadata": {},
     "output_type": "execute_result"
    }
   ],
   "source": [
    "NumberOfStarsAsFloat = ...\n",
    "NumberOfStarsAsFloat"
   ]
  },
  {
   "cell_type": "markdown",
   "metadata": {},
   "source": [
    "### Q2.4 Add `Rounded Number of stars` to the table with the values of `NumberOfStarsAsFloat`\n",
    "\n",
    "Hint: Lab04 `Q3.1`"
   ]
  },
  {
   "cell_type": "code",
   "execution_count": 180,
   "metadata": {},
   "outputs": [
    {
     "data": {
      "text/plain": [
       "Ellipsis"
      ]
     },
     "execution_count": 180,
     "metadata": {},
     "output_type": "execute_result"
    }
   ],
   "source": [
    "withRoundedStars = ...\n",
    "withRoundedStars"
   ]
  },
  {
   "cell_type": "markdown",
   "metadata": {},
   "source": [
    "### Q2.5 Sort `withRoundedStars` Least starred repo should be at the top\n"
   ]
  },
  {
   "cell_type": "code",
   "execution_count": 181,
   "metadata": {},
   "outputs": [
    {
     "data": {
      "text/plain": [
       "Ellipsis"
      ]
     },
     "execution_count": 181,
     "metadata": {},
     "output_type": "execute_result"
    }
   ],
   "source": [
    "sortedRepos = ...\n",
    "sortedRepos"
   ]
  },
  {
   "cell_type": "markdown",
   "metadata": {},
   "source": [
    "---"
   ]
  },
  {
   "cell_type": "markdown",
   "metadata": {},
   "source": [
    "# Part 3: Basic stats"
   ]
  },
  {
   "cell_type": "markdown",
   "metadata": {},
   "source": [
    "### Q3.1: What is the avrage amount of stars?\n",
    "\n",
    "Hint use `np.average`"
   ]
  },
  {
   "cell_type": "code",
   "execution_count": 182,
   "metadata": {},
   "outputs": [
    {
     "data": {
      "text/plain": [
       "Ellipsis"
      ]
     },
     "execution_count": 182,
     "metadata": {},
     "output_type": "execute_result"
    }
   ],
   "source": [
    "starsAvrage = ...\n",
    "starsAvrage"
   ]
  },
  {
   "cell_type": "markdown",
   "metadata": {},
   "source": [
    "### Q3.2: What is the most starred PHP repo\n",
    "\n",
    "Hint use `group`"
   ]
  },
  {
   "cell_type": "code",
   "execution_count": 183,
   "metadata": {},
   "outputs": [],
   "source": [
    "MostStaredPHPRepo = ..."
   ]
  },
  {
   "cell_type": "code",
   "execution_count": null,
   "metadata": {},
   "outputs": [],
   "source": []
  },
  {
   "cell_type": "markdown",
   "metadata": {},
   "source": [
    "### Q3.3: Top 10 most forked repos\n",
    "\n",
    "Hint Lab03 Q4"
   ]
  },
  {
   "cell_type": "code",
   "execution_count": 184,
   "metadata": {},
   "outputs": [
    {
     "data": {
      "text/plain": [
       "Ellipsis"
      ]
     },
     "execution_count": 184,
     "metadata": {},
     "output_type": "execute_result"
    }
   ],
   "source": [
    "top10ForkedRepos = ...\n",
    "top10ForkedRepos"
   ]
  },
  {
   "cell_type": "markdown",
   "metadata": {},
   "source": [
    "# Part 4: Visualization\n",
    "Hint: Stack overflow analysis"
   ]
  },
  {
   "cell_type": "markdown",
   "metadata": {},
   "source": [
    "### Q4.1: Does more stars means more forks?\n",
    "\n",
    "In order to find that out create a scatter plot displayong the relationship bettwen Numbers of stars and forks"
   ]
  },
  {
   "cell_type": "code",
   "execution_count": 186,
   "metadata": {},
   "outputs": [],
   "source": [
    "scatterData = ..."
   ]
  },
  {
   "cell_type": "code",
   "execution_count": null,
   "metadata": {},
   "outputs": [],
   "source": []
  },
  {
   "cell_type": "markdown",
   "metadata": {},
   "source": [
    "### Q4.2: Remove extreme values\n",
    "\n",
    "In order to have a better graph we are going to filter out extreme values\n",
    "Create a table where Rounded Number of stars are below 100000 and Number of Forks bellow 10000\n",
    "Then create a new scatter graph "
   ]
  },
  {
   "cell_type": "code",
   "execution_count": 187,
   "metadata": {},
   "outputs": [
    {
     "data": {
      "text/plain": [
       "Ellipsis"
      ]
     },
     "execution_count": 187,
     "metadata": {},
     "output_type": "execute_result"
    }
   ],
   "source": [
    "withoutExtremes = ...\n",
    "withoutExtremes"
   ]
  },
  {
   "cell_type": "markdown",
   "metadata": {},
   "source": [
    "### Q4.3: How are the stars distributed?\n",
    "\n",
    "In order to find that out create a histogram with the number of stars\n",
    "\n",
    "Hint Lab04 `Q4.1`"
   ]
  },
  {
   "cell_type": "code",
   "execution_count": null,
   "metadata": {},
   "outputs": [],
   "source": []
  },
  {
   "cell_type": "code",
   "execution_count": null,
   "metadata": {},
   "outputs": [],
   "source": []
  },
  {
   "cell_type": "code",
   "execution_count": null,
   "metadata": {},
   "outputs": [],
   "source": []
  },
  {
   "cell_type": "markdown",
   "metadata": {},
   "source": [
    "### Q4.4: Wich users appear the most in the dataset?\n",
    "\n",
    "Plot a bar chart with the top 10 user at the top"
   ]
  },
  {
   "cell_type": "code",
   "execution_count": null,
   "metadata": {},
   "outputs": [],
   "source": []
  },
  {
   "cell_type": "code",
   "execution_count": null,
   "metadata": {},
   "outputs": [],
   "source": []
  },
  {
   "cell_type": "code",
   "execution_count": null,
   "metadata": {},
   "outputs": [],
   "source": []
  },
  {
   "cell_type": "markdown",
   "metadata": {},
   "source": [
    "### Q4.5: Wich users have the most amout of stars across thier projects?\n",
    "\n",
    "Create a bar chart with the total amount of stars a user has across the data set\n",
    "then create a bar chart for the top 10 users"
   ]
  },
  {
   "cell_type": "code",
   "execution_count": null,
   "metadata": {},
   "outputs": [],
   "source": []
  },
  {
   "cell_type": "code",
   "execution_count": null,
   "metadata": {},
   "outputs": [],
   "source": []
  },
  {
   "cell_type": "code",
   "execution_count": null,
   "metadata": {},
   "outputs": [],
   "source": []
  },
  {
   "cell_type": "markdown",
   "metadata": {},
   "source": [
    "### Q4.6: What is the avrage amout of stars per language\n",
    "\n",
    "Create a bar chart with that data"
   ]
  },
  {
   "cell_type": "code",
   "execution_count": null,
   "metadata": {},
   "outputs": [],
   "source": []
  },
  {
   "cell_type": "code",
   "execution_count": null,
   "metadata": {},
   "outputs": [],
   "source": []
  },
  {
   "cell_type": "code",
   "execution_count": null,
   "metadata": {},
   "outputs": [],
   "source": []
  }
 ],
 "metadata": {
  "kernelspec": {
   "display_name": "Python 3",
   "language": "python",
   "name": "python3"
  },
  "language_info": {
   "codemirror_mode": {
    "name": "ipython",
    "version": 3
   },
   "file_extension": ".py",
   "mimetype": "text/x-python",
   "name": "python",
   "nbconvert_exporter": "python",
   "pygments_lexer": "ipython3",
   "version": "3.7.4"
  }
 },
 "nbformat": 4,
 "nbformat_minor": 4
}
