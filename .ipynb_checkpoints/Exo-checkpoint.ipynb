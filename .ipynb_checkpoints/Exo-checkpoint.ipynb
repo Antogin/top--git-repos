{
 "cells": [
  {
   "cell_type": "markdown",
   "metadata": {},
   "source": [
    "# Table Manipulation and Visualization"
   ]
  },
  {
   "cell_type": "markdown",
   "metadata": {},
   "source": [
    "**Materials**: \n",
    "* [Class](https://github.com/Antogin/materials-su19)"
   ]
  },
  {
   "cell_type": "code",
   "execution_count": 3,
   "metadata": {},
   "outputs": [],
   "source": [
    "from datascience import *\n",
    "import numpy as np\n",
    "%matplotlib inline\n",
    "import matplotlib.pyplot as plots\n",
    "plots.style.use('fivethirtyeight')\n",
    "import warnings\n",
    "warnings.simplefilter(action=\"ignore\", category=FutureWarning)\n",
    "\n",
    "from urllib.request import urlopen \n",
    "import re\n",
    "\n",
    "from shutil import unpack_archive"
   ]
  },
  {
   "cell_type": "markdown",
   "metadata": {},
   "source": [
    "## The data set\n",
    "---\n",
    "### Github most starred repos\n",
    "\n",
    "GitHub is the leader in hosting open source projects. For those who are not familiar with open source projects, a group of developers share and contribute to common code to develop software. \n",
    "\n",
    "### Content\n",
    "\n",
    "For this study,we extracted a list of the top starred open source projects. On GitHub, a user may choose the star a repository representing that they “like” the project. For each project, we got the repository username or Organization the project resided in, the repository name, a description, the last updated date, the language of the project, the number of stars, any tags, and finally the url of the project."
   ]
  },
  {
   "cell_type": "markdown",
   "metadata": {},
   "source": [
    "# Part 1: Understanding the dataset"
   ]
  },
  {
   "cell_type": "markdown",
   "metadata": {},
   "source": [
    "### Q1.1: load the dataset"
   ]
  },
  {
   "cell_type": "code",
   "execution_count": 4,
   "metadata": {},
   "outputs": [
    {
     "data": {
      "text/html": [
       "<table border=\"1\" class=\"dataframe\">\n",
       "    <thead>\n",
       "        <tr>\n",
       "            <th>Username</th> <th>Repository Name</th> <th>Description</th> <th>Last Update Date</th> <th>Language</th> <th>Number of Stars</th> <th>Tags</th> <th>Url</th> <th>Number of Forks</th>\n",
       "        </tr>\n",
       "    </thead>\n",
       "    <tbody>\n",
       "        <tr>\n",
       "            <td>freeCodeCamp   </td> <td>freeCodeCamp          </td> <td>The https://freeCodeCamp.com open source codebase and cu ...</td> <td>2017-06-24T15:56:17Z</td> <td>JavaScript</td> <td>290k           </td> <td>nonprofits,certification,curriculum,react,nodejs,javascr ...</td> <td>https://github.com/freeCodeCamp/freeCodeCamp             </td> <td>23262          </td>\n",
       "        </tr>\n",
       "        <tr>\n",
       "            <td>twbs           </td> <td>bootstrap             </td> <td>The most popular HTML, CSS, and JavaScript framework for ...</td> <td>2017-06-24T15:40:21Z</td> <td>JavaScript</td> <td>112k           </td> <td>javascript,css,html,bootstrap,jekyll-site,scss              </td> <td>https://github.com/twbs/bootstrap                        </td> <td>67527          </td>\n",
       "        </tr>\n",
       "        <tr>\n",
       "            <td>EbookFoundation</td> <td>free-programming-books</td> <td> Freely available programming books                         </td> <td>2017-06-23T01:09:34Z</td> <td>nan       </td> <td>87.8k          </td> <td>education,list,books,resource                               </td> <td>https://github.com/EbookFoundation/free-programming-books</td> <td>32974          </td>\n",
       "        </tr>\n",
       "        <tr>\n",
       "            <td>facebook       </td> <td>react                 </td> <td>A declarative, efficient, and flexible JavaScript librar ...</td> <td>2017-06-24T19:33:49Z</td> <td>JavaScript</td> <td>69.7k          </td> <td>nan                                                         </td> <td>https://github.com/facebook/react                        </td> <td>26698          </td>\n",
       "        </tr>\n",
       "        <tr>\n",
       "            <td>d3             </td> <td>d3                    </td> <td>Bring data to life with SVG, Canvas and HTML.               </td> <td>2017-05-31T06:03:47Z</td> <td>JavaScript</td> <td>65.7k          </td> <td>visualization                                               </td> <td>https://github.com/d3/d3                                 </td> <td>21590          </td>\n",
       "        </tr>\n",
       "        <tr>\n",
       "            <td>getify         </td> <td>You-Dont-Know-JS      </td> <td>A book series on JavaScript. @YDKJS on twitter.             </td> <td>2017-06-23T10:42:36Z</td> <td>JavaScript</td> <td>62k            </td> <td>book-series,javascript,training-materials,async,educatio ...</td> <td>https://github.com/getify/You-Dont-Know-JS               </td> <td>22440          </td>\n",
       "        </tr>\n",
       "        <tr>\n",
       "            <td>tensorflow     </td> <td>tensorflow            </td> <td>Computation using data flow graphs for scalable machine  ...</td> <td>2017-06-24T18:25:42Z</td> <td>C++       </td> <td>61.6k          </td> <td>tensorflow,python,machine-learning,deep-neural-networks, ...</td> <td>https://github.com/tensorflow/tensorflow                 </td> <td>78752          </td>\n",
       "        </tr>\n",
       "        <tr>\n",
       "            <td>sindresorhus   </td> <td>awesome               </td> <td> Curated list of awesome lists                              </td> <td>2017-06-24T17:26:02Z</td> <td>nan       </td> <td>60.7k          </td> <td>lists,awesome,unicorns,resources,awesome-list               </td> <td>https://github.com/sindresorhus/awesome                  </td> <td>16014          </td>\n",
       "        </tr>\n",
       "        <tr>\n",
       "            <td>vuejs          </td> <td>vue                   </td> <td>A progressive, incrementally-adoptable JavaScript framew ...</td> <td>2017-06-24T15:38:55Z</td> <td>JavaScript</td> <td>57.7k          </td> <td>javascript,vue,framework,frontend                           </td> <td>https://github.com/vuejs/vue                             </td> <td>22841          </td>\n",
       "        </tr>\n",
       "        <tr>\n",
       "            <td>angular        </td> <td>angular.js            </td> <td>AngularJS - HTML enhanced for web apps!                     </td> <td>2017-06-24T06:25:23Z</td> <td>JavaScript</td> <td>56.2k          </td> <td>nan                                                         </td> <td>https://github.com/angular/angular.js                    </td> <td>28853          </td>\n",
       "        </tr>\n",
       "    </tbody>\n",
       "</table>\n",
       "<p>... (970 rows omitted)</p>"
      ],
      "text/plain": [
       "Username        | Repository Name        | Description                                                  | Last Update Date     | Language   | Number of Stars | Tags                                                         | Url                                                       | Number of Forks\n",
       "freeCodeCamp    | freeCodeCamp           | The https://freeCodeCamp.com open source codebase and cu ... | 2017-06-24T15:56:17Z | JavaScript | 290k            | nonprofits,certification,curriculum,react,nodejs,javascr ... | https://github.com/freeCodeCamp/freeCodeCamp              | 23262\n",
       "twbs            | bootstrap              | The most popular HTML, CSS, and JavaScript framework for ... | 2017-06-24T15:40:21Z | JavaScript | 112k            | javascript,css,html,bootstrap,jekyll-site,scss               | https://github.com/twbs/bootstrap                         | 67527\n",
       "EbookFoundation | free-programming-books |  Freely available programming books                          | 2017-06-23T01:09:34Z | nan        | 87.8k           | education,list,books,resource                                | https://github.com/EbookFoundation/free-programming-books | 32974\n",
       "facebook        | react                  | A declarative, efficient, and flexible JavaScript librar ... | 2017-06-24T19:33:49Z | JavaScript | 69.7k           | nan                                                          | https://github.com/facebook/react                         | 26698\n",
       "d3              | d3                     | Bring data to life with SVG, Canvas and HTML.                | 2017-05-31T06:03:47Z | JavaScript | 65.7k           | visualization                                                | https://github.com/d3/d3                                  | 21590\n",
       "getify          | You-Dont-Know-JS       | A book series on JavaScript. @YDKJS on twitter.              | 2017-06-23T10:42:36Z | JavaScript | 62k             | book-series,javascript,training-materials,async,educatio ... | https://github.com/getify/You-Dont-Know-JS                | 22440\n",
       "tensorflow      | tensorflow             | Computation using data flow graphs for scalable machine  ... | 2017-06-24T18:25:42Z | C++        | 61.6k           | tensorflow,python,machine-learning,deep-neural-networks, ... | https://github.com/tensorflow/tensorflow                  | 78752\n",
       "sindresorhus    | awesome                |  Curated list of awesome lists                               | 2017-06-24T17:26:02Z | nan        | 60.7k           | lists,awesome,unicorns,resources,awesome-list                | https://github.com/sindresorhus/awesome                   | 16014\n",
       "vuejs           | vue                    | A progressive, incrementally-adoptable JavaScript framew ... | 2017-06-24T15:38:55Z | JavaScript | 57.7k           | javascript,vue,framework,frontend                            | https://github.com/vuejs/vue                              | 22841\n",
       "angular         | angular.js             | AngularJS - HTML enhanced for web apps!                      | 2017-06-24T06:25:23Z | JavaScript | 56.2k           | nan                                                          | https://github.com/angular/angular.js                     | 28853\n",
       "... (970 rows omitted)"
      ]
     },
     "execution_count": 4,
     "metadata": {},
     "output_type": "execute_result"
    }
   ],
   "source": [
    "repos = Table().read_table('TopRatedRepos.csv')\n",
    "repos"
   ]
  },
  {
   "cell_type": "markdown",
   "metadata": {},
   "source": [
    "### Q1.2: How many rows does or dataset have?\n",
    "\n"
   ]
  },
  {
   "cell_type": "code",
   "execution_count": 5,
   "metadata": {},
   "outputs": [
    {
     "data": {
      "text/plain": [
       "980"
      ]
     },
     "execution_count": 5,
     "metadata": {},
     "output_type": "execute_result"
    }
   ],
   "source": [
    "num_rows = repos.num_rows\n",
    "num_rows"
   ]
  },
  {
   "cell_type": "markdown",
   "metadata": {},
   "source": [
    "### Q1.3: Create a table with only python projects\n",
    "\n",
    "Top projects are dominated by Javascript projects, let's show python some love!\n",
    "\n",
    "Hint use `where`"
   ]
  },
  {
   "cell_type": "code",
   "execution_count": 6,
   "metadata": {},
   "outputs": [
    {
     "data": {
      "text/html": [
       "<table border=\"1\" class=\"dataframe\">\n",
       "    <thead>\n",
       "        <tr>\n",
       "            <th>Username</th> <th>Repository Name</th> <th>Description</th> <th>Last Update Date</th> <th>Language</th> <th>Number of Stars</th> <th>Tags</th> <th>Url</th> <th>Number of Forks</th>\n",
       "        </tr>\n",
       "    </thead>\n",
       "    <tbody>\n",
       "        <tr>\n",
       "            <td>vinta        </td> <td>awesome-python             </td> <td>A curated list of awesome Python frameworks, libraries,  ...</td> <td>2017-06-18T09:43:08Z</td> <td>Python  </td> <td>35.3k          </td> <td>python,awesome,collections                                  </td> <td>https://github.com/vinta/awesome-python                 </td> <td>14983          </td>\n",
       "        </tr>\n",
       "        <tr>\n",
       "            <td>jakubroztocil</td> <td>httpie                     </td> <td>Modern command line HTTP client  user-friendly curl alte ...</td> <td>2017-06-18T06:18:33Z</td> <td>Python  </td> <td>30.2k          </td> <td>python,debugging,cli,http,client,json,development,termin ...</td> <td>https://github.com/jakubroztocil/httpie                 </td> <td>2881           </td>\n",
       "        </tr>\n",
       "        <tr>\n",
       "            <td>nvbn         </td> <td>thefuck                    </td> <td>Magnificent app which corrects your previous console com ...</td> <td>2017-06-19T21:12:47Z</td> <td>Python  </td> <td>28.6k          </td> <td>python,shell                                                </td> <td>https://github.com/nvbn/thefuck                         </td> <td>2524           </td>\n",
       "        </tr>\n",
       "        <tr>\n",
       "            <td>pallets      </td> <td>flask                      </td> <td>A microframework based on Werkzeug, Jinja2 and good inte ...</td> <td>2017-06-21T23:13:36Z</td> <td>Python  </td> <td>27.8k          </td> <td>python,flask,web-framework,wsgi,jinja,werkzeug              </td> <td>https://github.com/pallets/flask                        </td> <td>13090          </td>\n",
       "        </tr>\n",
       "        <tr>\n",
       "            <td>rg3          </td> <td>youtube-dl                 </td> <td>Command-line program to download videos from YouTube.com ...</td> <td>2017-06-24T19:15:47Z</td> <td>Python  </td> <td>26.9k          </td> <td>nan                                                         </td> <td>https://github.com/rg3/youtube-dl                       </td> <td>10095          </td>\n",
       "        </tr>\n",
       "        <tr>\n",
       "            <td>django       </td> <td>django                     </td> <td>The Web framework for perfectionists with deadlines.        </td> <td>2017-06-24T14:49:32Z</td> <td>Python  </td> <td>26.4k          </td> <td>python,django,views,framework,orm,web,apps,templates,models </td> <td>https://github.com/django/django                        </td> <td>19659          </td>\n",
       "        </tr>\n",
       "        <tr>\n",
       "            <td>requests     </td> <td>requests                   </td> <td>Python HTTP Requests for Humans                             </td> <td>2017-06-16T22:31:24Z</td> <td>Python  </td> <td>25.7k          </td> <td>python,http,requests,forhumans,kennethreitz                 </td> <td>https://github.com/requests/requests                    </td> <td>7446           </td>\n",
       "        </tr>\n",
       "        <tr>\n",
       "            <td>ansible      </td> <td>ansible                    </td> <td>Ansible is a radically simple IT automation platform tha ...</td> <td>2017-06-24T19:07:24Z</td> <td>Python  </td> <td>23.9k          </td> <td>python,ansible                                              </td> <td>https://github.com/ansible/ansible                      </td> <td>17583          </td>\n",
       "        </tr>\n",
       "        <tr>\n",
       "            <td>josephmisiti </td> <td>awesome-machine-learning   </td> <td>A curated list of awesome Machine Learning frameworks, l ...</td> <td>2017-06-24T16:58:31Z</td> <td>Python  </td> <td>23.7k          </td> <td>nan                                                         </td> <td>https://github.com/josephmisiti/awesome-machine-learning</td> <td>10809          </td>\n",
       "        </tr>\n",
       "        <tr>\n",
       "            <td>minimaxir    </td> <td>big-list-of-naughty-strings</td> <td>The Big List of Naughty Strings is a list of strings whi ...</td> <td>2017-05-26T17:09:45Z</td> <td>Python  </td> <td>21.2k          </td> <td>nan                                                         </td> <td>https://github.com/minimaxir/big-list-of-naughty-strings</td> <td>1454           </td>\n",
       "        </tr>\n",
       "    </tbody>\n",
       "</table>\n",
       "<p>... (53 rows omitted)</p>"
      ],
      "text/plain": [
       "Username      | Repository Name             | Description                                                  | Last Update Date     | Language | Number of Stars | Tags                                                         | Url                                                      | Number of Forks\n",
       "vinta         | awesome-python              | A curated list of awesome Python frameworks, libraries,  ... | 2017-06-18T09:43:08Z | Python   | 35.3k           | python,awesome,collections                                   | https://github.com/vinta/awesome-python                  | 14983\n",
       "jakubroztocil | httpie                      | Modern command line HTTP client  user-friendly curl alte ... | 2017-06-18T06:18:33Z | Python   | 30.2k           | python,debugging,cli,http,client,json,development,termin ... | https://github.com/jakubroztocil/httpie                  | 2881\n",
       "nvbn          | thefuck                     | Magnificent app which corrects your previous console com ... | 2017-06-19T21:12:47Z | Python   | 28.6k           | python,shell                                                 | https://github.com/nvbn/thefuck                          | 2524\n",
       "pallets       | flask                       | A microframework based on Werkzeug, Jinja2 and good inte ... | 2017-06-21T23:13:36Z | Python   | 27.8k           | python,flask,web-framework,wsgi,jinja,werkzeug               | https://github.com/pallets/flask                         | 13090\n",
       "rg3           | youtube-dl                  | Command-line program to download videos from YouTube.com ... | 2017-06-24T19:15:47Z | Python   | 26.9k           | nan                                                          | https://github.com/rg3/youtube-dl                        | 10095\n",
       "django        | django                      | The Web framework for perfectionists with deadlines.         | 2017-06-24T14:49:32Z | Python   | 26.4k           | python,django,views,framework,orm,web,apps,templates,models  | https://github.com/django/django                         | 19659\n",
       "requests      | requests                    | Python HTTP Requests for Humans                              | 2017-06-16T22:31:24Z | Python   | 25.7k           | python,http,requests,forhumans,kennethreitz                  | https://github.com/requests/requests                     | 7446\n",
       "ansible       | ansible                     | Ansible is a radically simple IT automation platform tha ... | 2017-06-24T19:07:24Z | Python   | 23.9k           | python,ansible                                               | https://github.com/ansible/ansible                       | 17583\n",
       "josephmisiti  | awesome-machine-learning    | A curated list of awesome Machine Learning frameworks, l ... | 2017-06-24T16:58:31Z | Python   | 23.7k           | nan                                                          | https://github.com/josephmisiti/awesome-machine-learning | 10809\n",
       "minimaxir     | big-list-of-naughty-strings | The Big List of Naughty Strings is a list of strings whi ... | 2017-05-26T17:09:45Z | Python   | 21.2k           | nan                                                          | https://github.com/minimaxir/big-list-of-naughty-strings | 1454\n",
       "... (53 rows omitted)"
      ]
     },
     "execution_count": 6,
     "metadata": {},
     "output_type": "execute_result"
    }
   ],
   "source": [
    "pythonProjects = Table().read_table('TopRatedRepos.csv').where('Language', are.equal_to('Python'))\n",
    "pythonProjects"
   ]
  },
  {
   "cell_type": "markdown",
   "metadata": {},
   "source": [
    "### Q1.4: Filter our data\n",
    "\n",
    "For this exercie we are mostly going to focus on `Username`, `Repository Name`, `Language`, `Number of Forks` and `Number of Stars`.\n",
    "Create a table with only those values\n",
    "\n",
    "Hint use `select`"
   ]
  },
  {
   "cell_type": "code",
   "execution_count": 7,
   "metadata": {},
   "outputs": [
    {
     "data": {
      "text/html": [
       "<table border=\"1\" class=\"dataframe\">\n",
       "    <thead>\n",
       "        <tr>\n",
       "            <th>Username</th> <th>Repository Name</th> <th>Language</th> <th>Number of Forks</th> <th>Number of Stars</th>\n",
       "        </tr>\n",
       "    </thead>\n",
       "    <tbody>\n",
       "        <tr>\n",
       "            <td>freeCodeCamp   </td> <td>freeCodeCamp          </td> <td>JavaScript</td> <td>23262          </td> <td>290k           </td>\n",
       "        </tr>\n",
       "        <tr>\n",
       "            <td>twbs           </td> <td>bootstrap             </td> <td>JavaScript</td> <td>67527          </td> <td>112k           </td>\n",
       "        </tr>\n",
       "        <tr>\n",
       "            <td>EbookFoundation</td> <td>free-programming-books</td> <td>nan       </td> <td>32974          </td> <td>87.8k          </td>\n",
       "        </tr>\n",
       "        <tr>\n",
       "            <td>facebook       </td> <td>react                 </td> <td>JavaScript</td> <td>26698          </td> <td>69.7k          </td>\n",
       "        </tr>\n",
       "        <tr>\n",
       "            <td>d3             </td> <td>d3                    </td> <td>JavaScript</td> <td>21590          </td> <td>65.7k          </td>\n",
       "        </tr>\n",
       "        <tr>\n",
       "            <td>getify         </td> <td>You-Dont-Know-JS      </td> <td>JavaScript</td> <td>22440          </td> <td>62k            </td>\n",
       "        </tr>\n",
       "        <tr>\n",
       "            <td>tensorflow     </td> <td>tensorflow            </td> <td>C++       </td> <td>78752          </td> <td>61.6k          </td>\n",
       "        </tr>\n",
       "        <tr>\n",
       "            <td>sindresorhus   </td> <td>awesome               </td> <td>nan       </td> <td>16014          </td> <td>60.7k          </td>\n",
       "        </tr>\n",
       "        <tr>\n",
       "            <td>vuejs          </td> <td>vue                   </td> <td>JavaScript</td> <td>22841          </td> <td>57.7k          </td>\n",
       "        </tr>\n",
       "        <tr>\n",
       "            <td>angular        </td> <td>angular.js            </td> <td>JavaScript</td> <td>28853          </td> <td>56.2k          </td>\n",
       "        </tr>\n",
       "    </tbody>\n",
       "</table>\n",
       "<p>... (970 rows omitted)</p>"
      ],
      "text/plain": [
       "Username        | Repository Name        | Language   | Number of Forks | Number of Stars\n",
       "freeCodeCamp    | freeCodeCamp           | JavaScript | 23262           | 290k\n",
       "twbs            | bootstrap              | JavaScript | 67527           | 112k\n",
       "EbookFoundation | free-programming-books | nan        | 32974           | 87.8k\n",
       "facebook        | react                  | JavaScript | 26698           | 69.7k\n",
       "d3              | d3                     | JavaScript | 21590           | 65.7k\n",
       "getify          | You-Dont-Know-JS       | JavaScript | 22440           | 62k\n",
       "tensorflow      | tensorflow             | C++        | 78752           | 61.6k\n",
       "sindresorhus    | awesome                | nan        | 16014           | 60.7k\n",
       "vuejs           | vue                    | JavaScript | 22841           | 57.7k\n",
       "angular         | angular.js             | JavaScript | 28853           | 56.2k\n",
       "... (970 rows omitted)"
      ]
     },
     "execution_count": 7,
     "metadata": {},
     "output_type": "execute_result"
    }
   ],
   "source": [
    "cleanData = repos.select('Username', 'Repository Name', 'Language', 'Number of Forks', 'Number of Stars')\n",
    "cleanData"
   ]
  },
  {
   "cell_type": "markdown",
   "metadata": {},
   "source": [
    "---"
   ]
  },
  {
   "cell_type": "markdown",
   "metadata": {},
   "source": [
    "# Part 2: Clean up"
   ]
  },
  {
   "cell_type": "markdown",
   "metadata": {},
   "source": [
    "### Q2.1: What is type of the column Number of Stars?\n",
    "\n",
    "Hint Lab04 `Q1.1`"
   ]
  },
  {
   "cell_type": "code",
   "execution_count": 9,
   "metadata": {},
   "outputs": [
    {
     "data": {
      "text/plain": [
       "str"
      ]
     },
     "execution_count": 9,
     "metadata": {},
     "output_type": "execute_result"
    }
   ],
   "source": [
    "typeOfNumberOfStars = type(repos.column(\"Number of Stars\").item(0))\n",
    "typeOfNumberOfStars"
   ]
  },
  {
   "cell_type": "markdown",
   "metadata": {},
   "source": [
    "### Q2.2: Create a python function that turns the string `290k` into a float\n",
    "\n",
    "Hint lab04 `Q1.4`"
   ]
  },
  {
   "cell_type": "code",
   "execution_count": 10,
   "metadata": {},
   "outputs": [
    {
     "data": {
      "text/plain": [
       "'65.7k'"
      ]
     },
     "execution_count": 10,
     "metadata": {},
     "output_type": "execute_result"
    }
   ],
   "source": [
    "d3Stars = '65.7k'\n",
    "d3Stars"
   ]
  },
  {
   "cell_type": "code",
   "execution_count": 15,
   "metadata": {},
   "outputs": [],
   "source": [
    "def toFloat(starts):\n",
    "    total_stars = 0\n",
    "    if 'k' in starts:\n",
    "        if len(starts) > 1:\n",
    "            total_stars = float(starts.replace('k', '')) * 1000\n",
    "    else:\n",
    "        total_stars = int(starts) # Less than 1000\n",
    "    return float(total_stars)"
   ]
  },
  {
   "cell_type": "code",
   "execution_count": 16,
   "metadata": {},
   "outputs": [
    {
     "data": {
      "text/plain": [
       "True"
      ]
     },
     "execution_count": 16,
     "metadata": {},
     "output_type": "execute_result"
    }
   ],
   "source": [
    "### this should return True\n",
    "toFloat(d3Stars) == 65700."
   ]
  },
  {
   "cell_type": "code",
   "execution_count": null,
   "metadata": {},
   "outputs": [],
   "source": []
  },
  {
   "cell_type": "markdown",
   "metadata": {},
   "source": [
    "### Q2.3: Apply that function to the `Number of Stars` column\n",
    "\n",
    "Hint: Lab04 `Q3.1`"
   ]
  },
  {
   "cell_type": "code",
   "execution_count": 17,
   "metadata": {},
   "outputs": [
    {
     "data": {
      "text/plain": [
       "array([290000., 112000.,  87800.,  69700.,  65700.,  62000.,  61600.,\n",
       "        60700.,  57700.,  56200.,  55200.,  54100.,  51600.,  50900.,\n",
       "        50000.,  47200.,  46300.,  45300.,  44900.,  44300.,  42800.,\n",
       "        39100.,  37800.,  37700.,  37600.,  36400.,  36400.,  36100.,\n",
       "        35600.,  35300.,  35200.,  33800.,  33600.,  32900.,  32500.,\n",
       "        32000.,  31900.,  31800.,  31800.,  31000.,  30700.,  30200.,\n",
       "        30200.,  30100.,  30100.,  29600.,  29400.,  29400.,  29400.,\n",
       "        29200.,  29100.,  29000.,  28600.,  28200.,  27800.,  27800.,\n",
       "        27800.,  27600.,  27200.,  26900.,  26900.,  26700.,  26600.,\n",
       "        26600.,  26400.,  26400.,  25900.,  25700.,  25700.,  25300.,\n",
       "        25200.,  24400.,  24300.,  24300.,  24100.,  24000.,  23900.,\n",
       "        23900.,  23800.,  23700.,  23600.,  23600.,  23400.,  23300.,\n",
       "        23200.,  23200.,  23100.,  23000.,  23000.,  22900.,  22800.,\n",
       "        22500.,  22500.,  22300.,  22300.,  22000.,  21900.,  21900.,\n",
       "        21900.,  21800.,  21600.,  21600.,  21500.,  21300.,  21200.,\n",
       "        21200.,  20900.,  20900.,  20700.,  20600.,  20600.,  20500.,\n",
       "        20400.,  20400.,  20100.,  20000.,  19900.,  19800.,  19800.,\n",
       "        19700.,  19500.,  19500.,  19500.,  19500.,  19400.,  19300.,\n",
       "        19300.,  19200.,  19200.,  19200.,  19100.,  18900.,  18800.,\n",
       "        18700.,  18700.,  18700.,  18600.,  18600.,  18600.,  18300.,\n",
       "        18300.,  18200.,  18200.,  18000.,  18000.,  18000.,  18000.,\n",
       "        17800.,  17800.,  17800.,  17600.,  17600.,  17600.,  17500.,\n",
       "        17500.,  17400.,  17400.,  17300.,  17300.,  17200.,  17200.,\n",
       "        17200.,  17100.,  17100.,  17000.,  17000.,  17000.,  17000.,\n",
       "        16900.,  16900.,  16900.,  16800.,  16700.,  16700.,  16600.,\n",
       "        16600.,  16600.,  16500.,  16500.,  16500.,  16500.,  16400.,\n",
       "        16400.,  16400.,  16400.,  16400.,  16300.,  16300.,  16100.,\n",
       "        16100.,  16100.,  16100.,  15900.,  15900.,  15900.,  15700.,\n",
       "        15700.,  15700.,  15700.,  15600.,  15600.,  15600.,  15500.,\n",
       "        15500.,  15400.,  15400.,  15400.,  15300.,  15200.,  15200.,\n",
       "        15200.,  15100.,  15100.,  15100.,  15100.,  15100.,  15000.,\n",
       "        14900.,  14900.,  14900.,  14900.,  14800.,  14800.,  14800.,\n",
       "        14800.,  14800.,  14700.,  14700.,  14700.,  14700.,  14700.,\n",
       "        14700.,  14600.,  14600.,  14600.,  14600.,  14600.,  14500.,\n",
       "        14400.,  14400.,  14400.,  14300.,  14300.,  14300.,  14200.,\n",
       "        14200.,  14200.,  14200.,  14100.,  14100.,  14100.,  14000.,\n",
       "        14000.,  14000.,  14000.,  14000.,  13900.,  13900.,  13900.,\n",
       "        13800.,  13800.,  13800.,  13800.,  13700.,  13700.,  13700.,\n",
       "        13600.,  13600.,  13600.,  13600.,  13500.,  13500.,  13500.,\n",
       "        13400.,  13400.,  13400.,  13400.,  13400.,  13400.,  13300.,\n",
       "        13300.,  13300.,  13300.,  13200.,  13200.,  13100.,  13100.,\n",
       "        13100.,  13000.,  13000.,  13000.,  13000.,  13000.,  12900.,\n",
       "        12900.,  12800.,  12800.,  12800.,  12800.,  12700.,  12700.,\n",
       "        12600.,  12600.,  12600.,  12600.,  12600.,  12600.,  12600.,\n",
       "        12500.,  12500.,  12500.,  12500.,  12400.,  12400.,  12400.,\n",
       "        12400.,  12400.,  12300.,  12300.,  12200.,  12200.,  12200.,\n",
       "        12200.,  12200.,  12200.,  12100.,  12100.,  12100.,  12100.,\n",
       "        12000.,  12000.,  12000.,  12000.,  11900.,  11800.,  11800.,\n",
       "        11700.,  11700.,  11700.,  11700.,  11700.,  11700.,  11700.,\n",
       "        11700.,  11600.,  11600.,  11600.,  11600.,  11600.,  11500.,\n",
       "        11500.,  11500.,  11500.,  11500.,  11500.,  11400.,  11400.,\n",
       "        11300.,  11300.,  11300.,  11300.,  11200.,  11200.,  11200.,\n",
       "        11200.,  11200.,  11200.,  11100.,  11100.,  11100.,  11000.,\n",
       "        11000.,  11000.,  10900.,  10900.,  10900.,  10900.,  10900.,\n",
       "        10900.,  10900.,  10900.,  10900.,  10800.,  10800.,  10800.,\n",
       "        10800.,  10700.,  10700.,  10700.,  10700.,  10600.,  10600.,\n",
       "        10600.,  10600.,  10600.,  10600.,  10500.,  10500.,  10500.,\n",
       "        10500.,  10500.,  10500.,  10500.,  10500.,  10500.,  10500.,\n",
       "        10500.,  10500.,  10400.,  10400.,  10400.,  10400.,  10400.,\n",
       "        10400.,  10400.,  10400.,  10400.,  10400.,  10300.,  10300.,\n",
       "        10100.,  10000.,  10000.,  10000.,  10000.,  10000.,  10000.,\n",
       "        10000.,  10000.,  10000.,  10000.,  10000.,  10000.,  10000.,\n",
       "        10000.,  10000.,   9900.,   9900.,   9900.,   9900.,   9900.,\n",
       "         9900.,   9900.,   9900.,   9900.,   9900.,   9800.,   9800.,\n",
       "         9800.,   9800.,   9800.,   9800.,   9800.,   9800.,   9800.,\n",
       "         9800.,   9800.,   9700.,   9700.,   9700.,   9700.,   9700.,\n",
       "         9700.,   9700.,   9700.,   9700.,   9700.,   9700.,   9700.,\n",
       "         9700.,   9700.,   9700.,   9600.,   9600.,   9600.,   9600.,\n",
       "         9600.,   9600.,   9600.,   9600.,   9600.,   9600.,   9600.,\n",
       "         9500.,   9500.,   9500.,   9500.,   9500.,   9500.,   9500.,\n",
       "         9500.,   9500.,   9500.,   9500.,   9500.,   9500.,   9500.,\n",
       "         9500.,   9400.,   9400.,   9400.,   9400.,   9400.,   9400.,\n",
       "         9400.,   9400.,   9400.,   9400.,   9400.,   9400.,   9400.,\n",
       "         9300.,   9300.,   9300.,   9300.,   9300.,   9300.,   9300.,\n",
       "         9300.,   9300.,   9200.,   9200.,   9200.,   9200.,   9200.,\n",
       "         9200.,   9200.,   9200.,   9200.,   9200.,   9200.,   9200.,\n",
       "         9200.,   9200.,   9200.,   9200.,   9100.,   9100.,   9100.,\n",
       "         9100.,   9100.,   9100.,   9100.,   9100.,   9100.,   9100.,\n",
       "         9100.,   9100.,   9100.,   9000.,   9000.,   9000.,   9000.,\n",
       "         9000.,   9000.,   9000.,   9000.,   9000.,   9000.,   9000.,\n",
       "         9000.,   9000.,   8900.,   8900.,   8900.,   8900.,   8900.,\n",
       "         8900.,   8900.,   8900.,   8900.,   8900.,   8800.,   8800.,\n",
       "         8800.,   8800.,   8800.,   8800.,   8800.,   8800.,   8800.,\n",
       "         8700.,   8700.,   8700.,   8700.,   8700.,   8700.,   8700.,\n",
       "         8700.,   8700.,   8600.,   8600.,   8600.,   8600.,   8600.,\n",
       "         8600.,   8600.,   8600.,   8600.,   8600.,   8600.,   8600.,\n",
       "         8500.,   8500.,   8500.,   8500.,   8500.,   8500.,   8500.,\n",
       "         8500.,   8500.,   8400.,   8400.,   8400.,   8400.,   8400.,\n",
       "         8400.,   8400.,   8400.,   8400.,   8400.,   8400.,   8400.,\n",
       "         8400.,   8400.,   8400.,   8400.,   8300.,   8300.,   8300.,\n",
       "         8300.,   8300.,   8300.,   8300.,   8300.,   8300.,   8300.,\n",
       "         8300.,   8300.,   8300.,   8300.,   8300.,   8200.,   8200.,\n",
       "         8200.,   8200.,   8200.,   8200.,   8200.,   8200.,   8200.,\n",
       "         8200.,   8200.,   8200.,   8200.,   8200.,   8200.,   8200.,\n",
       "         8200.,   8200.,   8200.,   8200.,   8100.,   8100.,   8100.,\n",
       "         8100.,   8100.,   8100.,   8100.,   8100.,   8100.,   8000.,\n",
       "         8000.,   8000.,   8000.,   8000.,   8000.,   8000.,   8000.,\n",
       "         8000.,   8000.,   8000.,   8000.,   8000.,   8000.,   8000.,\n",
       "         8000.,   7900.,   7900.,   7900.,   7900.,   7900.,   7900.,\n",
       "         7900.,   7900.,   7900.,   7900.,   7900.,   7900.,   7900.,\n",
       "         7900.,   7900.,   7900.,   7900.,   7900.,   7900.,   7800.,\n",
       "         7800.,   7800.,   7800.,   7800.,   7800.,   7800.,   7800.,\n",
       "         7800.,   7800.,   7800.,   7800.,   7800.,   7800.,   7800.,\n",
       "         7800.,   7800.,   7800.,   7800.,   7800.,   7800.,   7800.,\n",
       "         7800.,   7800.,   7800.,   7800.,   7800.,   7700.,   7700.,\n",
       "         7700.,   7700.,   7700.,   7700.,   7700.,   7700.,   7700.,\n",
       "         7700.,   7700.,   7700.,   7700.,   7700.,   7700.,   7700.,\n",
       "         7700.,   7700.,   7600.,   7600.,   7600.,   7600.,   7600.,\n",
       "         7600.,   7600.,   7600.,   7600.,   7600.,   7600.,   7600.,\n",
       "         7600.,   7600.,   7500.,   7500.,   7500.,   7500.,   7500.,\n",
       "         7500.,   7500.,   7500.,   7500.,   7500.,   7500.,   7500.,\n",
       "         7500.,   7500.,   7500.,   7500.,   7500.,   7400.,   7400.,\n",
       "         7400.,   7400.,   7400.,   7400.,   7400.,   7400.,   7400.,\n",
       "         7400.,   7400.,   7400.,   7400.,   7400.,   7400.,   7400.,\n",
       "         7300.,   7300.,   7300.,   7300.,   7300.,   7300.,   7300.,\n",
       "         7300.,   7300.,   7300.,   7300.,   7300.,   7300.,   7300.,\n",
       "         7300.,   7300.,   7300.,   7300.,   7300.,   7300.,   7300.,\n",
       "         7200.,   7200.,   7200.,   7200.,   7200.,   7200.,   7200.,\n",
       "         7200.,   7200.,   7200.,   7200.,   7200.,   7100.,   7100.,\n",
       "         7100.,   7100.,   7100.,   7100.,   7100.,   7100.,   7100.,\n",
       "         7000.,   7000.,   7000.,   7000.,   7000.,   7000.,   7000.,\n",
       "         7000.,   7000.,   7000.,   7000.,   7000.,   7000.,   7000.,\n",
       "         7000.,   7000.,   7000.,   7000.,   7000.,   7000.,   7000.,\n",
       "         7000.,   6900.,   6900.,   6900.,   6900.,   6900.,   6900.,\n",
       "         6900.,   6900.,   6900.,   6900.,   6900.,   6900.,   6900.,\n",
       "         6900.,   6900.,   6900.,   6900.,   6900.,   6900.,   6900.,\n",
       "         6800.,   6800.,   6800.,   6800.,   6800.,   6800.,   6800.,\n",
       "         6800.,   6800.,   6800.,   6800.,   6800.,   6800.,   6800.,\n",
       "         6800.,   6800.,   6800.,   6800.,   6800.,   6800.,   6800.,\n",
       "         6800.,   6800.,   6700.,   6700.,   6700.,   6700.,   6700.,\n",
       "         6700.,   6700.,   6700.,   6700.,   6700.,   6700.,   6700.,\n",
       "         6700.,   6700.,   6700.,   6700.,   6700.,   6700.,   6700.,\n",
       "         6600.,   6600.,   6600.,   6600.,   6600.,   6600.,   6600.,\n",
       "         6600.,   6600.,   6600.,   6600.,   6600.,   6600.,   6600.,\n",
       "         6600.,   6600.,   6600.,   6600.,   6600.,   6600.,   6600.,\n",
       "         6500.,   6500.,   6500.,   6500.,   6500.,   6500.,   6500.,\n",
       "         6500.,   6500.,   6500.,   6500.,   6500.,   6500.,   6500.,\n",
       "         6500.,   6500.,   6500.,   6500.,   6500.,   6500.,   6500.,\n",
       "         6500.,   6500.,   6500.,   6400.,   6400.,   6400.,   6400.,\n",
       "         6400.,   6400.,   6400.,   6400.,   6400.,   6400.,   6400.])"
      ]
     },
     "execution_count": 17,
     "metadata": {},
     "output_type": "execute_result"
    }
   ],
   "source": [
    "NumberOfStarsAsFloat = repos.apply(toFloat, \"Number of Stars\")\n",
    "NumberOfStarsAsFloat"
   ]
  },
  {
   "cell_type": "code",
   "execution_count": null,
   "metadata": {},
   "outputs": [],
   "source": []
  },
  {
   "cell_type": "markdown",
   "metadata": {},
   "source": [
    "### Q2.4 Add `Rounded Number of stars` to the table with the values of `NumberOfStarsAsFloat`\n",
    "\n",
    "Hint: Lab04 `Q3.1`"
   ]
  },
  {
   "cell_type": "markdown",
   "metadata": {},
   "source": []
  },
  {
   "cell_type": "raw",
   "metadata": {},
   "source": []
  },
  {
   "cell_type": "code",
   "execution_count": 18,
   "metadata": {},
   "outputs": [
    {
     "data": {
      "text/html": [
       "<table border=\"1\" class=\"dataframe\">\n",
       "    <thead>\n",
       "        <tr>\n",
       "            <th>Username</th> <th>Repository Name</th> <th>Description</th> <th>Last Update Date</th> <th>Language</th> <th>Number of Stars</th> <th>Tags</th> <th>Url</th> <th>Number of Forks</th> <th>Rounded Number</th>\n",
       "        </tr>\n",
       "    </thead>\n",
       "    <tbody>\n",
       "        <tr>\n",
       "            <td>freeCodeCamp   </td> <td>freeCodeCamp          </td> <td>The https://freeCodeCamp.com open source codebase and cu ...</td> <td>2017-06-24T15:56:17Z</td> <td>JavaScript</td> <td>290k           </td> <td>nonprofits,certification,curriculum,react,nodejs,javascr ...</td> <td>https://github.com/freeCodeCamp/freeCodeCamp             </td> <td>23262          </td> <td>290000        </td>\n",
       "        </tr>\n",
       "        <tr>\n",
       "            <td>twbs           </td> <td>bootstrap             </td> <td>The most popular HTML, CSS, and JavaScript framework for ...</td> <td>2017-06-24T15:40:21Z</td> <td>JavaScript</td> <td>112k           </td> <td>javascript,css,html,bootstrap,jekyll-site,scss              </td> <td>https://github.com/twbs/bootstrap                        </td> <td>67527          </td> <td>112000        </td>\n",
       "        </tr>\n",
       "        <tr>\n",
       "            <td>EbookFoundation</td> <td>free-programming-books</td> <td> Freely available programming books                         </td> <td>2017-06-23T01:09:34Z</td> <td>nan       </td> <td>87.8k          </td> <td>education,list,books,resource                               </td> <td>https://github.com/EbookFoundation/free-programming-books</td> <td>32974          </td> <td>87800         </td>\n",
       "        </tr>\n",
       "        <tr>\n",
       "            <td>facebook       </td> <td>react                 </td> <td>A declarative, efficient, and flexible JavaScript librar ...</td> <td>2017-06-24T19:33:49Z</td> <td>JavaScript</td> <td>69.7k          </td> <td>nan                                                         </td> <td>https://github.com/facebook/react                        </td> <td>26698          </td> <td>69700         </td>\n",
       "        </tr>\n",
       "        <tr>\n",
       "            <td>d3             </td> <td>d3                    </td> <td>Bring data to life with SVG, Canvas and HTML.               </td> <td>2017-05-31T06:03:47Z</td> <td>JavaScript</td> <td>65.7k          </td> <td>visualization                                               </td> <td>https://github.com/d3/d3                                 </td> <td>21590          </td> <td>65700         </td>\n",
       "        </tr>\n",
       "        <tr>\n",
       "            <td>getify         </td> <td>You-Dont-Know-JS      </td> <td>A book series on JavaScript. @YDKJS on twitter.             </td> <td>2017-06-23T10:42:36Z</td> <td>JavaScript</td> <td>62k            </td> <td>book-series,javascript,training-materials,async,educatio ...</td> <td>https://github.com/getify/You-Dont-Know-JS               </td> <td>22440          </td> <td>62000         </td>\n",
       "        </tr>\n",
       "        <tr>\n",
       "            <td>tensorflow     </td> <td>tensorflow            </td> <td>Computation using data flow graphs for scalable machine  ...</td> <td>2017-06-24T18:25:42Z</td> <td>C++       </td> <td>61.6k          </td> <td>tensorflow,python,machine-learning,deep-neural-networks, ...</td> <td>https://github.com/tensorflow/tensorflow                 </td> <td>78752          </td> <td>61600         </td>\n",
       "        </tr>\n",
       "        <tr>\n",
       "            <td>sindresorhus   </td> <td>awesome               </td> <td> Curated list of awesome lists                              </td> <td>2017-06-24T17:26:02Z</td> <td>nan       </td> <td>60.7k          </td> <td>lists,awesome,unicorns,resources,awesome-list               </td> <td>https://github.com/sindresorhus/awesome                  </td> <td>16014          </td> <td>60700         </td>\n",
       "        </tr>\n",
       "        <tr>\n",
       "            <td>vuejs          </td> <td>vue                   </td> <td>A progressive, incrementally-adoptable JavaScript framew ...</td> <td>2017-06-24T15:38:55Z</td> <td>JavaScript</td> <td>57.7k          </td> <td>javascript,vue,framework,frontend                           </td> <td>https://github.com/vuejs/vue                             </td> <td>22841          </td> <td>57700         </td>\n",
       "        </tr>\n",
       "        <tr>\n",
       "            <td>angular        </td> <td>angular.js            </td> <td>AngularJS - HTML enhanced for web apps!                     </td> <td>2017-06-24T06:25:23Z</td> <td>JavaScript</td> <td>56.2k          </td> <td>nan                                                         </td> <td>https://github.com/angular/angular.js                    </td> <td>28853          </td> <td>56200         </td>\n",
       "        </tr>\n",
       "    </tbody>\n",
       "</table>\n",
       "<p>... (970 rows omitted)</p>"
      ],
      "text/plain": [
       "Username        | Repository Name        | Description                                                  | Last Update Date     | Language   | Number of Stars | Tags                                                         | Url                                                       | Number of Forks | Rounded Number\n",
       "freeCodeCamp    | freeCodeCamp           | The https://freeCodeCamp.com open source codebase and cu ... | 2017-06-24T15:56:17Z | JavaScript | 290k            | nonprofits,certification,curriculum,react,nodejs,javascr ... | https://github.com/freeCodeCamp/freeCodeCamp              | 23262           | 290000\n",
       "twbs            | bootstrap              | The most popular HTML, CSS, and JavaScript framework for ... | 2017-06-24T15:40:21Z | JavaScript | 112k            | javascript,css,html,bootstrap,jekyll-site,scss               | https://github.com/twbs/bootstrap                         | 67527           | 112000\n",
       "EbookFoundation | free-programming-books |  Freely available programming books                          | 2017-06-23T01:09:34Z | nan        | 87.8k           | education,list,books,resource                                | https://github.com/EbookFoundation/free-programming-books | 32974           | 87800\n",
       "facebook        | react                  | A declarative, efficient, and flexible JavaScript librar ... | 2017-06-24T19:33:49Z | JavaScript | 69.7k           | nan                                                          | https://github.com/facebook/react                         | 26698           | 69700\n",
       "d3              | d3                     | Bring data to life with SVG, Canvas and HTML.                | 2017-05-31T06:03:47Z | JavaScript | 65.7k           | visualization                                                | https://github.com/d3/d3                                  | 21590           | 65700\n",
       "getify          | You-Dont-Know-JS       | A book series on JavaScript. @YDKJS on twitter.              | 2017-06-23T10:42:36Z | JavaScript | 62k             | book-series,javascript,training-materials,async,educatio ... | https://github.com/getify/You-Dont-Know-JS                | 22440           | 62000\n",
       "tensorflow      | tensorflow             | Computation using data flow graphs for scalable machine  ... | 2017-06-24T18:25:42Z | C++        | 61.6k           | tensorflow,python,machine-learning,deep-neural-networks, ... | https://github.com/tensorflow/tensorflow                  | 78752           | 61600\n",
       "sindresorhus    | awesome                |  Curated list of awesome lists                               | 2017-06-24T17:26:02Z | nan        | 60.7k           | lists,awesome,unicorns,resources,awesome-list                | https://github.com/sindresorhus/awesome                   | 16014           | 60700\n",
       "vuejs           | vue                    | A progressive, incrementally-adoptable JavaScript framew ... | 2017-06-24T15:38:55Z | JavaScript | 57.7k           | javascript,vue,framework,frontend                            | https://github.com/vuejs/vue                              | 22841           | 57700\n",
       "angular         | angular.js             | AngularJS - HTML enhanced for web apps!                      | 2017-06-24T06:25:23Z | JavaScript | 56.2k           | nan                                                          | https://github.com/angular/angular.js                     | 28853           | 56200\n",
       "... (970 rows omitted)"
      ]
     },
     "execution_count": 18,
     "metadata": {},
     "output_type": "execute_result"
    }
   ],
   "source": [
    "withRoundedStars = repos.with_column(\n",
    "    \"Rounded Number\",\n",
    "    repos.apply(toFloat, \"Number of Stars\"))\n",
    "withRoundedStars"
   ]
  },
  {
   "cell_type": "markdown",
   "metadata": {},
   "source": [
    "### Q2.5 Sort `withRoundedStars` Least starred repo should be at the top\n"
   ]
  },
  {
   "cell_type": "code",
   "execution_count": 23,
   "metadata": {},
   "outputs": [
    {
     "data": {
      "text/html": [
       "<table border=\"1\" class=\"dataframe\">\n",
       "    <thead>\n",
       "        <tr>\n",
       "            <th>Username</th> <th>Repository Name</th> <th>Description</th> <th>Last Update Date</th> <th>Language</th> <th>Number of Stars</th> <th>Tags</th> <th>Url</th> <th>Number of Forks</th> <th>Rounded Number</th>\n",
       "        </tr>\n",
       "    </thead>\n",
       "    <tbody>\n",
       "        <tr>\n",
       "            <td>bodymovin        </td> <td>bodymovin                 </td> <td>after effects to html library                               </td> <td>2017-06-21T11:24:06Z</td> <td>JavaScript</td> <td>6.4k           </td> <td>nan                                                         </td> <td>https://github.com/bodymovin/bodymovin              </td> <td>1804           </td> <td>6400          </td>\n",
       "        </tr>\n",
       "        <tr>\n",
       "            <td>thoughtbot       </td> <td>laptop                    </td> <td>A shell script to set up a macOS laptop for web and mobi ...</td> <td>2017-06-21T22:13:55Z</td> <td>Shell     </td> <td>6.4k           </td> <td>nan                                                         </td> <td>https://github.com/thoughtbot/laptop                </td> <td>1804           </td> <td>6400          </td>\n",
       "        </tr>\n",
       "        <tr>\n",
       "            <td>boltdb           </td> <td>bolt                      </td> <td>An embedded key/value database for Go.                      </td> <td>2017-06-21T09:14:46Z</td> <td>Go        </td> <td>6.4k           </td> <td>go,database,key-value                                       </td> <td>https://github.com/boltdb/bolt                      </td> <td>1148           </td> <td>6400          </td>\n",
       "        </tr>\n",
       "        <tr>\n",
       "            <td>braziljs         </td> <td>js-the-right-way          </td> <td>An easy-to-read, quick reference for JS best practices,  ...</td> <td>2017-06-21T01:54:02Z</td> <td>HTML      </td> <td>6.4k           </td> <td>javascript,best-practices,js,guide                          </td> <td>https://github.com/braziljs/js-the-right-way        </td> <td>897            </td> <td>6400          </td>\n",
       "        </tr>\n",
       "        <tr>\n",
       "            <td>plotly           </td> <td>plotly.js                 </td> <td>The open source JavaScript graphing library that powers  ...</td> <td>2017-06-23T21:32:19Z</td> <td>JavaScript</td> <td>6.4k           </td> <td>d3,webgl,charting-library,plotly,data-visualization         </td> <td>https://github.com/plotly/plotly.js                 </td> <td>1294           </td> <td>6400          </td>\n",
       "        </tr>\n",
       "        <tr>\n",
       "            <td>poteto           </td> <td>hiring-without-whiteboards</td> <td> Companies that don't have a broken hiring process          </td> <td>2017-06-23T22:40:38Z</td> <td>JavaScript</td> <td>6.4k           </td> <td>whiteboard,interview,tech,jobs,hiring,airtable,hiring-wi ...</td> <td>https://github.com/poteto/hiring-without-whiteboards</td> <td>1388           </td> <td>6400          </td>\n",
       "        </tr>\n",
       "        <tr>\n",
       "            <td>chrisjenx        </td> <td>Calligraphy               </td> <td>Custom fonts in Android the easy way...                     </td> <td>2017-06-06T19:23:22Z</td> <td>Java      </td> <td>6.4k           </td> <td>nan                                                         </td> <td>https://github.com/chrisjenx/Calligraphy            </td> <td>1080           </td> <td>6400          </td>\n",
       "        </tr>\n",
       "        <tr>\n",
       "            <td>eliangcs         </td> <td>http-prompt               </td> <td>HTTPie + prompt_toolkit = an interactive command-line HT ...</td> <td>2017-05-11T13:27:42Z</td> <td>Python    </td> <td>6.4k           </td> <td>python,syntax-highlighting,shell,cli,http,autocomplete,j ...</td> <td>https://github.com/eliangcs/http-prompt             </td> <td>288            </td> <td>6400          </td>\n",
       "        </tr>\n",
       "        <tr>\n",
       "            <td>robertdavidgraham</td> <td>masscan                   </td> <td>TCP port scanner, spews SYN packets asynchronously, scan ...</td> <td>2017-06-22T06:27:09Z</td> <td>C         </td> <td>6.4k           </td> <td>nan                                                         </td> <td>https://github.com/robertdavidgraham/masscan        </td> <td>1867           </td> <td>6400          </td>\n",
       "        </tr>\n",
       "        <tr>\n",
       "            <td>ElemeFE          </td> <td>mint-ui                   </td> <td>Mobile UI elements for Vue.js                               </td> <td>2017-06-22T10:02:35Z</td> <td>Vue       </td> <td>6.4k           </td> <td>vue,mobile,component,vue-components,ui-kit                  </td> <td>https://github.com/ElemeFE/mint-ui                  </td> <td>3379           </td> <td>6400          </td>\n",
       "        </tr>\n",
       "    </tbody>\n",
       "</table>\n",
       "<p>... (970 rows omitted)</p>"
      ],
      "text/plain": [
       "Username          | Repository Name            | Description                                                  | Last Update Date     | Language   | Number of Stars | Tags                                                         | Url                                                  | Number of Forks | Rounded Number\n",
       "bodymovin         | bodymovin                  | after effects to html library                                | 2017-06-21T11:24:06Z | JavaScript | 6.4k            | nan                                                          | https://github.com/bodymovin/bodymovin               | 1804            | 6400\n",
       "thoughtbot        | laptop                     | A shell script to set up a macOS laptop for web and mobi ... | 2017-06-21T22:13:55Z | Shell      | 6.4k            | nan                                                          | https://github.com/thoughtbot/laptop                 | 1804            | 6400\n",
       "boltdb            | bolt                       | An embedded key/value database for Go.                       | 2017-06-21T09:14:46Z | Go         | 6.4k            | go,database,key-value                                        | https://github.com/boltdb/bolt                       | 1148            | 6400\n",
       "braziljs          | js-the-right-way           | An easy-to-read, quick reference for JS best practices,  ... | 2017-06-21T01:54:02Z | HTML       | 6.4k            | javascript,best-practices,js,guide                           | https://github.com/braziljs/js-the-right-way         | 897             | 6400\n",
       "plotly            | plotly.js                  | The open source JavaScript graphing library that powers  ... | 2017-06-23T21:32:19Z | JavaScript | 6.4k            | d3,webgl,charting-library,plotly,data-visualization          | https://github.com/plotly/plotly.js                  | 1294            | 6400\n",
       "poteto            | hiring-without-whiteboards |  Companies that don't have a broken hiring process           | 2017-06-23T22:40:38Z | JavaScript | 6.4k            | whiteboard,interview,tech,jobs,hiring,airtable,hiring-wi ... | https://github.com/poteto/hiring-without-whiteboards | 1388            | 6400\n",
       "chrisjenx         | Calligraphy                | Custom fonts in Android the easy way...                      | 2017-06-06T19:23:22Z | Java       | 6.4k            | nan                                                          | https://github.com/chrisjenx/Calligraphy             | 1080            | 6400\n",
       "eliangcs          | http-prompt                | HTTPie + prompt_toolkit = an interactive command-line HT ... | 2017-05-11T13:27:42Z | Python     | 6.4k            | python,syntax-highlighting,shell,cli,http,autocomplete,j ... | https://github.com/eliangcs/http-prompt              | 288             | 6400\n",
       "robertdavidgraham | masscan                    | TCP port scanner, spews SYN packets asynchronously, scan ... | 2017-06-22T06:27:09Z | C          | 6.4k            | nan                                                          | https://github.com/robertdavidgraham/masscan         | 1867            | 6400\n",
       "ElemeFE           | mint-ui                    | Mobile UI elements for Vue.js                                | 2017-06-22T10:02:35Z | Vue        | 6.4k            | vue,mobile,component,vue-components,ui-kit                   | https://github.com/ElemeFE/mint-ui                   | 3379            | 6400\n",
       "... (970 rows omitted)"
      ]
     },
     "execution_count": 23,
     "metadata": {},
     "output_type": "execute_result"
    }
   ],
   "source": [
    "sortedRepos = withRoundedStars.sort(\"Rounded Number\")\n",
    "sortedRepos"
   ]
  },
  {
   "cell_type": "markdown",
   "metadata": {},
   "source": [
    "---"
   ]
  },
  {
   "cell_type": "markdown",
   "metadata": {},
   "source": [
    "# Part 3: Basic stats"
   ]
  },
  {
   "cell_type": "markdown",
   "metadata": {},
   "source": [
    "### Q3.1: What is the avrage amount of stars?\n",
    "\n",
    "Hint use `np.average`"
   ]
  },
  {
   "cell_type": "code",
   "execution_count": 26,
   "metadata": {},
   "outputs": [],
   "source": [
    "def isNotString(x):\n",
    "    try:\n",
    "        float(x)\n",
    "        return True\n",
    "    except:\n",
    "        return False\n",
    "\n",
    "def isNotNan(x):\n",
    "    return not np.isnan(float(x))"
   ]
  },
  {
   "cell_type": "code",
   "execution_count": null,
   "metadata": {},
   "outputs": [],
   "source": []
  },
  {
   "cell_type": "code",
   "execution_count": null,
   "metadata": {},
   "outputs": [],
   "source": []
  },
  {
   "cell_type": "code",
   "execution_count": null,
   "metadata": {},
   "outputs": [],
   "source": []
  },
  {
   "cell_type": "code",
   "execution_count": null,
   "metadata": {},
   "outputs": [],
   "source": []
  },
  {
   "cell_type": "code",
   "execution_count": 28,
   "metadata": {},
   "outputs": [
    {
     "data": {
      "text/plain": [
       "array([290000., 112000.,  87800.,  69700.,  65700.,  62000.,  61600.,\n",
       "        60700.,  57700.,  56200.,  55200.,  54100.,  51600.,  50900.,\n",
       "        50000.,  47200.,  46300.,  45300.,  44900.,  44300.,  42800.,\n",
       "        39100.,  37800.,  37700.,  37600.,  36400.,  36400.,  36100.,\n",
       "        35600.,  35300.,  35200.,  33800.,  33600.,  32900.,  32500.,\n",
       "        32000.,  31900.,  31800.,  31800.,  31000.,  30700.,  30200.,\n",
       "        30200.,  30100.,  30100.,  29600.,  29400.,  29400.,  29400.,\n",
       "        29200.,  29100.,  29000.,  28600.,  28200.,  27800.,  27800.,\n",
       "        27800.,  27600.,  27200.,  26900.,  26900.,  26700.,  26600.,\n",
       "        26600.,  26400.,  26400.,  25900.,  25700.,  25700.,  25300.,\n",
       "        25200.,  24400.,  24300.,  24300.,  24100.,  24000.,  23900.,\n",
       "        23900.,  23800.,  23700.,  23600.,  23600.,  23400.,  23300.,\n",
       "        23200.,  23200.,  23100.,  23000.,  23000.,  22900.,  22800.,\n",
       "        22500.,  22500.,  22300.,  22300.,  22000.,  21900.,  21900.,\n",
       "        21900.,  21800.,  21600.,  21600.,  21500.,  21300.,  21200.,\n",
       "        21200.,  20900.,  20900.,  20700.,  20600.,  20600.,  20500.,\n",
       "        20400.,  20400.,  20100.,  20000.,  19900.,  19800.,  19800.,\n",
       "        19700.,  19500.,  19500.,  19500.,  19500.,  19400.,  19300.,\n",
       "        19300.,  19200.,  19200.,  19200.,  19100.,  18900.,  18800.,\n",
       "        18700.,  18700.,  18700.,  18600.,  18600.,  18600.,  18300.,\n",
       "        18300.,  18200.,  18200.,  18000.,  18000.,  18000.,  18000.,\n",
       "        17800.,  17800.,  17800.,  17600.,  17600.,  17600.,  17500.,\n",
       "        17500.,  17400.,  17400.,  17300.,  17300.,  17200.,  17200.,\n",
       "        17200.,  17100.,  17100.,  17000.,  17000.,  17000.,  17000.,\n",
       "        16900.,  16900.,  16900.,  16800.,  16700.,  16700.,  16600.,\n",
       "        16600.,  16600.,  16500.,  16500.,  16500.,  16500.,  16400.,\n",
       "        16400.,  16400.,  16400.,  16400.,  16300.,  16300.,  16100.,\n",
       "        16100.,  16100.,  16100.,  15900.,  15900.,  15900.,  15700.,\n",
       "        15700.,  15700.,  15700.,  15600.,  15600.,  15600.,  15500.,\n",
       "        15500.,  15400.,  15400.,  15400.,  15300.,  15200.,  15200.,\n",
       "        15200.,  15100.,  15100.,  15100.,  15100.,  15100.,  15000.,\n",
       "        14900.,  14900.,  14900.,  14900.,  14800.,  14800.,  14800.,\n",
       "        14800.,  14800.,  14700.,  14700.,  14700.,  14700.,  14700.,\n",
       "        14700.,  14600.,  14600.,  14600.,  14600.,  14600.,  14500.,\n",
       "        14400.,  14400.,  14400.,  14300.,  14300.,  14300.,  14200.,\n",
       "        14200.,  14200.,  14200.,  14100.,  14100.,  14100.,  14000.,\n",
       "        14000.,  14000.,  14000.,  14000.,  13900.,  13900.,  13900.,\n",
       "        13800.,  13800.,  13800.,  13800.,  13700.,  13700.,  13700.,\n",
       "        13600.,  13600.,  13600.,  13600.,  13500.,  13500.,  13500.,\n",
       "        13400.,  13400.,  13400.,  13400.,  13400.,  13400.,  13300.,\n",
       "        13300.,  13300.,  13300.,  13200.,  13200.,  13100.,  13100.,\n",
       "        13100.,  13000.,  13000.,  13000.,  13000.,  13000.,  12900.,\n",
       "        12900.,  12800.,  12800.,  12800.,  12800.,  12700.,  12700.,\n",
       "        12600.,  12600.,  12600.,  12600.,  12600.,  12600.,  12600.,\n",
       "        12500.,  12500.,  12500.,  12500.,  12400.,  12400.,  12400.,\n",
       "        12400.,  12400.,  12300.,  12300.,  12200.,  12200.,  12200.,\n",
       "        12200.,  12200.,  12200.,  12100.,  12100.,  12100.,  12100.,\n",
       "        12000.,  12000.,  12000.,  12000.,  11900.,  11800.,  11800.,\n",
       "        11700.,  11700.,  11700.,  11700.,  11700.,  11700.,  11700.,\n",
       "        11700.,  11600.,  11600.,  11600.,  11600.,  11600.,  11500.,\n",
       "        11500.,  11500.,  11500.,  11500.,  11500.,  11400.,  11400.,\n",
       "        11300.,  11300.,  11300.,  11300.,  11200.,  11200.,  11200.,\n",
       "        11200.,  11200.,  11200.,  11100.,  11100.,  11100.,  11000.,\n",
       "        11000.,  11000.,  10900.,  10900.,  10900.,  10900.,  10900.,\n",
       "        10900.,  10900.,  10900.,  10900.,  10800.,  10800.,  10800.,\n",
       "        10800.,  10700.,  10700.,  10700.,  10700.,  10600.,  10600.,\n",
       "        10600.,  10600.,  10600.,  10600.,  10500.,  10500.,  10500.,\n",
       "        10500.,  10500.,  10500.,  10500.,  10500.,  10500.,  10500.,\n",
       "        10500.,  10500.,  10400.,  10400.,  10400.,  10400.,  10400.,\n",
       "        10400.,  10400.,  10400.,  10400.,  10400.,  10300.,  10300.,\n",
       "        10100.,  10000.,  10000.,  10000.,  10000.,  10000.,  10000.,\n",
       "        10000.,  10000.,  10000.,  10000.,  10000.,  10000.,  10000.,\n",
       "        10000.,  10000.,   9900.,   9900.,   9900.,   9900.,   9900.,\n",
       "         9900.,   9900.,   9900.,   9900.,   9900.,   9800.,   9800.,\n",
       "         9800.,   9800.,   9800.,   9800.,   9800.,   9800.,   9800.,\n",
       "         9800.,   9800.,   9700.,   9700.,   9700.,   9700.,   9700.,\n",
       "         9700.,   9700.,   9700.,   9700.,   9700.,   9700.,   9700.,\n",
       "         9700.,   9700.,   9700.,   9600.,   9600.,   9600.,   9600.,\n",
       "         9600.,   9600.,   9600.,   9600.,   9600.,   9600.,   9600.,\n",
       "         9500.,   9500.,   9500.,   9500.,   9500.,   9500.,   9500.,\n",
       "         9500.,   9500.,   9500.,   9500.,   9500.,   9500.,   9500.,\n",
       "         9500.,   9400.,   9400.,   9400.,   9400.,   9400.,   9400.,\n",
       "         9400.,   9400.,   9400.,   9400.,   9400.,   9400.,   9400.,\n",
       "         9300.,   9300.,   9300.,   9300.,   9300.,   9300.,   9300.,\n",
       "         9300.,   9300.,   9200.,   9200.,   9200.,   9200.,   9200.,\n",
       "         9200.,   9200.,   9200.,   9200.,   9200.,   9200.,   9200.,\n",
       "         9200.,   9200.,   9200.,   9200.,   9100.,   9100.,   9100.,\n",
       "         9100.,   9100.,   9100.,   9100.,   9100.,   9100.,   9100.,\n",
       "         9100.,   9100.,   9100.,   9000.,   9000.,   9000.,   9000.,\n",
       "         9000.,   9000.,   9000.,   9000.,   9000.,   9000.,   9000.,\n",
       "         9000.,   9000.,   8900.,   8900.,   8900.,   8900.,   8900.,\n",
       "         8900.,   8900.,   8900.,   8900.,   8900.,   8800.,   8800.,\n",
       "         8800.,   8800.,   8800.,   8800.,   8800.,   8800.,   8800.,\n",
       "         8700.,   8700.,   8700.,   8700.,   8700.,   8700.,   8700.,\n",
       "         8700.,   8700.,   8600.,   8600.,   8600.,   8600.,   8600.,\n",
       "         8600.,   8600.,   8600.,   8600.,   8600.,   8600.,   8600.,\n",
       "         8500.,   8500.,   8500.,   8500.,   8500.,   8500.,   8500.,\n",
       "         8500.,   8500.,   8400.,   8400.,   8400.,   8400.,   8400.,\n",
       "         8400.,   8400.,   8400.,   8400.,   8400.,   8400.,   8400.,\n",
       "         8400.,   8400.,   8400.,   8400.,   8300.,   8300.,   8300.,\n",
       "         8300.,   8300.,   8300.,   8300.,   8300.,   8300.,   8300.,\n",
       "         8300.,   8300.,   8300.,   8300.,   8300.,   8200.,   8200.,\n",
       "         8200.,   8200.,   8200.,   8200.,   8200.,   8200.,   8200.,\n",
       "         8200.,   8200.,   8200.,   8200.,   8200.,   8200.,   8200.,\n",
       "         8200.,   8200.,   8200.,   8200.,   8100.,   8100.,   8100.,\n",
       "         8100.,   8100.,   8100.,   8100.,   8100.,   8100.,   8000.,\n",
       "         8000.,   8000.,   8000.,   8000.,   8000.,   8000.,   8000.,\n",
       "         8000.,   8000.,   8000.,   8000.,   8000.,   8000.,   8000.,\n",
       "         8000.,   7900.,   7900.,   7900.,   7900.,   7900.,   7900.,\n",
       "         7900.,   7900.,   7900.,   7900.,   7900.,   7900.,   7900.,\n",
       "         7900.,   7900.,   7900.,   7900.,   7900.,   7900.,   7800.,\n",
       "         7800.,   7800.,   7800.,   7800.,   7800.,   7800.,   7800.,\n",
       "         7800.,   7800.,   7800.,   7800.,   7800.,   7800.,   7800.,\n",
       "         7800.,   7800.,   7800.,   7800.,   7800.,   7800.,   7800.,\n",
       "         7800.,   7800.,   7800.,   7800.,   7800.,   7700.,   7700.,\n",
       "         7700.,   7700.,   7700.,   7700.,   7700.,   7700.,   7700.,\n",
       "         7700.,   7700.,   7700.,   7700.,   7700.,   7700.,   7700.,\n",
       "         7700.,   7700.,   7600.,   7600.,   7600.,   7600.,   7600.,\n",
       "         7600.,   7600.,   7600.,   7600.,   7600.,   7600.,   7600.,\n",
       "         7600.,   7600.,   7500.,   7500.,   7500.,   7500.,   7500.,\n",
       "         7500.,   7500.,   7500.,   7500.,   7500.,   7500.,   7500.,\n",
       "         7500.,   7500.,   7500.,   7500.,   7500.,   7400.,   7400.,\n",
       "         7400.,   7400.,   7400.,   7400.,   7400.,   7400.,   7400.,\n",
       "         7400.,   7400.,   7400.,   7400.,   7400.,   7400.,   7400.,\n",
       "         7300.,   7300.,   7300.,   7300.,   7300.,   7300.,   7300.,\n",
       "         7300.,   7300.,   7300.,   7300.,   7300.,   7300.,   7300.,\n",
       "         7300.,   7300.,   7300.,   7300.,   7300.,   7300.,   7300.,\n",
       "         7200.,   7200.,   7200.,   7200.,   7200.,   7200.,   7200.,\n",
       "         7200.,   7200.,   7200.,   7200.,   7200.,   7100.,   7100.,\n",
       "         7100.,   7100.,   7100.,   7100.,   7100.,   7100.,   7100.,\n",
       "         7000.,   7000.,   7000.,   7000.,   7000.,   7000.,   7000.,\n",
       "         7000.,   7000.,   7000.,   7000.,   7000.,   7000.,   7000.,\n",
       "         7000.,   7000.,   7000.,   7000.,   7000.,   7000.,   7000.,\n",
       "         7000.,   6900.,   6900.,   6900.,   6900.,   6900.,   6900.,\n",
       "         6900.,   6900.,   6900.,   6900.,   6900.,   6900.,   6900.,\n",
       "         6900.,   6900.,   6900.,   6900.,   6900.,   6900.,   6900.,\n",
       "         6800.,   6800.,   6800.,   6800.,   6800.,   6800.,   6800.,\n",
       "         6800.,   6800.,   6800.,   6800.,   6800.,   6800.,   6800.,\n",
       "         6800.,   6800.,   6800.,   6800.,   6800.,   6800.,   6800.,\n",
       "         6800.,   6800.,   6700.,   6700.,   6700.,   6700.,   6700.,\n",
       "         6700.,   6700.,   6700.,   6700.,   6700.,   6700.,   6700.,\n",
       "         6700.,   6700.,   6700.,   6700.,   6700.,   6700.,   6700.,\n",
       "         6600.,   6600.,   6600.,   6600.,   6600.,   6600.,   6600.,\n",
       "         6600.,   6600.,   6600.,   6600.,   6600.,   6600.,   6600.,\n",
       "         6600.,   6600.,   6600.,   6600.,   6600.,   6600.,   6600.,\n",
       "         6500.,   6500.,   6500.,   6500.,   6500.,   6500.,   6500.,\n",
       "         6500.,   6500.,   6500.,   6500.,   6500.,   6500.,   6500.,\n",
       "         6500.,   6500.,   6500.,   6500.,   6500.,   6500.,   6500.,\n",
       "         6500.,   6500.,   6500.,   6400.,   6400.,   6400.,   6400.,\n",
       "         6400.,   6400.,   6400.,   6400.,   6400.,   6400.,   6400.])"
      ]
     },
     "execution_count": 28,
     "metadata": {},
     "output_type": "execute_result"
    }
   ],
   "source": [
    "starsAvrage = withRoundedStars.select('Rounded Number').where('Rounded Number').column('Rounded Number')\n",
    "starsAvrage"
   ]
  },
  {
   "cell_type": "code",
   "execution_count": 30,
   "metadata": {},
   "outputs": [
    {
     "data": {
      "text/plain": [
       "12985.714285714286"
      ]
     },
     "execution_count": 30,
     "metadata": {},
     "output_type": "execute_result"
    }
   ],
   "source": [
    "np.average(starsAvrage)"
   ]
  },
  {
   "cell_type": "markdown",
   "metadata": {},
   "source": [
    "### Q3.2: What is the most starred PHP repo\n",
    "\n",
    "Hint use `group`"
   ]
  },
  {
   "cell_type": "code",
   "execution_count": 45,
   "metadata": {},
   "outputs": [
    {
     "data": {
      "text/html": [
       "<table border=\"1\" class=\"dataframe\">\n",
       "    <thead>\n",
       "        <tr>\n",
       "            <th>Username</th> <th>Repository Name</th> <th>Description</th> <th>Last Update Date</th> <th>Language</th> <th>Number of Stars</th> <th>Tags</th> <th>Url</th> <th>Number of Forks</th>\n",
       "        </tr>\n",
       "    </thead>\n",
       "    <tbody>\n",
       "        <tr>\n",
       "            <td>laravel   </td> <td>laravel          </td> <td>A PHP Framework For Web Artisans                            </td> <td>2017-06-23T08:57:24Z</td> <td>PHP     </td> <td>32.9k          </td> <td>php,laravel,framework                                       </td> <td>https://github.com/laravel/laravel          </td> <td>17377          </td>\n",
       "        </tr>\n",
       "        <tr>\n",
       "            <td>symfony   </td> <td>symfony          </td> <td>The Symfony PHP framework                                   </td> <td>2017-06-24T16:50:33Z</td> <td>PHP     </td> <td>14.7k          </td> <td>php-framework,php,symfony,framework,bundle,symfony-bundl ...</td> <td>https://github.com/symfony/symfony          </td> <td>7304           </td>\n",
       "        </tr>\n",
       "        <tr>\n",
       "            <td>bcit-ci   </td> <td>CodeIgniter      </td> <td>Open Source PHP Framework (originally from EllisLab)        </td> <td>2017-06-22T12:40:13Z</td> <td>PHP     </td> <td>14.6k          </td> <td>php                                                         </td> <td>https://github.com/bcit-ci/CodeIgniter      </td> <td>7765           </td>\n",
       "        </tr>\n",
       "        <tr>\n",
       "            <td>domnikl   </td> <td>DesignPatternsPHP</td> <td>sample code for several design patterns in PHP              </td> <td>2017-05-31T09:15:27Z</td> <td>PHP     </td> <td>12.8k          </td> <td>php,designpatternsphp,design-pattern,oop,phpunit,design- ...</td> <td>https://github.com/domnikl/DesignPatternsPHP</td> <td>3916           </td>\n",
       "        </tr>\n",
       "        <tr>\n",
       "            <td>fzaninotto</td> <td>Faker            </td> <td>Faker is a PHP library that generates fake data for you     </td> <td>2017-06-23T14:30:48Z</td> <td>PHP     </td> <td>11.1k          </td> <td>nan                                                         </td> <td>https://github.com/fzaninotto/Faker         </td> <td>2591           </td>\n",
       "        </tr>\n",
       "        <tr>\n",
       "            <td>yiisoft   </td> <td>yii2             </td> <td>Yii 2: The Fast, Secure and Professional PHP Framework      </td> <td>2017-06-24T10:51:32Z</td> <td>PHP     </td> <td>10.4k          </td> <td>yii,php,framework,yii2,php-framework                        </td> <td>https://github.com/yiisoft/yii2             </td> <td>6846           </td>\n",
       "        </tr>\n",
       "        <tr>\n",
       "            <td>composer  </td> <td>composer         </td> <td>Dependency Manager for PHP                                  </td> <td>2017-06-22T14:43:26Z</td> <td>PHP     </td> <td>9.5k           </td> <td>composer,php,dependency-manager,package-manager,packages    </td> <td>https://github.com/composer/composer        </td> <td>5680           </td>\n",
       "        </tr>\n",
       "        <tr>\n",
       "            <td>guzzle    </td> <td>guzzle           </td> <td>Guzzle, an extensible PHP HTTP client                       </td> <td>2017-06-23T22:56:10Z</td> <td>PHP     </td> <td>9.3k           </td> <td>guzzle,curl,psr-7,httpclient,webservices                    </td> <td>https://github.com/guzzle/guzzle            </td> <td>2011           </td>\n",
       "        </tr>\n",
       "        <tr>\n",
       "            <td>WordPress </td> <td>WordPress        </td> <td>WordPress, Git-ified. Synced via SVN every 15 minutes, i ...</td> <td>2017-06-24T18:08:09Z</td> <td>PHP     </td> <td>9.3k           </td> <td>nan                                                         </td> <td>https://github.com/WordPress/WordPress      </td> <td>8036           </td>\n",
       "        </tr>\n",
       "        <tr>\n",
       "            <td>PHPMailer </td> <td>PHPMailer        </td> <td>The classic email sending library for PHP                   </td> <td>2017-06-23T08:29:41Z</td> <td>PHP     </td> <td>9k             </td> <td>nan                                                         </td> <td>https://github.com/PHPMailer/PHPMailer      </td> <td>7681           </td>\n",
       "        </tr>\n",
       "    </tbody>\n",
       "</table>\n",
       "<p>... (13 rows omitted)</p>"
      ],
      "text/plain": [
       "Username   | Repository Name   | Description                                                  | Last Update Date     | Language | Number of Stars | Tags                                                         | Url                                          | Number of Forks\n",
       "laravel    | laravel           | A PHP Framework For Web Artisans                             | 2017-06-23T08:57:24Z | PHP      | 32.9k           | php,laravel,framework                                        | https://github.com/laravel/laravel           | 17377\n",
       "symfony    | symfony           | The Symfony PHP framework                                    | 2017-06-24T16:50:33Z | PHP      | 14.7k           | php-framework,php,symfony,framework,bundle,symfony-bundl ... | https://github.com/symfony/symfony           | 7304\n",
       "bcit-ci    | CodeIgniter       | Open Source PHP Framework (originally from EllisLab)         | 2017-06-22T12:40:13Z | PHP      | 14.6k           | php                                                          | https://github.com/bcit-ci/CodeIgniter       | 7765\n",
       "domnikl    | DesignPatternsPHP | sample code for several design patterns in PHP               | 2017-05-31T09:15:27Z | PHP      | 12.8k           | php,designpatternsphp,design-pattern,oop,phpunit,design- ... | https://github.com/domnikl/DesignPatternsPHP | 3916\n",
       "fzaninotto | Faker             | Faker is a PHP library that generates fake data for you      | 2017-06-23T14:30:48Z | PHP      | 11.1k           | nan                                                          | https://github.com/fzaninotto/Faker          | 2591\n",
       "yiisoft    | yii2              | Yii 2: The Fast, Secure and Professional PHP Framework       | 2017-06-24T10:51:32Z | PHP      | 10.4k           | yii,php,framework,yii2,php-framework                         | https://github.com/yiisoft/yii2              | 6846\n",
       "composer   | composer          | Dependency Manager for PHP                                   | 2017-06-22T14:43:26Z | PHP      | 9.5k            | composer,php,dependency-manager,package-manager,packages     | https://github.com/composer/composer         | 5680\n",
       "guzzle     | guzzle            | Guzzle, an extensible PHP HTTP client                        | 2017-06-23T22:56:10Z | PHP      | 9.3k            | guzzle,curl,psr-7,httpclient,webservices                     | https://github.com/guzzle/guzzle             | 2011\n",
       "WordPress  | WordPress         | WordPress, Git-ified. Synced via SVN every 15 minutes, i ... | 2017-06-24T18:08:09Z | PHP      | 9.3k            | nan                                                          | https://github.com/WordPress/WordPress       | 8036\n",
       "PHPMailer  | PHPMailer         | The classic email sending library for PHP                    | 2017-06-23T08:29:41Z | PHP      | 9k              | nan                                                          | https://github.com/PHPMailer/PHPMailer       | 7681\n",
       "... (13 rows omitted)"
      ]
     },
     "execution_count": 45,
     "metadata": {},
     "output_type": "execute_result"
    }
   ],
   "source": [
    "phpRepo = repos.where('Language', are.equal_to('PHP'))\n",
    "phpRepo"
   ]
  },
  {
   "cell_type": "code",
   "execution_count": null,
   "metadata": {},
   "outputs": [],
   "source": []
  },
  {
   "cell_type": "code",
   "execution_count": 46,
   "metadata": {},
   "outputs": [
    {
     "data": {
      "image/png": "[encoded data removed]",
      "text/plain": [
       "<Figure size 432x792 with 1 Axes>"
      ]
     },
     "metadata": {},
     "output_type": "display_data"
    }
   ],
   "source": [
    "phpRepo.group('Repository Name').barh('Repository Name')"
   ]
  },
  {
   "cell_type": "code",
   "execution_count": null,
   "metadata": {},
   "outputs": [],
   "source": []
  },
  {
   "cell_type": "markdown",
   "metadata": {},
   "source": [
    "### Q3.3: Top 10 most forked repos\n",
    "\n",
    "Hint Lab03 Q4"
   ]
  },
  {
   "cell_type": "code",
   "execution_count": 61,
   "metadata": {},
   "outputs": [
    {
     "data": {
      "text/html": [
       "<table border=\"1\" class=\"dataframe\">\n",
       "    <thead>\n",
       "        <tr>\n",
       "            <th>Repository Name</th> <th>Number of Forks</th>\n",
       "        </tr>\n",
       "    </thead>\n",
       "    <tbody>\n",
       "        <tr>\n",
       "            <td>Spoon-Knife           </td> <td>107160         </td>\n",
       "        </tr>\n",
       "        <tr>\n",
       "            <td>tensorflow            </td> <td>78752          </td>\n",
       "        </tr>\n",
       "        <tr>\n",
       "            <td>bootstrap             </td> <td>67527          </td>\n",
       "        </tr>\n",
       "        <tr>\n",
       "            <td>gitignore             </td> <td>47307          </td>\n",
       "        </tr>\n",
       "        <tr>\n",
       "            <td>models                </td> <td>37894          </td>\n",
       "        </tr>\n",
       "        <tr>\n",
       "            <td>free-programming-books</td> <td>32974          </td>\n",
       "        </tr>\n",
       "        <tr>\n",
       "            <td>opencv                </td> <td>30520          </td>\n",
       "        </tr>\n",
       "        <tr>\n",
       "            <td>linux                 </td> <td>29171          </td>\n",
       "        </tr>\n",
       "        <tr>\n",
       "            <td>angular.js            </td> <td>28853          </td>\n",
       "        </tr>\n",
       "        <tr>\n",
       "            <td>spring-boot           </td> <td>27841          </td>\n",
       "        </tr>\n",
       "    </tbody>\n",
       "</table>\n",
       "<p>... (970 rows omitted)</p>"
      ],
      "text/plain": [
       "Repository Name        | Number of Forks\n",
       "Spoon-Knife            | 107160\n",
       "tensorflow             | 78752\n",
       "bootstrap              | 67527\n",
       "gitignore              | 47307\n",
       "models                 | 37894\n",
       "free-programming-books | 32974\n",
       "opencv                 | 30520\n",
       "linux                  | 29171\n",
       "angular.js             | 28853\n",
       "spring-boot            | 27841\n",
       "... (970 rows omitted)"
      ]
     },
     "execution_count": 61,
     "metadata": {},
     "output_type": "execute_result"
    }
   ],
   "source": [
    "forkedRepo = repos.select('Repository Name', 'Number of Forks').sort('Number of Forks', descending=True)\n",
    "forkedRepo"
   ]
  },
  {
   "cell_type": "code",
   "execution_count": null,
   "metadata": {},
   "outputs": [],
   "source": []
  },
  {
   "cell_type": "markdown",
   "metadata": {},
   "source": [
    "# Part 4: Visualization\n",
    "Hint: Stack overflow analysis"
   ]
  },
  {
   "cell_type": "markdown",
   "metadata": {},
   "source": [
    "### Q4.1: Does more stars means more forks?\n",
    "\n",
    "In order to find that out create a scatter plot displayong the relationship bettwen Numbers of stars and forks"
   ]
  },
  {
   "cell_type": "code",
   "execution_count": 74,
   "metadata": {},
   "outputs": [
    {
     "data": {
      "text/plain": [
       "array([290000., 112000.,  87800.,  69700.,  65700.,  62000.,  61600.,\n",
       "        60700.,  57700.,  56200.,  55200.,  54100.,  51600.,  50900.,\n",
       "        50000.,  47200.,  46300.,  45300.,  44900.,  44300.,  42800.,\n",
       "        39100.,  37800.,  37700.,  37600.,  36400.,  36400.,  36100.,\n",
       "        35600.,  35300.,  35200.,  33800.,  33600.,  32900.,  32500.,\n",
       "        32000.,  31900.,  31800.,  31800.,  31000.,  30700.,  30200.,\n",
       "        30200.,  30100.,  30100.,  29600.,  29400.,  29400.,  29400.,\n",
       "        29200.,  29100.,  29000.,  28600.,  28200.,  27800.,  27800.,\n",
       "        27800.,  27600.,  27200.,  26900.,  26900.,  26700.,  26600.,\n",
       "        26600.,  26400.,  26400.,  25900.,  25700.,  25700.,  25300.,\n",
       "        25200.,  24400.,  24300.,  24300.,  24100.,  24000.,  23900.,\n",
       "        23900.,  23800.,  23700.,  23600.,  23600.,  23400.,  23300.,\n",
       "        23200.,  23200.,  23100.,  23000.,  23000.,  22900.,  22800.,\n",
       "        22500.,  22500.,  22300.,  22300.,  22000.,  21900.,  21900.,\n",
       "        21900.,  21800.,  21600.,  21600.,  21500.,  21300.,  21200.,\n",
       "        21200.,  20900.,  20900.,  20700.,  20600.,  20600.,  20500.,\n",
       "        20400.,  20400.,  20100.,  20000.,  19900.,  19800.,  19800.,\n",
       "        19700.,  19500.,  19500.,  19500.,  19500.,  19400.,  19300.,\n",
       "        19300.,  19200.,  19200.,  19200.,  19100.,  18900.,  18800.,\n",
       "        18700.,  18700.,  18700.,  18600.,  18600.,  18600.,  18300.,\n",
       "        18300.,  18200.,  18200.,  18000.,  18000.,  18000.,  18000.,\n",
       "        17800.,  17800.,  17800.,  17600.,  17600.,  17600.,  17500.,\n",
       "        17500.,  17400.,  17400.,  17300.,  17300.,  17200.,  17200.,\n",
       "        17200.,  17100.,  17100.,  17000.,  17000.,  17000.,  17000.,\n",
       "        16900.,  16900.,  16900.,  16800.,  16700.,  16700.,  16600.,\n",
       "        16600.,  16600.,  16500.,  16500.,  16500.,  16500.,  16400.,\n",
       "        16400.,  16400.,  16400.,  16400.,  16300.,  16300.,  16100.,\n",
       "        16100.,  16100.,  16100.,  15900.,  15900.,  15900.,  15700.,\n",
       "        15700.,  15700.,  15700.,  15600.,  15600.,  15600.,  15500.,\n",
       "        15500.,  15400.,  15400.,  15400.,  15300.,  15200.,  15200.,\n",
       "        15200.,  15100.,  15100.,  15100.,  15100.,  15100.,  15000.,\n",
       "        14900.,  14900.,  14900.,  14900.,  14800.,  14800.,  14800.,\n",
       "        14800.,  14800.,  14700.,  14700.,  14700.,  14700.,  14700.,\n",
       "        14700.,  14600.,  14600.,  14600.,  14600.,  14600.,  14500.,\n",
       "        14400.,  14400.,  14400.,  14300.,  14300.,  14300.,  14200.,\n",
       "        14200.,  14200.,  14200.,  14100.,  14100.,  14100.,  14000.,\n",
       "        14000.,  14000.,  14000.,  14000.,  13900.,  13900.,  13900.,\n",
       "        13800.,  13800.,  13800.,  13800.,  13700.,  13700.,  13700.,\n",
       "        13600.,  13600.,  13600.,  13600.,  13500.,  13500.,  13500.,\n",
       "        13400.,  13400.,  13400.,  13400.,  13400.,  13400.,  13300.,\n",
       "        13300.,  13300.,  13300.,  13200.,  13200.,  13100.,  13100.,\n",
       "        13100.,  13000.,  13000.,  13000.,  13000.,  13000.,  12900.,\n",
       "        12900.,  12800.,  12800.,  12800.,  12800.,  12700.,  12700.,\n",
       "        12600.,  12600.,  12600.,  12600.,  12600.,  12600.,  12600.,\n",
       "        12500.,  12500.,  12500.,  12500.,  12400.,  12400.,  12400.,\n",
       "        12400.,  12400.,  12300.,  12300.,  12200.,  12200.,  12200.,\n",
       "        12200.,  12200.,  12200.,  12100.,  12100.,  12100.,  12100.,\n",
       "        12000.,  12000.,  12000.,  12000.,  11900.,  11800.,  11800.,\n",
       "        11700.,  11700.,  11700.,  11700.,  11700.,  11700.,  11700.,\n",
       "        11700.,  11600.,  11600.,  11600.,  11600.,  11600.,  11500.,\n",
       "        11500.,  11500.,  11500.,  11500.,  11500.,  11400.,  11400.,\n",
       "        11300.,  11300.,  11300.,  11300.,  11200.,  11200.,  11200.,\n",
       "        11200.,  11200.,  11200.,  11100.,  11100.,  11100.,  11000.,\n",
       "        11000.,  11000.,  10900.,  10900.,  10900.,  10900.,  10900.,\n",
       "        10900.,  10900.,  10900.,  10900.,  10800.,  10800.,  10800.,\n",
       "        10800.,  10700.,  10700.,  10700.,  10700.,  10600.,  10600.,\n",
       "        10600.,  10600.,  10600.,  10600.,  10500.,  10500.,  10500.,\n",
       "        10500.,  10500.,  10500.,  10500.,  10500.,  10500.,  10500.,\n",
       "        10500.,  10500.,  10400.,  10400.,  10400.,  10400.,  10400.,\n",
       "        10400.,  10400.,  10400.,  10400.,  10400.,  10300.,  10300.,\n",
       "        10100.,  10000.,  10000.,  10000.,  10000.,  10000.,  10000.,\n",
       "        10000.,  10000.,  10000.,  10000.,  10000.,  10000.,  10000.,\n",
       "        10000.,  10000.,   9900.,   9900.,   9900.,   9900.,   9900.,\n",
       "         9900.,   9900.,   9900.,   9900.,   9900.,   9800.,   9800.,\n",
       "         9800.,   9800.,   9800.,   9800.,   9800.,   9800.,   9800.,\n",
       "         9800.,   9800.,   9700.,   9700.,   9700.,   9700.,   9700.,\n",
       "         9700.,   9700.,   9700.,   9700.,   9700.,   9700.,   9700.,\n",
       "         9700.,   9700.,   9700.,   9600.,   9600.,   9600.,   9600.,\n",
       "         9600.,   9600.,   9600.,   9600.,   9600.,   9600.,   9600.,\n",
       "         9500.,   9500.,   9500.,   9500.,   9500.,   9500.,   9500.,\n",
       "         9500.,   9500.,   9500.,   9500.,   9500.,   9500.,   9500.,\n",
       "         9500.,   9400.,   9400.,   9400.,   9400.,   9400.,   9400.,\n",
       "         9400.,   9400.,   9400.,   9400.,   9400.,   9400.,   9400.,\n",
       "         9300.,   9300.,   9300.,   9300.,   9300.,   9300.,   9300.,\n",
       "         9300.,   9300.,   9200.,   9200.,   9200.,   9200.,   9200.,\n",
       "         9200.,   9200.,   9200.,   9200.,   9200.,   9200.,   9200.,\n",
       "         9200.,   9200.,   9200.,   9200.,   9100.,   9100.,   9100.,\n",
       "         9100.,   9100.,   9100.,   9100.,   9100.,   9100.,   9100.,\n",
       "         9100.,   9100.,   9100.,   9000.,   9000.,   9000.,   9000.,\n",
       "         9000.,   9000.,   9000.,   9000.,   9000.,   9000.,   9000.,\n",
       "         9000.,   9000.,   8900.,   8900.,   8900.,   8900.,   8900.,\n",
       "         8900.,   8900.,   8900.,   8900.,   8900.,   8800.,   8800.,\n",
       "         8800.,   8800.,   8800.,   8800.,   8800.,   8800.,   8800.,\n",
       "         8700.,   8700.,   8700.,   8700.,   8700.,   8700.,   8700.,\n",
       "         8700.,   8700.,   8600.,   8600.,   8600.,   8600.,   8600.,\n",
       "         8600.,   8600.,   8600.,   8600.,   8600.,   8600.,   8600.,\n",
       "         8500.,   8500.,   8500.,   8500.,   8500.,   8500.,   8500.,\n",
       "         8500.,   8500.,   8400.,   8400.,   8400.,   8400.,   8400.,\n",
       "         8400.,   8400.,   8400.,   8400.,   8400.,   8400.,   8400.,\n",
       "         8400.,   8400.,   8400.,   8400.,   8300.,   8300.,   8300.,\n",
       "         8300.,   8300.,   8300.,   8300.,   8300.,   8300.,   8300.,\n",
       "         8300.,   8300.,   8300.,   8300.,   8300.,   8200.,   8200.,\n",
       "         8200.,   8200.,   8200.,   8200.,   8200.,   8200.,   8200.,\n",
       "         8200.,   8200.,   8200.,   8200.,   8200.,   8200.,   8200.,\n",
       "         8200.,   8200.,   8200.,   8200.,   8100.,   8100.,   8100.,\n",
       "         8100.,   8100.,   8100.,   8100.,   8100.,   8100.,   8000.,\n",
       "         8000.,   8000.,   8000.,   8000.,   8000.,   8000.,   8000.,\n",
       "         8000.,   8000.,   8000.,   8000.,   8000.,   8000.,   8000.,\n",
       "         8000.,   7900.,   7900.,   7900.,   7900.,   7900.,   7900.,\n",
       "         7900.,   7900.,   7900.,   7900.,   7900.,   7900.,   7900.,\n",
       "         7900.,   7900.,   7900.,   7900.,   7900.,   7900.,   7800.,\n",
       "         7800.,   7800.,   7800.,   7800.,   7800.,   7800.,   7800.,\n",
       "         7800.,   7800.,   7800.,   7800.,   7800.,   7800.,   7800.,\n",
       "         7800.,   7800.,   7800.,   7800.,   7800.,   7800.,   7800.,\n",
       "         7800.,   7800.,   7800.,   7800.,   7800.,   7700.,   7700.,\n",
       "         7700.,   7700.,   7700.,   7700.,   7700.,   7700.,   7700.,\n",
       "         7700.,   7700.,   7700.,   7700.,   7700.,   7700.,   7700.,\n",
       "         7700.,   7700.,   7600.,   7600.,   7600.,   7600.,   7600.,\n",
       "         7600.,   7600.,   7600.,   7600.,   7600.,   7600.,   7600.,\n",
       "         7600.,   7600.,   7500.,   7500.,   7500.,   7500.,   7500.,\n",
       "         7500.,   7500.,   7500.,   7500.,   7500.,   7500.,   7500.,\n",
       "         7500.,   7500.,   7500.,   7500.,   7500.,   7400.,   7400.,\n",
       "         7400.,   7400.,   7400.,   7400.,   7400.,   7400.,   7400.,\n",
       "         7400.,   7400.,   7400.,   7400.,   7400.,   7400.,   7400.,\n",
       "         7300.,   7300.,   7300.,   7300.,   7300.,   7300.,   7300.,\n",
       "         7300.,   7300.,   7300.,   7300.,   7300.,   7300.,   7300.,\n",
       "         7300.,   7300.,   7300.,   7300.,   7300.,   7300.,   7300.,\n",
       "         7200.,   7200.,   7200.,   7200.,   7200.,   7200.,   7200.,\n",
       "         7200.,   7200.,   7200.,   7200.,   7200.,   7100.,   7100.,\n",
       "         7100.,   7100.,   7100.,   7100.,   7100.,   7100.,   7100.,\n",
       "         7000.,   7000.,   7000.,   7000.,   7000.,   7000.,   7000.,\n",
       "         7000.,   7000.,   7000.,   7000.,   7000.,   7000.,   7000.,\n",
       "         7000.,   7000.,   7000.,   7000.,   7000.,   7000.,   7000.,\n",
       "         7000.,   6900.,   6900.,   6900.,   6900.,   6900.,   6900.,\n",
       "         6900.,   6900.,   6900.,   6900.,   6900.,   6900.,   6900.,\n",
       "         6900.,   6900.,   6900.,   6900.,   6900.,   6900.,   6900.,\n",
       "         6800.,   6800.,   6800.,   6800.,   6800.,   6800.,   6800.,\n",
       "         6800.,   6800.,   6800.,   6800.,   6800.,   6800.,   6800.,\n",
       "         6800.,   6800.,   6800.,   6800.,   6800.,   6800.,   6800.,\n",
       "         6800.,   6800.,   6700.,   6700.,   6700.,   6700.,   6700.,\n",
       "         6700.,   6700.,   6700.,   6700.,   6700.,   6700.,   6700.,\n",
       "         6700.,   6700.,   6700.,   6700.,   6700.,   6700.,   6700.,\n",
       "         6600.,   6600.,   6600.,   6600.,   6600.,   6600.,   6600.,\n",
       "         6600.,   6600.,   6600.,   6600.,   6600.,   6600.,   6600.,\n",
       "         6600.,   6600.,   6600.,   6600.,   6600.,   6600.,   6600.,\n",
       "         6500.,   6500.,   6500.,   6500.,   6500.,   6500.,   6500.,\n",
       "         6500.,   6500.,   6500.,   6500.,   6500.,   6500.,   6500.,\n",
       "         6500.,   6500.,   6500.,   6500.,   6500.,   6500.,   6500.,\n",
       "         6500.,   6500.,   6500.,   6400.,   6400.,   6400.,   6400.,\n",
       "         6400.,   6400.,   6400.,   6400.,   6400.,   6400.,   6400.])"
      ]
     },
     "execution_count": 74,
     "metadata": {},
     "output_type": "execute_result"
    }
   ],
   "source": [
    "NumberOfStarsAsFloat = repos.apply(toFloat, \"Number of Stars\")\n",
    "NumberOfStarsAsFloat"
   ]
  },
  {
   "cell_type": "code",
   "execution_count": 75,
   "metadata": {},
   "outputs": [
    {
     "data": {
      "text/html": [
       "<table border=\"1\" class=\"dataframe\">\n",
       "    <thead>\n",
       "        <tr>\n",
       "            <th>Username</th> <th>Repository Name</th> <th>Description</th> <th>Last Update Date</th> <th>Language</th> <th>Number of Stars</th> <th>Tags</th> <th>Url</th> <th>Number of Forks</th> <th>Rounded Number</th>\n",
       "        </tr>\n",
       "    </thead>\n",
       "    <tbody>\n",
       "        <tr>\n",
       "            <td>freeCodeCamp   </td> <td>freeCodeCamp          </td> <td>The https://freeCodeCamp.com open source codebase and cu ...</td> <td>2017-06-24T15:56:17Z</td> <td>JavaScript</td> <td>290k           </td> <td>nonprofits,certification,curriculum,react,nodejs,javascr ...</td> <td>https://github.com/freeCodeCamp/freeCodeCamp             </td> <td>23262          </td> <td>290000        </td>\n",
       "        </tr>\n",
       "        <tr>\n",
       "            <td>twbs           </td> <td>bootstrap             </td> <td>The most popular HTML, CSS, and JavaScript framework for ...</td> <td>2017-06-24T15:40:21Z</td> <td>JavaScript</td> <td>112k           </td> <td>javascript,css,html,bootstrap,jekyll-site,scss              </td> <td>https://github.com/twbs/bootstrap                        </td> <td>67527          </td> <td>112000        </td>\n",
       "        </tr>\n",
       "        <tr>\n",
       "            <td>EbookFoundation</td> <td>free-programming-books</td> <td> Freely available programming books                         </td> <td>2017-06-23T01:09:34Z</td> <td>nan       </td> <td>87.8k          </td> <td>education,list,books,resource                               </td> <td>https://github.com/EbookFoundation/free-programming-books</td> <td>32974          </td> <td>87800         </td>\n",
       "        </tr>\n",
       "        <tr>\n",
       "            <td>facebook       </td> <td>react                 </td> <td>A declarative, efficient, and flexible JavaScript librar ...</td> <td>2017-06-24T19:33:49Z</td> <td>JavaScript</td> <td>69.7k          </td> <td>nan                                                         </td> <td>https://github.com/facebook/react                        </td> <td>26698          </td> <td>69700         </td>\n",
       "        </tr>\n",
       "        <tr>\n",
       "            <td>d3             </td> <td>d3                    </td> <td>Bring data to life with SVG, Canvas and HTML.               </td> <td>2017-05-31T06:03:47Z</td> <td>JavaScript</td> <td>65.7k          </td> <td>visualization                                               </td> <td>https://github.com/d3/d3                                 </td> <td>21590          </td> <td>65700         </td>\n",
       "        </tr>\n",
       "        <tr>\n",
       "            <td>getify         </td> <td>You-Dont-Know-JS      </td> <td>A book series on JavaScript. @YDKJS on twitter.             </td> <td>2017-06-23T10:42:36Z</td> <td>JavaScript</td> <td>62k            </td> <td>book-series,javascript,training-materials,async,educatio ...</td> <td>https://github.com/getify/You-Dont-Know-JS               </td> <td>22440          </td> <td>62000         </td>\n",
       "        </tr>\n",
       "        <tr>\n",
       "            <td>tensorflow     </td> <td>tensorflow            </td> <td>Computation using data flow graphs for scalable machine  ...</td> <td>2017-06-24T18:25:42Z</td> <td>C++       </td> <td>61.6k          </td> <td>tensorflow,python,machine-learning,deep-neural-networks, ...</td> <td>https://github.com/tensorflow/tensorflow                 </td> <td>78752          </td> <td>61600         </td>\n",
       "        </tr>\n",
       "        <tr>\n",
       "            <td>sindresorhus   </td> <td>awesome               </td> <td> Curated list of awesome lists                              </td> <td>2017-06-24T17:26:02Z</td> <td>nan       </td> <td>60.7k          </td> <td>lists,awesome,unicorns,resources,awesome-list               </td> <td>https://github.com/sindresorhus/awesome                  </td> <td>16014          </td> <td>60700         </td>\n",
       "        </tr>\n",
       "        <tr>\n",
       "            <td>vuejs          </td> <td>vue                   </td> <td>A progressive, incrementally-adoptable JavaScript framew ...</td> <td>2017-06-24T15:38:55Z</td> <td>JavaScript</td> <td>57.7k          </td> <td>javascript,vue,framework,frontend                           </td> <td>https://github.com/vuejs/vue                             </td> <td>22841          </td> <td>57700         </td>\n",
       "        </tr>\n",
       "        <tr>\n",
       "            <td>angular        </td> <td>angular.js            </td> <td>AngularJS - HTML enhanced for web apps!                     </td> <td>2017-06-24T06:25:23Z</td> <td>JavaScript</td> <td>56.2k          </td> <td>nan                                                         </td> <td>https://github.com/angular/angular.js                    </td> <td>28853          </td> <td>56200         </td>\n",
       "        </tr>\n",
       "    </tbody>\n",
       "</table>\n",
       "<p>... (970 rows omitted)</p>"
      ],
      "text/plain": [
       "Username        | Repository Name        | Description                                                  | Last Update Date     | Language   | Number of Stars | Tags                                                         | Url                                                       | Number of Forks | Rounded Number\n",
       "freeCodeCamp    | freeCodeCamp           | The https://freeCodeCamp.com open source codebase and cu ... | 2017-06-24T15:56:17Z | JavaScript | 290k            | nonprofits,certification,curriculum,react,nodejs,javascr ... | https://github.com/freeCodeCamp/freeCodeCamp              | 23262           | 290000\n",
       "twbs            | bootstrap              | The most popular HTML, CSS, and JavaScript framework for ... | 2017-06-24T15:40:21Z | JavaScript | 112k            | javascript,css,html,bootstrap,jekyll-site,scss               | https://github.com/twbs/bootstrap                         | 67527           | 112000\n",
       "EbookFoundation | free-programming-books |  Freely available programming books                          | 2017-06-23T01:09:34Z | nan        | 87.8k           | education,list,books,resource                                | https://github.com/EbookFoundation/free-programming-books | 32974           | 87800\n",
       "facebook        | react                  | A declarative, efficient, and flexible JavaScript librar ... | 2017-06-24T19:33:49Z | JavaScript | 69.7k           | nan                                                          | https://github.com/facebook/react                         | 26698           | 69700\n",
       "d3              | d3                     | Bring data to life with SVG, Canvas and HTML.                | 2017-05-31T06:03:47Z | JavaScript | 65.7k           | visualization                                                | https://github.com/d3/d3                                  | 21590           | 65700\n",
       "getify          | You-Dont-Know-JS       | A book series on JavaScript. @YDKJS on twitter.              | 2017-06-23T10:42:36Z | JavaScript | 62k             | book-series,javascript,training-materials,async,educatio ... | https://github.com/getify/You-Dont-Know-JS                | 22440           | 62000\n",
       "tensorflow      | tensorflow             | Computation using data flow graphs for scalable machine  ... | 2017-06-24T18:25:42Z | C++        | 61.6k           | tensorflow,python,machine-learning,deep-neural-networks, ... | https://github.com/tensorflow/tensorflow                  | 78752           | 61600\n",
       "sindresorhus    | awesome                |  Curated list of awesome lists                               | 2017-06-24T17:26:02Z | nan        | 60.7k           | lists,awesome,unicorns,resources,awesome-list                | https://github.com/sindresorhus/awesome                   | 16014           | 60700\n",
       "vuejs           | vue                    | A progressive, incrementally-adoptable JavaScript framew ... | 2017-06-24T15:38:55Z | JavaScript | 57.7k           | javascript,vue,framework,frontend                            | https://github.com/vuejs/vue                              | 22841           | 57700\n",
       "angular         | angular.js             | AngularJS - HTML enhanced for web apps!                      | 2017-06-24T06:25:23Z | JavaScript | 56.2k           | nan                                                          | https://github.com/angular/angular.js                     | 28853           | 56200\n",
       "... (970 rows omitted)"
      ]
     },
     "execution_count": 75,
     "metadata": {},
     "output_type": "execute_result"
    }
   ],
   "source": [
    "withRoundedStars = repos.with_column(\n",
    "    \"Rounded Number\",\n",
    "    repos.apply(toFloat, \"Number of Stars\"))\n",
    "withRoundedStars"
   ]
  },
  {
   "cell_type": "code",
   "execution_count": null,
   "metadata": {},
   "outputs": [],
   "source": []
  },
  {
   "cell_type": "code",
   "execution_count": null,
   "metadata": {},
   "outputs": [],
   "source": []
  },
  {
   "cell_type": "code",
   "execution_count": 82,
   "metadata": {},
   "outputs": [
    {
     "data": {
      "text/plain": [
       "array([290000., 112000.,  87800.,  69700.,  65700.,  62000.,  61600.,\n",
       "        60700.,  57700.,  56200.,  55200.,  54100.,  51600.,  50900.,\n",
       "        50000.,  47200.,  46300.,  45300.,  44900.,  44300.,  42800.,\n",
       "        39100.,  37800.,  37700.,  37600.,  36400.,  36400.,  36100.,\n",
       "        35600.,  35300.,  35200.,  33800.,  33600.,  32900.,  32500.,\n",
       "        32000.,  31900.,  31800.,  31800.,  31000.,  30700.,  30200.,\n",
       "        30200.,  30100.,  30100.,  29600.,  29400.,  29400.,  29400.,\n",
       "        29200.,  29100.,  29000.,  28600.,  28200.,  27800.,  27800.,\n",
       "        27800.,  27600.,  27200.,  26900.,  26900.,  26700.,  26600.,\n",
       "        26600.,  26400.,  26400.,  25900.,  25700.,  25700.,  25300.,\n",
       "        25200.,  24400.,  24300.,  24300.,  24100.,  24000.,  23900.,\n",
       "        23900.,  23800.,  23700.,  23600.,  23600.,  23400.,  23300.,\n",
       "        23200.,  23200.,  23100.,  23000.,  23000.,  22900.,  22800.,\n",
       "        22500.,  22500.,  22300.,  22300.,  22000.,  21900.,  21900.,\n",
       "        21900.,  21800.,  21600.,  21600.,  21500.,  21300.,  21200.,\n",
       "        21200.,  20900.,  20900.,  20700.,  20600.,  20600.,  20500.,\n",
       "        20400.,  20400.,  20100.,  20000.,  19900.,  19800.,  19800.,\n",
       "        19700.,  19500.,  19500.,  19500.,  19500.,  19400.,  19300.,\n",
       "        19300.,  19200.,  19200.,  19200.,  19100.,  18900.,  18800.,\n",
       "        18700.,  18700.,  18700.,  18600.,  18600.,  18600.,  18300.,\n",
       "        18300.,  18200.,  18200.,  18000.,  18000.,  18000.,  18000.,\n",
       "        17800.,  17800.,  17800.,  17600.,  17600.,  17600.,  17500.,\n",
       "        17500.,  17400.,  17400.,  17300.,  17300.,  17200.,  17200.,\n",
       "        17200.,  17100.,  17100.,  17000.,  17000.,  17000.,  17000.,\n",
       "        16900.,  16900.,  16900.,  16800.,  16700.,  16700.,  16600.,\n",
       "        16600.,  16600.,  16500.,  16500.,  16500.,  16500.,  16400.,\n",
       "        16400.,  16400.,  16400.,  16400.,  16300.,  16300.,  16100.,\n",
       "        16100.,  16100.,  16100.,  15900.,  15900.,  15900.,  15700.,\n",
       "        15700.,  15700.,  15700.,  15600.,  15600.,  15600.,  15500.,\n",
       "        15500.,  15400.,  15400.,  15400.,  15300.,  15200.,  15200.,\n",
       "        15200.,  15100.,  15100.,  15100.,  15100.,  15100.,  15000.,\n",
       "        14900.,  14900.,  14900.,  14900.,  14800.,  14800.,  14800.,\n",
       "        14800.,  14800.,  14700.,  14700.,  14700.,  14700.,  14700.,\n",
       "        14700.,  14600.,  14600.,  14600.,  14600.,  14600.,  14500.,\n",
       "        14400.,  14400.,  14400.,  14300.,  14300.,  14300.,  14200.,\n",
       "        14200.,  14200.,  14200.,  14100.,  14100.,  14100.,  14000.,\n",
       "        14000.,  14000.,  14000.,  14000.,  13900.,  13900.,  13900.,\n",
       "        13800.,  13800.,  13800.,  13800.,  13700.,  13700.,  13700.,\n",
       "        13600.,  13600.,  13600.,  13600.,  13500.,  13500.,  13500.,\n",
       "        13400.,  13400.,  13400.,  13400.,  13400.,  13400.,  13300.,\n",
       "        13300.,  13300.,  13300.,  13200.,  13200.,  13100.,  13100.,\n",
       "        13100.,  13000.,  13000.,  13000.,  13000.,  13000.,  12900.,\n",
       "        12900.,  12800.,  12800.,  12800.,  12800.,  12700.,  12700.,\n",
       "        12600.,  12600.,  12600.,  12600.,  12600.,  12600.,  12600.,\n",
       "        12500.,  12500.,  12500.,  12500.,  12400.,  12400.,  12400.,\n",
       "        12400.,  12400.,  12300.,  12300.,  12200.,  12200.,  12200.,\n",
       "        12200.,  12200.,  12200.,  12100.,  12100.,  12100.,  12100.,\n",
       "        12000.,  12000.,  12000.,  12000.,  11900.,  11800.,  11800.,\n",
       "        11700.,  11700.,  11700.,  11700.,  11700.,  11700.,  11700.,\n",
       "        11700.,  11600.,  11600.,  11600.,  11600.,  11600.,  11500.,\n",
       "        11500.,  11500.,  11500.,  11500.,  11500.,  11400.,  11400.,\n",
       "        11300.,  11300.,  11300.,  11300.,  11200.,  11200.,  11200.,\n",
       "        11200.,  11200.,  11200.,  11100.,  11100.,  11100.,  11000.,\n",
       "        11000.,  11000.,  10900.,  10900.,  10900.,  10900.,  10900.,\n",
       "        10900.,  10900.,  10900.,  10900.,  10800.,  10800.,  10800.,\n",
       "        10800.,  10700.,  10700.,  10700.,  10700.,  10600.,  10600.,\n",
       "        10600.,  10600.,  10600.,  10600.,  10500.,  10500.,  10500.,\n",
       "        10500.,  10500.,  10500.,  10500.,  10500.,  10500.,  10500.,\n",
       "        10500.,  10500.,  10400.,  10400.,  10400.,  10400.,  10400.,\n",
       "        10400.,  10400.,  10400.,  10400.,  10400.,  10300.,  10300.,\n",
       "        10100.,  10000.,  10000.,  10000.,  10000.,  10000.,  10000.,\n",
       "        10000.,  10000.,  10000.,  10000.,  10000.,  10000.,  10000.,\n",
       "        10000.,  10000.,   9900.,   9900.,   9900.,   9900.,   9900.,\n",
       "         9900.,   9900.,   9900.,   9900.,   9900.,   9800.,   9800.,\n",
       "         9800.,   9800.,   9800.,   9800.,   9800.,   9800.,   9800.,\n",
       "         9800.,   9800.,   9700.,   9700.,   9700.,   9700.,   9700.,\n",
       "         9700.,   9700.,   9700.,   9700.,   9700.,   9700.,   9700.,\n",
       "         9700.,   9700.,   9700.,   9600.,   9600.,   9600.,   9600.,\n",
       "         9600.,   9600.,   9600.,   9600.,   9600.,   9600.,   9600.,\n",
       "         9500.,   9500.,   9500.,   9500.,   9500.,   9500.,   9500.,\n",
       "         9500.,   9500.,   9500.,   9500.,   9500.,   9500.,   9500.,\n",
       "         9500.,   9400.,   9400.,   9400.,   9400.,   9400.,   9400.,\n",
       "         9400.,   9400.,   9400.,   9400.,   9400.,   9400.,   9400.,\n",
       "         9300.,   9300.,   9300.,   9300.,   9300.,   9300.,   9300.,\n",
       "         9300.,   9300.,   9200.,   9200.,   9200.,   9200.,   9200.,\n",
       "         9200.,   9200.,   9200.,   9200.,   9200.,   9200.,   9200.,\n",
       "         9200.,   9200.,   9200.,   9200.,   9100.,   9100.,   9100.,\n",
       "         9100.,   9100.,   9100.,   9100.,   9100.,   9100.,   9100.,\n",
       "         9100.,   9100.,   9100.,   9000.,   9000.,   9000.,   9000.,\n",
       "         9000.,   9000.,   9000.,   9000.,   9000.,   9000.,   9000.,\n",
       "         9000.,   9000.,   8900.,   8900.,   8900.,   8900.,   8900.,\n",
       "         8900.,   8900.,   8900.,   8900.,   8900.,   8800.,   8800.,\n",
       "         8800.,   8800.,   8800.,   8800.,   8800.,   8800.,   8800.,\n",
       "         8700.,   8700.,   8700.,   8700.,   8700.,   8700.,   8700.,\n",
       "         8700.,   8700.,   8600.,   8600.,   8600.,   8600.,   8600.,\n",
       "         8600.,   8600.,   8600.,   8600.,   8600.,   8600.,   8600.,\n",
       "         8500.,   8500.,   8500.,   8500.,   8500.,   8500.,   8500.,\n",
       "         8500.,   8500.,   8400.,   8400.,   8400.,   8400.,   8400.,\n",
       "         8400.,   8400.,   8400.,   8400.,   8400.,   8400.,   8400.,\n",
       "         8400.,   8400.,   8400.,   8400.,   8300.,   8300.,   8300.,\n",
       "         8300.,   8300.,   8300.,   8300.,   8300.,   8300.,   8300.,\n",
       "         8300.,   8300.,   8300.,   8300.,   8300.,   8200.,   8200.,\n",
       "         8200.,   8200.,   8200.,   8200.,   8200.,   8200.,   8200.,\n",
       "         8200.,   8200.,   8200.,   8200.,   8200.,   8200.,   8200.,\n",
       "         8200.,   8200.,   8200.,   8200.,   8100.,   8100.,   8100.,\n",
       "         8100.,   8100.,   8100.,   8100.,   8100.,   8100.,   8000.,\n",
       "         8000.,   8000.,   8000.,   8000.,   8000.,   8000.,   8000.,\n",
       "         8000.,   8000.,   8000.,   8000.,   8000.,   8000.,   8000.,\n",
       "         8000.,   7900.,   7900.,   7900.,   7900.,   7900.,   7900.,\n",
       "         7900.,   7900.,   7900.,   7900.,   7900.,   7900.,   7900.,\n",
       "         7900.,   7900.,   7900.,   7900.,   7900.,   7900.,   7800.,\n",
       "         7800.,   7800.,   7800.,   7800.,   7800.,   7800.,   7800.,\n",
       "         7800.,   7800.,   7800.,   7800.,   7800.,   7800.,   7800.,\n",
       "         7800.,   7800.,   7800.,   7800.,   7800.,   7800.,   7800.,\n",
       "         7800.,   7800.,   7800.,   7800.,   7800.,   7700.,   7700.,\n",
       "         7700.,   7700.,   7700.,   7700.,   7700.,   7700.,   7700.,\n",
       "         7700.,   7700.,   7700.,   7700.,   7700.,   7700.,   7700.,\n",
       "         7700.,   7700.,   7600.,   7600.,   7600.,   7600.,   7600.,\n",
       "         7600.,   7600.,   7600.,   7600.,   7600.,   7600.,   7600.,\n",
       "         7600.,   7600.,   7500.,   7500.,   7500.,   7500.,   7500.,\n",
       "         7500.,   7500.,   7500.,   7500.,   7500.,   7500.,   7500.,\n",
       "         7500.,   7500.,   7500.,   7500.,   7500.,   7400.,   7400.,\n",
       "         7400.,   7400.,   7400.,   7400.,   7400.,   7400.,   7400.,\n",
       "         7400.,   7400.,   7400.,   7400.,   7400.,   7400.,   7400.,\n",
       "         7300.,   7300.,   7300.,   7300.,   7300.,   7300.,   7300.,\n",
       "         7300.,   7300.,   7300.,   7300.,   7300.,   7300.,   7300.,\n",
       "         7300.,   7300.,   7300.,   7300.,   7300.,   7300.,   7300.,\n",
       "         7200.,   7200.,   7200.,   7200.,   7200.,   7200.,   7200.,\n",
       "         7200.,   7200.,   7200.,   7200.,   7200.,   7100.,   7100.,\n",
       "         7100.,   7100.,   7100.,   7100.,   7100.,   7100.,   7100.,\n",
       "         7000.,   7000.,   7000.,   7000.,   7000.,   7000.,   7000.,\n",
       "         7000.,   7000.,   7000.,   7000.,   7000.,   7000.,   7000.,\n",
       "         7000.,   7000.,   7000.,   7000.,   7000.,   7000.,   7000.,\n",
       "         7000.,   6900.,   6900.,   6900.,   6900.,   6900.,   6900.,\n",
       "         6900.,   6900.,   6900.,   6900.,   6900.,   6900.,   6900.,\n",
       "         6900.,   6900.,   6900.,   6900.,   6900.,   6900.,   6900.,\n",
       "         6800.,   6800.,   6800.,   6800.,   6800.,   6800.,   6800.,\n",
       "         6800.,   6800.,   6800.,   6800.,   6800.,   6800.,   6800.,\n",
       "         6800.,   6800.,   6800.,   6800.,   6800.,   6800.,   6800.,\n",
       "         6800.,   6800.,   6700.,   6700.,   6700.,   6700.,   6700.,\n",
       "         6700.,   6700.,   6700.,   6700.,   6700.,   6700.,   6700.,\n",
       "         6700.,   6700.,   6700.,   6700.,   6700.,   6700.,   6700.,\n",
       "         6600.,   6600.,   6600.,   6600.,   6600.,   6600.,   6600.,\n",
       "         6600.,   6600.,   6600.,   6600.,   6600.,   6600.,   6600.,\n",
       "         6600.,   6600.,   6600.,   6600.,   6600.,   6600.,   6600.,\n",
       "         6500.,   6500.,   6500.,   6500.,   6500.,   6500.,   6500.,\n",
       "         6500.,   6500.,   6500.,   6500.,   6500.,   6500.,   6500.,\n",
       "         6500.,   6500.,   6500.,   6500.,   6500.,   6500.,   6500.,\n",
       "         6500.,   6500.,   6500.,   6400.,   6400.,   6400.,   6400.,\n",
       "         6400.,   6400.,   6400.,   6400.,   6400.,   6400.,   6400.])"
      ]
     },
     "execution_count": 82,
     "metadata": {},
     "output_type": "execute_result"
    }
   ],
   "source": [
    "starsR = withRoundedStars.select('Rounded Number').column('Rounded Number')\n",
    "starsR"
   ]
  },
  {
   "cell_type": "code",
   "execution_count": 83,
   "metadata": {},
   "outputs": [
    {
     "data": {
      "text/plain": [
       "array([ 23262,  67527,  32974,  26698,  21590,  22440,  78752,  16014,\n",
       "        22841,  28853,  18152,  17605,  47307,  10403,  18561,  10481,\n",
       "        29171,  18806,  27626,  16072,  13457,   8072,  13437,   5084,\n",
       "        10438,  15564,   7738,  18026,   4944,  14983,  14334,   8795,\n",
       "        21568,  17377,   7762,  13462,   6412,   6853,   3829,   7554,\n",
       "        10040,   8060,   2881,  13137,   8581,  13065,   6629,   1121,\n",
       "         9916,   9365,  17314,  12401,   2524,   8646,  13090,   6120,\n",
       "         5333,   6548,   4837,   8079,  10095,   7649,   4402,  13212,\n",
       "         5679,  19659,   2395,   7446,   5776,  15145,   6906,   6177,\n",
       "        21382,   4544,   5863,  15604,   9377,  17583,     10,  10809,\n",
       "        14702,   3471,  15422,  12122,   2523,   7634,   1395,   7849,\n",
       "         6904,   4478,   4038,   5744,   7591,   4442,   6279,   6337,\n",
       "         6620,   3874,   4291,   5789,   6565,   2359,   3959,  13633,\n",
       "         1454,   8191,   5453,   4232,   2626,   3034,   7667,   5793,\n",
       "         5663,   7388,   6058,   4021,   3668,  17253,   6492,   3792,\n",
       "         2068,   6715,   5608,   9303,  18803,   9725,   1674,   1766,\n",
       "         6319,   1823,   3159,   2725,   7406,   4318,  12122,  17816,\n",
       "         5065,  18894,   6267,   6810,   3291,  19541,  10486,  17638,\n",
       "         4479,   4201,   5504,   2023,   3336,   2920,   4053,  37894,\n",
       "         2423,  12702,   2662,   7070,   3537,   3774,   1874,   4894,\n",
       "         2955,   3560,   2373,   7808,   1252,  13174,   5018,   2075,\n",
       "         7899,   4789,  17323,   3763,   4673,   6197,   3224,   1327,\n",
       "         4269,   9120,   6290,   2271,   3104,   2428,   2567,  30520,\n",
       "         7554,   2457,   3056,    645,   5078,   1716,   2792,   2610,\n",
       "         3010,   2769,   4487,   3332,   4430,   5339,   3551,   3609,\n",
       "         3162,   6086,   3550,   3214,   1861,   2377,   6332,   5335,\n",
       "         4380,   4535,   1185,   1966,   2354,   6032,   2103,   3261,\n",
       "         3113,   4408,   7776,   3934,   4328,   3189,   3454,   2308,\n",
       "         3842,   3072,   3138,   7304,   2311,  19440,   5372,  17960,\n",
       "         1893,  22266,   7765,   2891,   1790,   2244,   3942,   2164,\n",
       "         5747,   1456,   3396,   4926,   7261,   2960,   1418,   2945,\n",
       "         3271,   2313,   8453,   3336,   2009,   2656,   3622,   9419,\n",
       "         8213,   1516,   1953,   5843,   6590,   1631,   1499,  24669,\n",
       "         2023,   5096,   3963,   4235,   3607,  27841,   4391,   6007,\n",
       "         1094,   5648,   3485,   1235,   1564,   3825,   2791,   3261,\n",
       "         3207,  20627,   1442,   2691,   1680,   2542,   2451,   1534,\n",
       "         5092,   3741,   1077,   2639,   7372,   3184,   3690,   3578,\n",
       "         3916,   2869,   2069,   2061,   7986,   4095,   2550,   2703,\n",
       "         1869,   1134,   2061,   2159,   1324,   3343,   3207,   6206,\n",
       "         1090,   5357,   2158,   4393,   1057,   1723,   2581,   1753,\n",
       "         1290,   5843,   5638,   2284,   3602,   1914,   1911,   4640,\n",
       "         1025,   4095,   5488,  13405,   3574,   2129,   1260,   5934,\n",
       "          976,   4270,    834,   4867,   5164,   2079,   1884,   2296,\n",
       "         3911,   2775,   1400,   2099,   1865,   3867,   4394,   1678,\n",
       "         1549,    775,   1082,   1647,   6211,   4584,   1749,   3408,\n",
       "         2920,    863,   5952,  19721,   7764,   1631,   1271,   2591,\n",
       "         1145,   1277,   8417,   1507,   1317,   3656,   3906,   1790,\n",
       "         2522,   1621,   1894,   1255,   2340,    982,   2218,   3986,\n",
       "         6864,   1226,   3066,   2338,  14674,   1450,   1703,   3048,\n",
       "         3657,   1465,   2919,   2004,   3679,   8012,   1740,   3492,\n",
       "         1156,   5301,   1297,   1442,   1332,   3050,   2835,    701,\n",
       "         2779,   6799,   3843,    642,   3627,   6846,   1865,  10167,\n",
       "          968,   4563,   2324,   3337,   2556,   1035,   3867,   1548,\n",
       "         1969,   5133,   3117,   1930,   6729,   1108,   1018, 107160,\n",
       "         1219,   8941,    516,   2641,    978,   2221,   2228,   2615,\n",
       "         2835,   1737,   4270,   8035,    521,   3338,   2565,   2375,\n",
       "         2149,   1165,   1471,   5623,    924,   1847,   2018,   8471,\n",
       "         3832,    564,   1548,   1309,   2264,    767,   3061,    794,\n",
       "         4559,    672,   1634,   1318,    922,    927,   1349,    472,\n",
       "         1726,   3647,   1846,   2202,   2432,   1041,   2286,   2834,\n",
       "         3392,   1858,   2049,    756,   1098,   5680,    589,   1746,\n",
       "         1414,   1907,   1364,   3091,   2163,   5557,   5409,   3820,\n",
       "         2561,   2550,   3117,   1094,   2451,   1229,    959,   5430,\n",
       "         2504,   5025,   1948,   2559,    897,   4784,    792,     41,\n",
       "         2011,   8036,    993,   4553,   1423,   1905,   1587,   6186,\n",
       "         2131,   2780,    918,    409,    882,   1202,    640,    465,\n",
       "         1181,   2852,   2014,   1128,   2923,   1553,   2391,   3342,\n",
       "         1610,  19860,    486,   2969,    920,    778,   1372,   1535,\n",
       "         1729,   2018,   7250,   2195,   3249,   1380,   1254,   4235,\n",
       "         3398,    767,   2623,    472,   2835,   1764,   7681,   2045,\n",
       "         9205,    741,   5332,    450,   2017,   3627,   1146,   3190,\n",
       "        15748,    695,   1682,   3404,    852,   2673,   5414,   3640,\n",
       "         1716,   1296,   3648,   2764,   3363,   1083,   1668,    735,\n",
       "         1902,   5273,   1630,   1784,   3239,   1018,   4074,   1029,\n",
       "          761,   1493,   1843,   2071,   3875,   3351,  10322,   2774,\n",
       "         1834,   1395,   1563,   3219,   2298,   1726,   4360,   2806,\n",
       "         1131,   5037,   2875,   1313,   1893,   2823,   1090,   4690,\n",
       "         2472,   1352,   3117,   1633,  12594,   1613,   1688,   6981,\n",
       "         1555,    764,   3401,    718,   3806,   3435,   1852,    890,\n",
       "         1485,   3774,   1411,   5370,   1419,   7370,    266,   1546,\n",
       "         1926,   2535,   2391,   4017,   4993,   3402,   2488,   2742,\n",
       "         1220,   1104,    918,   1267,   2279,   2670,    791,   1692,\n",
       "         2388,   1175,    673,    937,   1114,   1612,    953,   1804,\n",
       "         1164,    399,   4078,   1560,   4674,   1886,   1886,   1109,\n",
       "         1236,   1254,    871,    671,   2811,    626,   1253,    776,\n",
       "         1325,   1220,   1695,   3127,   2187,    871,   1373,   2791,\n",
       "         1007,   2125,    748,   3959,   3359,   1343,   3435,   2676,\n",
       "          842,   1104,   2817,    470,   1062,    649,   1049,   1317,\n",
       "         1575,   2908,    935,  10557,    687,   6174,    878,    836,\n",
       "          832,   1004,   1317,   1185,     31,   1200,   1207,    507,\n",
       "          947,   4722,    662,    832,    469,   2228,   1118,   2026,\n",
       "         2766,   4459,   1646,   7951,   1035,   2768,    955,   1337,\n",
       "          458,    624,    876,    698,   1033,   1121,   1943,   4174,\n",
       "         7175,   2821,   2298,   1109,   2063,    885,   1452,   2114,\n",
       "          841,   2882,    705,   1494,   1742,   1000,    664,   3374,\n",
       "         1583,    798,   2895,   1566,    620,   2486,   1512,   2260,\n",
       "          969,   5259,   5206,    767,   1699,   4905,   6251,   3213,\n",
       "         1143,   2740,   1346,   1906,    588,   6950,    515,    968,\n",
       "         1937,   1158,    567,   3075,    403,   1134,   2529,   3782,\n",
       "          704,    391,   1965,   2134,   1098,   1310,    546,   1498,\n",
       "         1570,    953,    603,   3062,    838,    828,   2844,    708,\n",
       "         1390,    960,    422,    382,   1689,   3270,   2972,    646,\n",
       "         3147,   1698,    233,   1108,   2826,   1704,   2114,   2656,\n",
       "         2059,   1865,   7686,   8514,    663,    491,   3436,    566,\n",
       "         2465,   1344,    693,    540,    846,   1627,    776,    732,\n",
       "         1249,   1483,   3525,   1794,    562,    611,   1167,   3069,\n",
       "         4339,   1850,   1453,   1877,   2344,   2418,   2337,   2177,\n",
       "         2182,   1607,    628,    799,   1362,    957,   1415,    563,\n",
       "         1225,   1043,   4585,    469,    886,   3853,   2977,   1419,\n",
       "         1430,   6581,    885,   1706,  11301,   4776,    959,   5345,\n",
       "         1821,   1069,   1659,   2463,   1705,   2777,    574,   1099,\n",
       "         1687,   1296,   4127,   2678,   2120,   1131,   1802,    395,\n",
       "         1901,   1200,   2243,    528,   1142,    817,    755,      0,\n",
       "          578,   1891,   1090,    439,   1343,    319,   2314,   1062,\n",
       "          629,    613,   1551,   1262,   2328,   1052,   2616,    510,\n",
       "          341,    716,    759,   6643,    319,   2996,   1248,    971,\n",
       "          388,   5722,    961,    582,    587,    958,    660,    577,\n",
       "         1099,   1211,    677,   2286,   1296,   2136,    988,   3999,\n",
       "          800,   2114,    833,   2209,   1273,   6122,   1038,   2260,\n",
       "          805,   1207,      0,   2522,    495,   3178,   1175,   1049,\n",
       "         1493,    761,    392,   1220,    763,   1567,   1078,    953,\n",
       "          556,   1804,   1804,   1148,    897,   1294,   1388,   1080,\n",
       "          288,   1867,   3379,   1608])"
      ]
     },
     "execution_count": 83,
     "metadata": {},
     "output_type": "execute_result"
    }
   ],
   "source": [
    "NumberofForks = repos.select('Number of Forks').column('Number of Forks')\n",
    "NumberofForks"
   ]
  },
  {
   "cell_type": "code",
   "execution_count": 84,
   "metadata": {},
   "outputs": [
    {
     "ename": "NameError",
     "evalue": "name 'scatterDatat' is not defined",
     "output_type": "error",
     "traceback": [
      "\u001b[0;31m---------------------------------------------------------------------------\u001b[0m",
      "\u001b[0;31mNameError\u001b[0m                                 Traceback (most recent call last)",
      "\u001b[0;32m<ipython-input-84-70b30c5a7a7a>\u001b[0m in \u001b[0;36m<module>\u001b[0;34m\u001b[0m\n\u001b[1;32m      3\u001b[0m     \u001b[0;34m'Number of Forks'\u001b[0m\u001b[0;34m,\u001b[0m \u001b[0mNumberofForks\u001b[0m\u001b[0;34m\u001b[0m\u001b[0;34m\u001b[0m\u001b[0m\n\u001b[1;32m      4\u001b[0m )\n\u001b[0;32m----> 5\u001b[0;31m \u001b[0mscatterDatat\u001b[0m\u001b[0;34m.\u001b[0m\u001b[0mshow\u001b[0m\u001b[0;34m(\u001b[0m\u001b[0;36m10\u001b[0m\u001b[0;34m)\u001b[0m\u001b[0;34m\u001b[0m\u001b[0;34m\u001b[0m\u001b[0m\n\u001b[0m",
      "\u001b[0;31mNameError\u001b[0m: name 'scatterDatat' is not defined"
     ]
    }
   ],
   "source": [
    "scatterData = Table().with_columns(\n",
    "    'Rounded Number', starsR,\n",
    "    'Number of Forks', NumberofForks\n",
    ")\n",
    "scatterDatat.show(10)"
   ]
  },
  {
   "cell_type": "code",
   "execution_count": null,
   "metadata": {},
   "outputs": [],
   "source": []
  },
  {
   "cell_type": "markdown",
   "metadata": {},
   "source": [
    "### Q4.2: Remove extreme values\n",
    "\n",
    "In order to have a better graph we are going to filter out extreme values\n",
    "Create a table where Rounded Number of stars are below 100000 and Number of Forks bellow 10000\n",
    "Then create a new scatter graph "
   ]
  },
  {
   "cell_type": "code",
   "execution_count": 187,
   "metadata": {},
   "outputs": [
    {
     "data": {
      "text/plain": [
       "Ellipsis"
      ]
     },
     "execution_count": 187,
     "metadata": {},
     "output_type": "execute_result"
    }
   ],
   "source": [
    "withoutExtremes = ...\n",
    "withoutExtremes"
   ]
  },
  {
   "cell_type": "markdown",
   "metadata": {},
   "source": [
    "### Q4.3: How are the stars distributed?\n",
    "\n",
    "In order to find that out create a histogram with the number of stars\n",
    "\n",
    "Hint Lab04 `Q4.1`"
   ]
  },
  {
   "cell_type": "code",
   "execution_count": null,
   "metadata": {},
   "outputs": [],
   "source": []
  },
  {
   "cell_type": "code",
   "execution_count": null,
   "metadata": {},
   "outputs": [],
   "source": []
  },
  {
   "cell_type": "code",
   "execution_count": null,
   "metadata": {},
   "outputs": [],
   "source": []
  },
  {
   "cell_type": "markdown",
   "metadata": {},
   "source": [
    "### Q4.4: Wich users appear the most in the dataset?\n",
    "\n",
    "Plot a bar chart with the top 10 user at the top"
   ]
  },
  {
   "cell_type": "code",
   "execution_count": null,
   "metadata": {},
   "outputs": [],
   "source": []
  },
  {
   "cell_type": "code",
   "execution_count": null,
   "metadata": {},
   "outputs": [],
   "source": []
  },
  {
   "cell_type": "code",
   "execution_count": null,
   "metadata": {},
   "outputs": [],
   "source": []
  },
  {
   "cell_type": "markdown",
   "metadata": {},
   "source": [
    "### Q4.5: Wich users have the most amout of stars across thier projects?\n",
    "\n",
    "Create a bar chart with the total amount of stars a user has across the data set\n",
    "then create a bar chart for the top 10 users"
   ]
  },
  {
   "cell_type": "code",
   "execution_count": null,
   "metadata": {},
   "outputs": [],
   "source": []
  },
  {
   "cell_type": "code",
   "execution_count": null,
   "metadata": {},
   "outputs": [],
   "source": []
  },
  {
   "cell_type": "code",
   "execution_count": null,
   "metadata": {},
   "outputs": [],
   "source": []
  },
  {
   "cell_type": "markdown",
   "metadata": {},
   "source": [
    "### Q4.6: What is the avrage amout of stars per language\n",
    "\n",
    "Create a bar chart with that data"
   ]
  },
  {
   "cell_type": "code",
   "execution_count": null,
   "metadata": {},
   "outputs": [],
   "source": []
  },
  {
   "cell_type": "code",
   "execution_count": null,
   "metadata": {},
   "outputs": [],
   "source": []
  },
  {
   "cell_type": "code",
   "execution_count": null,
   "metadata": {},
   "outputs": [],
   "source": []
  }
 ],
 "metadata": {
  "kernelspec": {
   "display_name": "Python 3",
   "language": "python",
   "name": "python3"
  },
  "language_info": {
   "codemirror_mode": {
    "name": "ipython",
    "version": 3
   },
   "file_extension": ".py",
   "mimetype": "text/x-python",
   "name": "python",
   "nbconvert_exporter": "python",
   "pygments_lexer": "ipython3",
   "version": "3.6.7"
  }
 },
 "nbformat": 4,
 "nbformat_minor": 4
}
